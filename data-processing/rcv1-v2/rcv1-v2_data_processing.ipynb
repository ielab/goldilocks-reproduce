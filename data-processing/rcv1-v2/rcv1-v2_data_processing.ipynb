{
 "cells": [
  {
   "cell_type": "markdown",
   "id": "df70b787-8e0a-4493-a6d7-560a105d65dc",
   "metadata": {},
   "source": [
    "# raw material stats"
   ]
  },
  {
   "cell_type": "markdown",
   "id": "a2f55ecb-ffe4-4f88-b9ca-6e6f3e5efebe",
   "metadata": {},
   "source": [
    "`ls > news_dates.txt` **365** (days) of news folders from `19960820` to `19970819`\n",
    "\n",
    "`find . -type f -name \"*.xml\" > id.txt` \n",
    "\n",
    "`wc -l id.txt` raw material (**rcv1**) contains in all `806791` news files in `.xml`"
   ]
  },
  {
   "cell_type": "markdown",
   "id": "a5bd84f4-2a08-4908-8a31-b46d5373a6d4",
   "metadata": {},
   "source": [
    "# data transformation"
   ]
  },
  {
   "cell_type": "markdown",
   "id": "384f4d7b-1b2d-4bc5-862a-4633dfea7bbd",
   "metadata": {},
   "source": [
    "`.xml` > \n",
    "`raw_text.csv`, \n",
    "`rel_info.csv`, \n",
    "`rel_info.pkl`, \n",
    "`sampled-for-bertal.pkl`"
   ]
  },
  {
   "cell_type": "markdown",
   "id": "b4854c9d-0774-4e1c-b9c6-47ef7758ab27",
   "metadata": {},
   "source": [
    "# files involved "
   ]
  },
  {
   "cell_type": "markdown",
   "id": "dc0fd19d-0f76-445b-b39c-ec0b76b4aa9b",
   "metadata": {},
   "source": [
    "**on 45 categories derived from the authors**\n",
    "\n",
    "`categories_from_author.csv` tables from original authors (sheet1 with code info, sheet2 clear version)\n",
    "\n",
    "`categories.csv` 45 categories rearranged from hierarchy based on original author's table\n",
    "\n",
    "`goldilocks_categories.txt` 45 categories rearranged sequentially from hierarchy"
   ]
  },
  {
   "cell_type": "markdown",
   "id": "d1422483-0f54-4a3f-8ed8-55a90ef6bb65",
   "metadata": {},
   "source": [
    "**derived from original rcv1 datasets requested from NIST**\n",
    "\n",
    "`id.txt` paths of rcv1 news files for getting the news_ids \n",
    "\n",
    "`rcv1_path.txt` paths of rcv1 news files for parsing paths of news files for parsing \n",
    "\n",
    "`rcv1v2_ids.dat` news_ids in rcv1-v2 (total 804414)"
   ]
  },
  {
   "cell_type": "markdown",
   "id": "0f54f938-390e-431c-ad95-31d6fc836970",
   "metadata": {},
   "source": [
    "**generaed additional files during data processing**\n",
    "\n",
    "`rcv1_id.txt` news_ids of rcv1\n",
    "\n",
    "`rcv1v2.pkl`  dataframe of the rcv1v2 (804414, codes rectified)\n",
    "\n",
    "\n",
    "`rcv1v2_downsampled.txt` 160833 news_ids of the downsampled for experiment\n"
   ]
  },
  {
   "cell_type": "code",
   "execution_count": null,
   "id": "49ce7ae1-8067-473e-a369-47d802f35fcb",
   "metadata": {},
   "outputs": [],
   "source": [
    "import os\n",
    "import pandas as pd\n",
    "import numpy as np\n",
    "import xml.dom.minidom\n",
    "from xml.etree import ElementTree as ET\n",
    "from tqdm import tqdm\n",
    "from rcv1_v2_processing import getSubDir, get_xml_data, get_xml_csv"
   ]
  },
  {
   "cell_type": "code",
   "execution_count": 67,
   "id": "57dee40f-44a0-420a-9112-5de90d8aaf52",
   "metadata": {},
   "outputs": [],
   "source": [
    "rcv1_ids = [line.strip() for line in open(\"./goldilocks_reproduce/reuters/id.txt\").readlines()]"
   ]
  },
  {
   "cell_type": "code",
   "execution_count": 8,
   "id": "c0517761-6b16-41eb-8bf4-2bc17604e865",
   "metadata": {},
   "outputs": [],
   "source": [
    "rcv1v2_ids = [line.strip() for line in open(\"./goldilocks_reproduce/reuters/rcv1v2-ids.dat\").readlines()]"
   ]
  },
  {
   "cell_type": "code",
   "execution_count": 165,
   "id": "e110409f-dacf-4a2d-8240-855e50563068",
   "metadata": {},
   "outputs": [],
   "source": [
    "rcv1_path = [line.strip() for line in open(\"./goldilocks_reproduce/reuters/rcv1_path.txt\").readlines()]"
   ]
  },
  {
   "cell_type": "markdown",
   "id": "9b607c64-24dc-48cc-acd8-8ce71d59f05d",
   "metadata": {
    "tags": []
   },
   "source": [
    "remove path of other files in `rcv1_path.txt`"
   ]
  },
  {
   "cell_type": "code",
   "execution_count": 166,
   "id": "6ad92202-287f-485c-9dca-7445b2667010",
   "metadata": {},
   "outputs": [
    {
     "data": {
      "text/plain": [
       "807169"
      ]
     },
     "execution_count": 166,
     "metadata": {},
     "output_type": "execute_result"
    }
   ],
   "source": [
    "rcv1_path.index('19960820')"
   ]
  },
  {
   "cell_type": "code",
   "execution_count": 168,
   "id": "2e77d053-af7d-44ed-9385-e844091359a7",
   "metadata": {},
   "outputs": [],
   "source": [
    "del rcv1_path[807169: ]"
   ]
  },
  {
   "cell_type": "code",
   "execution_count": 176,
   "id": "42d18727-74b5-47d0-bd24-daa505906f90",
   "metadata": {},
   "outputs": [],
   "source": [
    "del rcv1_path[-12:]"
   ]
  },
  {
   "cell_type": "code",
   "execution_count": 179,
   "id": "b81eba2d-e3c8-4976-bdcb-baff49ae9954",
   "metadata": {},
   "outputs": [],
   "source": [
    "del rcv1_path[0]"
   ]
  },
  {
   "cell_type": "code",
   "execution_count": 170,
   "id": "5505827f-0d3a-491f-a736-ccfb07315a42",
   "metadata": {},
   "outputs": [],
   "source": [
    "for date in rcv1_dates:\n",
    "    date_path = './'+date\n",
    "    if date_path in rcv1_path:\n",
    "        idx = rcv1_path.index(date_path)\n",
    "        del rcv1_path[idx]"
   ]
  },
  {
   "cell_type": "code",
   "execution_count": 171,
   "id": "1a76cee2-de10-4739-998f-8b666be9103d",
   "metadata": {},
   "outputs": [],
   "source": [
    "rcv1_path.sort()"
   ]
  },
  {
   "cell_type": "code",
   "execution_count": 181,
   "id": "213470f4-40fd-4e52-8de8-bc48c3a57894",
   "metadata": {},
   "outputs": [
    {
     "data": {
      "text/plain": [
       "806791"
      ]
     },
     "execution_count": 181,
     "metadata": {},
     "output_type": "execute_result"
    }
   ],
   "source": [
    "len(rcv1_path)"
   ]
  },
  {
   "cell_type": "code",
   "execution_count": 69,
   "id": "943ae807-38df-4802-a2ff-d3592e602388",
   "metadata": {},
   "outputs": [
    {
     "data": {
      "text/plain": [
       "806791"
      ]
     },
     "execution_count": 69,
     "metadata": {},
     "output_type": "execute_result"
    }
   ],
   "source": [
    "len(rcv1_ids)"
   ]
  },
  {
   "cell_type": "code",
   "execution_count": 182,
   "id": "e95d7c06-6a31-4a68-af6b-4e273def5fc2",
   "metadata": {},
   "outputs": [
    {
     "data": {
      "text/plain": [
       "True"
      ]
     },
     "execution_count": 182,
     "metadata": {},
     "output_type": "execute_result"
    }
   ],
   "source": [
    "set(rcv1_path) == set(rcv1_ids)"
   ]
  },
  {
   "cell_type": "code",
   "execution_count": 9,
   "id": "fbb70a03-2993-483e-b3c7-7c83ac9d0c7e",
   "metadata": {},
   "outputs": [
    {
     "data": {
      "text/plain": [
       "804414"
      ]
     },
     "execution_count": 9,
     "metadata": {},
     "output_type": "execute_result"
    }
   ],
   "source": [
    "len(rcv1v2_ids)"
   ]
  },
  {
   "cell_type": "code",
   "execution_count": 93,
   "id": "fb259030-0387-4f88-b30d-5f1f99ffc860",
   "metadata": {},
   "outputs": [
    {
     "data": {
      "text/plain": [
       "'./19961119/200469newsML.xml'"
      ]
     },
     "execution_count": 93,
     "metadata": {},
     "output_type": "execute_result"
    }
   ],
   "source": [
    "rcv1_ids[0]"
   ]
  },
  {
   "cell_type": "code",
   "execution_count": 94,
   "id": "23e9dafd-0725-48b4-849d-06f1e012fc6d",
   "metadata": {},
   "outputs": [
    {
     "name": "stderr",
     "output_type": "stream",
     "text": [
      "100%|█████████████████████████████| 806791/806791 [00:00<00:00, 906433.30it/s]\n"
     ]
    }
   ],
   "source": [
    "rcv1_id = []\n",
    "for _id in tqdm(rcv1_ids):\n",
    "    name = re.search(r\"([^/]*$)\", _id).group().strip('newsML.xml')\n",
    "    rcv1_id.append(name)"
   ]
  },
  {
   "cell_type": "markdown",
   "id": "4aef6a46-2fe1-45c6-b461-cb17c2e7cccc",
   "metadata": {},
   "source": [
    "record the doc ids dropped from rcv1 to get rcv1-v2"
   ]
  },
  {
   "cell_type": "code",
   "execution_count": 100,
   "id": "e49b0d69-4d63-4ddc-8f2b-e0444801a8d1",
   "metadata": {},
   "outputs": [],
   "source": [
    "drop_ids = set(rcv1_id).difference(set(rcv1v2_ids))"
   ]
  },
  {
   "cell_type": "code",
   "execution_count": 101,
   "id": "d36aa6b2-bbe6-4b29-a158-0687d77c96f2",
   "metadata": {},
   "outputs": [
    {
     "data": {
      "text/plain": [
       "True"
      ]
     },
     "execution_count": 101,
     "metadata": {},
     "output_type": "execute_result"
    }
   ],
   "source": [
    "len(drop_ids) == 806791 - 804414"
   ]
  },
  {
   "cell_type": "code",
   "execution_count": 102,
   "id": "650d3ca8-a51c-4dbc-96cd-640089efccb7",
   "metadata": {},
   "outputs": [],
   "source": [
    "with open(\"./goldilocks_reproduce/reuters/drop_ids.txt\", \"a\") as f:\n",
    "    for _id in drop_ids:\n",
    "        f.write(_id+'\\n')"
   ]
  },
  {
   "cell_type": "code",
   "execution_count": 103,
   "id": "2c32d202-3fd9-475d-b5bb-488aed95fbda",
   "metadata": {},
   "outputs": [],
   "source": [
    "with open(\"./goldilocks_reproduce/reuters/rcv1_id.txt\", \"a\") as f:\n",
    "    for _id in rcv1_id:\n",
    "        f.write(_id+'\\n')"
   ]
  },
  {
   "cell_type": "code",
   "execution_count": 122,
   "id": "7cf1c7e5-c3d4-4d59-81fb-4ccbdd4ecbfc",
   "metadata": {},
   "outputs": [
    {
     "data": {
      "text/plain": [
       "2377"
      ]
     },
     "execution_count": 122,
     "metadata": {},
     "output_type": "execute_result"
    }
   ],
   "source": [
    "len(drop_ids)"
   ]
  },
  {
   "cell_type": "code",
   "execution_count": 223,
   "id": "ffeaa1ab-36c2-4769-a119-43e77d13fc05",
   "metadata": {},
   "outputs": [],
   "source": [
    "rcv1v2_path = rcv1_path.copy()"
   ]
  },
  {
   "cell_type": "code",
   "execution_count": 363,
   "id": "9d24fad3-22a4-493f-b847-60e9e6680652",
   "metadata": {},
   "outputs": [
    {
     "name": "stderr",
     "output_type": "stream",
     "text": [
      "100%|███████████████████████████████| 804414/804414 [02:36<00:00, 5147.47it/s]\n"
     ]
    }
   ],
   "source": [
    "_dict = {\"news_id\":[],\"title\":[], \"text\":[],\"code\":[],\"date\":[]}\n",
    "\n",
    "for path in tqdm(rcv1v2_path):\n",
    "    get_xml_csv(path,_dict)"
   ]
  },
  {
   "cell_type": "code",
   "execution_count": null,
   "id": "39a7a711-ddde-4f62-8d81-9e5503ac79fc",
   "metadata": {},
   "outputs": [],
   "source": [
    "df = pd.DataFrame.from_dict(_dict, orient='index')"
   ]
  },
  {
   "cell_type": "code",
   "execution_count": 371,
   "id": "3ef50506-7903-48f7-8e2a-51d238fe6174",
   "metadata": {
    "tags": []
   },
   "outputs": [
    {
     "data": {
      "text/html": [
       "<div>\n",
       "<style scoped>\n",
       "    .dataframe tbody tr th:only-of-type {\n",
       "        vertical-align: middle;\n",
       "    }\n",
       "\n",
       "    .dataframe tbody tr th {\n",
       "        vertical-align: top;\n",
       "    }\n",
       "\n",
       "    .dataframe thead th {\n",
       "        text-align: right;\n",
       "    }\n",
       "</style>\n",
       "<table border=\"1\" class=\"dataframe\">\n",
       "  <thead>\n",
       "    <tr style=\"text-align: right;\">\n",
       "      <th></th>\n",
       "      <th>news_id</th>\n",
       "      <th>title</th>\n",
       "      <th>text</th>\n",
       "      <th>code</th>\n",
       "      <th>date</th>\n",
       "    </tr>\n",
       "  </thead>\n",
       "  <tbody>\n",
       "    <tr>\n",
       "      <th>0</th>\n",
       "      <td>2286</td>\n",
       "      <td>MEXICO: Recovery excitement brings Mexican mar...</td>\n",
       "      <td>Emerging evidence that Mexico's economy was ba...</td>\n",
       "      <td>MEX,E11,ECAT,M11,M12,MCAT</td>\n",
       "      <td>1996-08-20</td>\n",
       "    </tr>\n",
       "    <tr>\n",
       "      <th>1</th>\n",
       "      <td>2287</td>\n",
       "      <td>USA: Chrysler plans new investments in Latin A...</td>\n",
       "      <td>Chrysler Corp. Tuesday announced $380 million ...</td>\n",
       "      <td>ARG,BRAZ,USA,I24700,I34320,I35101,I36400,C24,CCAT</td>\n",
       "      <td>1996-08-20</td>\n",
       "    </tr>\n",
       "    <tr>\n",
       "      <th>2</th>\n",
       "      <td>2288</td>\n",
       "      <td>USA: CompuServe reports loss, cutting work force.</td>\n",
       "      <td>CompuServe Corp. Tuesday reported a surprising...</td>\n",
       "      <td>USA,I83940,C15,C151,CCAT,E41,ECAT,GCAT,GJOB</td>\n",
       "      <td>1996-08-20</td>\n",
       "    </tr>\n",
       "    <tr>\n",
       "      <th>3</th>\n",
       "      <td>2289</td>\n",
       "      <td>USA: CompuServe reports loss, cutting work force.</td>\n",
       "      <td>CompuServe Corp. Tuesday reported a surprising...</td>\n",
       "      <td>USA,I83940,C15,C151,CCAT</td>\n",
       "      <td>1996-08-20</td>\n",
       "    </tr>\n",
       "    <tr>\n",
       "      <th>4</th>\n",
       "      <td>2290</td>\n",
       "      <td>USA: Planet Hollywood launches credit card.</td>\n",
       "      <td>If dining at Planet Hollywood made you feel li...</td>\n",
       "      <td>USA,I66100,I81501,I83954,C11,C22,CCAT</td>\n",
       "      <td>1996-08-20</td>\n",
       "    </tr>\n",
       "    <tr>\n",
       "      <th>...</th>\n",
       "      <td>...</td>\n",
       "      <td>...</td>\n",
       "      <td>...</td>\n",
       "      <td>...</td>\n",
       "      <td>...</td>\n",
       "    </tr>\n",
       "    <tr>\n",
       "      <th>804409</th>\n",
       "      <td>810592</td>\n",
       "      <td>USA: Teamsters' Carey to hold news conference.</td>\n",
       "      <td>The president of the Teamsters union, Ron Care...</td>\n",
       "      <td>USA,I79010,C42,CCAT,E41,ECAT,GCAT,GJOB</td>\n",
       "      <td>1997-08-19</td>\n",
       "    </tr>\n",
       "    <tr>\n",
       "      <th>804410</th>\n",
       "      <td>810593</td>\n",
       "      <td>USA: UPS says has deal to end Teamsters' strike.</td>\n",
       "      <td>United Parcel Service said on Monday it had re...</td>\n",
       "      <td>USA,GJOB</td>\n",
       "      <td>1997-08-19</td>\n",
       "    </tr>\n",
       "    <tr>\n",
       "      <th>804411</th>\n",
       "      <td>810594</td>\n",
       "      <td>USA: UPS says has tentative deal to end strike.</td>\n",
       "      <td>United Parcel Service said late Monday night i...</td>\n",
       "      <td>USA,I79010,C42,CCAT,E41,ECAT,GCAT,GJOB</td>\n",
       "      <td>1997-08-19</td>\n",
       "    </tr>\n",
       "    <tr>\n",
       "      <th>804412</th>\n",
       "      <td>810595</td>\n",
       "      <td>JAPAN: Asia currency woes hurt region's oil pr...</td>\n",
       "      <td>This year's rash of Asian currency crises come...</td>\n",
       "      <td>INDON,JAP,MALAY,PHLNS,THAIL,C21,C24</td>\n",
       "      <td>1997-08-19</td>\n",
       "    </tr>\n",
       "    <tr>\n",
       "      <th>804413</th>\n",
       "      <td>810596</td>\n",
       "      <td>TAIWAN: Typhoon Winnie kills 25 in Taiwan.</td>\n",
       "      <td>A typhoon that packed high winds and torrentia...</td>\n",
       "      <td>TAIWAN,GDIS,GENV</td>\n",
       "      <td>1997-08-19</td>\n",
       "    </tr>\n",
       "  </tbody>\n",
       "</table>\n",
       "<p>804414 rows × 5 columns</p>\n",
       "</div>"
      ],
      "text/plain": [
       "       news_id                                              title  \\\n",
       "0         2286  MEXICO: Recovery excitement brings Mexican mar...   \n",
       "1         2287  USA: Chrysler plans new investments in Latin A...   \n",
       "2         2288  USA: CompuServe reports loss, cutting work force.   \n",
       "3         2289  USA: CompuServe reports loss, cutting work force.   \n",
       "4         2290        USA: Planet Hollywood launches credit card.   \n",
       "...        ...                                                ...   \n",
       "804409  810592     USA: Teamsters' Carey to hold news conference.   \n",
       "804410  810593   USA: UPS says has deal to end Teamsters' strike.   \n",
       "804411  810594    USA: UPS says has tentative deal to end strike.   \n",
       "804412  810595  JAPAN: Asia currency woes hurt region's oil pr...   \n",
       "804413  810596         TAIWAN: Typhoon Winnie kills 25 in Taiwan.   \n",
       "\n",
       "                                                     text  \\\n",
       "0       Emerging evidence that Mexico's economy was ba...   \n",
       "1       Chrysler Corp. Tuesday announced $380 million ...   \n",
       "2       CompuServe Corp. Tuesday reported a surprising...   \n",
       "3       CompuServe Corp. Tuesday reported a surprising...   \n",
       "4       If dining at Planet Hollywood made you feel li...   \n",
       "...                                                   ...   \n",
       "804409  The president of the Teamsters union, Ron Care...   \n",
       "804410  United Parcel Service said on Monday it had re...   \n",
       "804411  United Parcel Service said late Monday night i...   \n",
       "804412  This year's rash of Asian currency crises come...   \n",
       "804413  A typhoon that packed high winds and torrentia...   \n",
       "\n",
       "                                                     code        date  \n",
       "0                               MEX,E11,ECAT,M11,M12,MCAT  1996-08-20  \n",
       "1       ARG,BRAZ,USA,I24700,I34320,I35101,I36400,C24,CCAT  1996-08-20  \n",
       "2             USA,I83940,C15,C151,CCAT,E41,ECAT,GCAT,GJOB  1996-08-20  \n",
       "3                                USA,I83940,C15,C151,CCAT  1996-08-20  \n",
       "4                   USA,I66100,I81501,I83954,C11,C22,CCAT  1996-08-20  \n",
       "...                                                   ...         ...  \n",
       "804409             USA,I79010,C42,CCAT,E41,ECAT,GCAT,GJOB  1997-08-19  \n",
       "804410                                           USA,GJOB  1997-08-19  \n",
       "804411             USA,I79010,C42,CCAT,E41,ECAT,GCAT,GJOB  1997-08-19  \n",
       "804412                INDON,JAP,MALAY,PHLNS,THAIL,C21,C24  1997-08-19  \n",
       "804413                                   TAIWAN,GDIS,GENV  1997-08-19  \n",
       "\n",
       "[804414 rows x 5 columns]"
      ]
     },
     "execution_count": 371,
     "metadata": {},
     "output_type": "execute_result"
    }
   ],
   "source": [
    "df = df.T\n",
    "df"
   ]
  },
  {
   "cell_type": "code",
   "execution_count": 41,
   "id": "06c317a5-4ebe-4d35-8c6d-6c7823dc284b",
   "metadata": {},
   "outputs": [],
   "source": [
    "df = pd.read_pickle('rcv1v2.pkl')"
   ]
  },
  {
   "cell_type": "code",
   "execution_count": 42,
   "id": "b9b82b8d-e665-49e7-b863-d2c9b2fe6849",
   "metadata": {},
   "outputs": [],
   "source": [
    "del df[\"date\"]"
   ]
  },
  {
   "cell_type": "code",
   "execution_count": 43,
   "id": "64a15cf3-7ce8-48a2-9c40-0b388b5a2ea6",
   "metadata": {},
   "outputs": [],
   "source": [
    "df[\"raw\"] = df[\"title\"].str.cat(df[\"text\"])"
   ]
  },
  {
   "cell_type": "code",
   "execution_count": 44,
   "id": "4fde621d-5408-4386-85eb-a72809922da5",
   "metadata": {},
   "outputs": [],
   "source": [
    "df[\"len\"] = df[\"raw\"].str.len()"
   ]
  },
  {
   "cell_type": "code",
   "execution_count": 46,
   "id": "3576be87-43dd-4d30-85e5-36b7905db1b9",
   "metadata": {},
   "outputs": [],
   "source": [
    "del df[\"title\"]"
   ]
  },
  {
   "cell_type": "code",
   "execution_count": 47,
   "id": "cc764416-b410-4291-92da-b1ac4c6185b4",
   "metadata": {},
   "outputs": [
    {
     "data": {
      "text/html": [
       "<div>\n",
       "<style scoped>\n",
       "    .dataframe tbody tr th:only-of-type {\n",
       "        vertical-align: middle;\n",
       "    }\n",
       "\n",
       "    .dataframe tbody tr th {\n",
       "        vertical-align: top;\n",
       "    }\n",
       "\n",
       "    .dataframe thead th {\n",
       "        text-align: right;\n",
       "    }\n",
       "</style>\n",
       "<table border=\"1\" class=\"dataframe\">\n",
       "  <thead>\n",
       "    <tr style=\"text-align: right;\">\n",
       "      <th></th>\n",
       "      <th>news_id</th>\n",
       "      <th>raw</th>\n",
       "      <th>len</th>\n",
       "      <th>code</th>\n",
       "    </tr>\n",
       "  </thead>\n",
       "  <tbody>\n",
       "    <tr>\n",
       "      <th>0</th>\n",
       "      <td>2286</td>\n",
       "      <td>MEXICO: Recovery excitement brings Mexican mar...</td>\n",
       "      <td>2521</td>\n",
       "      <td>MEX,E11,ECAT,M11,M12,MCAT</td>\n",
       "    </tr>\n",
       "    <tr>\n",
       "      <th>1</th>\n",
       "      <td>2287</td>\n",
       "      <td>USA: Chrysler plans new investments in Latin A...</td>\n",
       "      <td>4051</td>\n",
       "      <td>ARG,BRAZ,USA,I24700,I34320,I35101,I36400,C24,CCAT</td>\n",
       "    </tr>\n",
       "    <tr>\n",
       "      <th>2</th>\n",
       "      <td>2288</td>\n",
       "      <td>USA: CompuServe reports loss, cutting work for...</td>\n",
       "      <td>3048</td>\n",
       "      <td>USA,I83940,C15,C151,CCAT,E41,ECAT,GCAT,GJOB</td>\n",
       "    </tr>\n",
       "    <tr>\n",
       "      <th>3</th>\n",
       "      <td>2289</td>\n",
       "      <td>USA: CompuServe reports loss, cutting work for...</td>\n",
       "      <td>3048</td>\n",
       "      <td>USA,I83940,C15,C151,CCAT</td>\n",
       "    </tr>\n",
       "    <tr>\n",
       "      <th>4</th>\n",
       "      <td>2290</td>\n",
       "      <td>USA: Planet Hollywood launches credit card.If ...</td>\n",
       "      <td>1012</td>\n",
       "      <td>USA,I66100,I81501,I83954,C11,C22,CCAT</td>\n",
       "    </tr>\n",
       "    <tr>\n",
       "      <th>...</th>\n",
       "      <td>...</td>\n",
       "      <td>...</td>\n",
       "      <td>...</td>\n",
       "      <td>...</td>\n",
       "    </tr>\n",
       "    <tr>\n",
       "      <th>804409</th>\n",
       "      <td>810592</td>\n",
       "      <td>USA: Teamsters' Carey to hold news conference....</td>\n",
       "      <td>1152</td>\n",
       "      <td>USA,I79010,C42,CCAT,E41,ECAT,GCAT,GJOB</td>\n",
       "    </tr>\n",
       "    <tr>\n",
       "      <th>804410</th>\n",
       "      <td>810593</td>\n",
       "      <td>USA: UPS says has deal to end Teamsters' strik...</td>\n",
       "      <td>699</td>\n",
       "      <td>USA,GJOB</td>\n",
       "    </tr>\n",
       "    <tr>\n",
       "      <th>804411</th>\n",
       "      <td>810594</td>\n",
       "      <td>USA: UPS says has tentative deal to end strike...</td>\n",
       "      <td>1762</td>\n",
       "      <td>USA,I79010,C42,CCAT,E41,ECAT,GCAT,GJOB</td>\n",
       "    </tr>\n",
       "    <tr>\n",
       "      <th>804412</th>\n",
       "      <td>810595</td>\n",
       "      <td>JAPAN: Asia currency woes hurt region's oil pr...</td>\n",
       "      <td>3941</td>\n",
       "      <td>INDON,JAP,MALAY,PHLNS,THAIL,C21,C24</td>\n",
       "    </tr>\n",
       "    <tr>\n",
       "      <th>804413</th>\n",
       "      <td>810596</td>\n",
       "      <td>TAIWAN: Typhoon Winnie kills 25 in Taiwan.A ty...</td>\n",
       "      <td>1860</td>\n",
       "      <td>TAIWAN,GDIS,GENV</td>\n",
       "    </tr>\n",
       "  </tbody>\n",
       "</table>\n",
       "<p>804414 rows × 4 columns</p>\n",
       "</div>"
      ],
      "text/plain": [
       "       news_id                                                raw   len  \\\n",
       "0         2286  MEXICO: Recovery excitement brings Mexican mar...  2521   \n",
       "1         2287  USA: Chrysler plans new investments in Latin A...  4051   \n",
       "2         2288  USA: CompuServe reports loss, cutting work for...  3048   \n",
       "3         2289  USA: CompuServe reports loss, cutting work for...  3048   \n",
       "4         2290  USA: Planet Hollywood launches credit card.If ...  1012   \n",
       "...        ...                                                ...   ...   \n",
       "804409  810592  USA: Teamsters' Carey to hold news conference....  1152   \n",
       "804410  810593  USA: UPS says has deal to end Teamsters' strik...   699   \n",
       "804411  810594  USA: UPS says has tentative deal to end strike...  1762   \n",
       "804412  810595  JAPAN: Asia currency woes hurt region's oil pr...  3941   \n",
       "804413  810596  TAIWAN: Typhoon Winnie kills 25 in Taiwan.A ty...  1860   \n",
       "\n",
       "                                                     code  \n",
       "0                               MEX,E11,ECAT,M11,M12,MCAT  \n",
       "1       ARG,BRAZ,USA,I24700,I34320,I35101,I36400,C24,CCAT  \n",
       "2             USA,I83940,C15,C151,CCAT,E41,ECAT,GCAT,GJOB  \n",
       "3                                USA,I83940,C15,C151,CCAT  \n",
       "4                   USA,I66100,I81501,I83954,C11,C22,CCAT  \n",
       "...                                                   ...  \n",
       "804409             USA,I79010,C42,CCAT,E41,ECAT,GCAT,GJOB  \n",
       "804410                                           USA,GJOB  \n",
       "804411             USA,I79010,C42,CCAT,E41,ECAT,GCAT,GJOB  \n",
       "804412                INDON,JAP,MALAY,PHLNS,THAIL,C21,C24  \n",
       "804413                                   TAIWAN,GDIS,GENV  \n",
       "\n",
       "[804414 rows x 4 columns]"
      ]
     },
     "execution_count": 47,
     "metadata": {},
     "output_type": "execute_result"
    }
   ],
   "source": [
    "df = df[[\"news_id\", \"raw\", \"len\", \"code\"]]\n",
    "df"
   ]
  },
  {
   "cell_type": "markdown",
   "id": "075782d0-2ab5-40c4-9a46-02bb022b9a86",
   "metadata": {},
   "source": [
    "#### genrate `raw_text.csv`"
   ]
  },
  {
   "cell_type": "code",
   "execution_count": 92,
   "id": "553532a2-8bf5-4445-a051-334c2b4c8e1d",
   "metadata": {},
   "outputs": [],
   "source": [
    "raw_text = df.copy()\n",
    "del raw_text[\"len\"]\n",
    "del raw_text[\"code\"]\n",
    "raw_text.to_csv(\"./raw_text.csv\")"
   ]
  },
  {
   "cell_type": "code",
   "execution_count": 35,
   "id": "23e54fd6-579a-4443-894c-dd6724d155e7",
   "metadata": {},
   "outputs": [],
   "source": [
    "rel_info = df.copy()"
   ]
  },
  {
   "cell_type": "code",
   "execution_count": 78,
   "id": "d72d4e86-6733-4060-8fa2-2204af830590",
   "metadata": {},
   "outputs": [
    {
     "name": "stderr",
     "output_type": "stream",
     "text": [
      "804414it [13:35, 986.44it/s]\n"
     ]
    }
   ],
   "source": [
    "for row in tqdm(rel_info.itertuples()):\n",
    "    for cat in categories:\n",
    "        if cat in row.code:\n",
    "            rel_info.loc[row.Index, cat] = True\n",
    "        else:\n",
    "            rel_info.loc[row.Index, cat] = False"
   ]
  },
  {
   "cell_type": "code",
   "execution_count": 88,
   "id": "2efd7f85-a120-43bd-bd4e-c4ce8150d952",
   "metadata": {},
   "outputs": [
    {
     "data": {
      "text/html": [
       "<div>\n",
       "<style scoped>\n",
       "    .dataframe tbody tr th:only-of-type {\n",
       "        vertical-align: middle;\n",
       "    }\n",
       "\n",
       "    .dataframe tbody tr th {\n",
       "        vertical-align: top;\n",
       "    }\n",
       "\n",
       "    .dataframe thead th {\n",
       "        text-align: right;\n",
       "    }\n",
       "</style>\n",
       "<table border=\"1\" class=\"dataframe\">\n",
       "  <thead>\n",
       "    <tr style=\"text-align: right;\">\n",
       "      <th></th>\n",
       "      <th>news_id</th>\n",
       "      <th>code</th>\n",
       "      <th>ALG</th>\n",
       "      <th>ASIA</th>\n",
       "      <th>BELG</th>\n",
       "      <th>BUL</th>\n",
       "      <th>BURMA</th>\n",
       "      <th>C12</th>\n",
       "      <th>C182</th>\n",
       "      <th>C33</th>\n",
       "      <th>...</th>\n",
       "      <th>I82000</th>\n",
       "      <th>I83100</th>\n",
       "      <th>INDON</th>\n",
       "      <th>ISRAEL</th>\n",
       "      <th>MCDNIA</th>\n",
       "      <th>MEX</th>\n",
       "      <th>POL</th>\n",
       "      <th>RWANDA</th>\n",
       "      <th>SWED</th>\n",
       "      <th>TAIWAN</th>\n",
       "    </tr>\n",
       "  </thead>\n",
       "  <tbody>\n",
       "    <tr>\n",
       "      <th>0</th>\n",
       "      <td>2286</td>\n",
       "      <td>MEX,E11,ECAT,M11,M12,MCAT</td>\n",
       "      <td>False</td>\n",
       "      <td>False</td>\n",
       "      <td>False</td>\n",
       "      <td>False</td>\n",
       "      <td>False</td>\n",
       "      <td>False</td>\n",
       "      <td>False</td>\n",
       "      <td>False</td>\n",
       "      <td>...</td>\n",
       "      <td>False</td>\n",
       "      <td>False</td>\n",
       "      <td>False</td>\n",
       "      <td>False</td>\n",
       "      <td>False</td>\n",
       "      <td>True</td>\n",
       "      <td>False</td>\n",
       "      <td>False</td>\n",
       "      <td>False</td>\n",
       "      <td>False</td>\n",
       "    </tr>\n",
       "    <tr>\n",
       "      <th>1</th>\n",
       "      <td>2287</td>\n",
       "      <td>ARG,BRAZ,USA,I24700,I34320,I35101,I36400,C24,CCAT</td>\n",
       "      <td>False</td>\n",
       "      <td>False</td>\n",
       "      <td>False</td>\n",
       "      <td>False</td>\n",
       "      <td>False</td>\n",
       "      <td>False</td>\n",
       "      <td>False</td>\n",
       "      <td>False</td>\n",
       "      <td>...</td>\n",
       "      <td>False</td>\n",
       "      <td>False</td>\n",
       "      <td>False</td>\n",
       "      <td>False</td>\n",
       "      <td>False</td>\n",
       "      <td>False</td>\n",
       "      <td>False</td>\n",
       "      <td>False</td>\n",
       "      <td>False</td>\n",
       "      <td>False</td>\n",
       "    </tr>\n",
       "    <tr>\n",
       "      <th>2</th>\n",
       "      <td>2288</td>\n",
       "      <td>USA,I83940,C15,C151,CCAT,E41,ECAT,GCAT,GJOB</td>\n",
       "      <td>False</td>\n",
       "      <td>False</td>\n",
       "      <td>False</td>\n",
       "      <td>False</td>\n",
       "      <td>False</td>\n",
       "      <td>False</td>\n",
       "      <td>False</td>\n",
       "      <td>False</td>\n",
       "      <td>...</td>\n",
       "      <td>False</td>\n",
       "      <td>False</td>\n",
       "      <td>False</td>\n",
       "      <td>False</td>\n",
       "      <td>False</td>\n",
       "      <td>False</td>\n",
       "      <td>False</td>\n",
       "      <td>False</td>\n",
       "      <td>False</td>\n",
       "      <td>False</td>\n",
       "    </tr>\n",
       "    <tr>\n",
       "      <th>3</th>\n",
       "      <td>2289</td>\n",
       "      <td>USA,I83940,C15,C151,CCAT</td>\n",
       "      <td>False</td>\n",
       "      <td>False</td>\n",
       "      <td>False</td>\n",
       "      <td>False</td>\n",
       "      <td>False</td>\n",
       "      <td>False</td>\n",
       "      <td>False</td>\n",
       "      <td>False</td>\n",
       "      <td>...</td>\n",
       "      <td>False</td>\n",
       "      <td>False</td>\n",
       "      <td>False</td>\n",
       "      <td>False</td>\n",
       "      <td>False</td>\n",
       "      <td>False</td>\n",
       "      <td>False</td>\n",
       "      <td>False</td>\n",
       "      <td>False</td>\n",
       "      <td>False</td>\n",
       "    </tr>\n",
       "    <tr>\n",
       "      <th>4</th>\n",
       "      <td>2290</td>\n",
       "      <td>USA,I66100,I81501,I83954,C11,C22,CCAT</td>\n",
       "      <td>False</td>\n",
       "      <td>False</td>\n",
       "      <td>False</td>\n",
       "      <td>False</td>\n",
       "      <td>False</td>\n",
       "      <td>False</td>\n",
       "      <td>False</td>\n",
       "      <td>False</td>\n",
       "      <td>...</td>\n",
       "      <td>False</td>\n",
       "      <td>False</td>\n",
       "      <td>False</td>\n",
       "      <td>False</td>\n",
       "      <td>False</td>\n",
       "      <td>False</td>\n",
       "      <td>False</td>\n",
       "      <td>False</td>\n",
       "      <td>False</td>\n",
       "      <td>False</td>\n",
       "    </tr>\n",
       "    <tr>\n",
       "      <th>...</th>\n",
       "      <td>...</td>\n",
       "      <td>...</td>\n",
       "      <td>...</td>\n",
       "      <td>...</td>\n",
       "      <td>...</td>\n",
       "      <td>...</td>\n",
       "      <td>...</td>\n",
       "      <td>...</td>\n",
       "      <td>...</td>\n",
       "      <td>...</td>\n",
       "      <td>...</td>\n",
       "      <td>...</td>\n",
       "      <td>...</td>\n",
       "      <td>...</td>\n",
       "      <td>...</td>\n",
       "      <td>...</td>\n",
       "      <td>...</td>\n",
       "      <td>...</td>\n",
       "      <td>...</td>\n",
       "      <td>...</td>\n",
       "      <td>...</td>\n",
       "    </tr>\n",
       "    <tr>\n",
       "      <th>804409</th>\n",
       "      <td>810592</td>\n",
       "      <td>USA,I79010,C42,CCAT,E41,ECAT,GCAT,GJOB</td>\n",
       "      <td>False</td>\n",
       "      <td>False</td>\n",
       "      <td>False</td>\n",
       "      <td>False</td>\n",
       "      <td>False</td>\n",
       "      <td>False</td>\n",
       "      <td>False</td>\n",
       "      <td>False</td>\n",
       "      <td>...</td>\n",
       "      <td>False</td>\n",
       "      <td>False</td>\n",
       "      <td>False</td>\n",
       "      <td>False</td>\n",
       "      <td>False</td>\n",
       "      <td>False</td>\n",
       "      <td>False</td>\n",
       "      <td>False</td>\n",
       "      <td>False</td>\n",
       "      <td>False</td>\n",
       "    </tr>\n",
       "    <tr>\n",
       "      <th>804410</th>\n",
       "      <td>810593</td>\n",
       "      <td>USA,GJOB</td>\n",
       "      <td>False</td>\n",
       "      <td>False</td>\n",
       "      <td>False</td>\n",
       "      <td>False</td>\n",
       "      <td>False</td>\n",
       "      <td>False</td>\n",
       "      <td>False</td>\n",
       "      <td>False</td>\n",
       "      <td>...</td>\n",
       "      <td>False</td>\n",
       "      <td>False</td>\n",
       "      <td>False</td>\n",
       "      <td>False</td>\n",
       "      <td>False</td>\n",
       "      <td>False</td>\n",
       "      <td>False</td>\n",
       "      <td>False</td>\n",
       "      <td>False</td>\n",
       "      <td>False</td>\n",
       "    </tr>\n",
       "    <tr>\n",
       "      <th>804411</th>\n",
       "      <td>810594</td>\n",
       "      <td>USA,I79010,C42,CCAT,E41,ECAT,GCAT,GJOB</td>\n",
       "      <td>False</td>\n",
       "      <td>False</td>\n",
       "      <td>False</td>\n",
       "      <td>False</td>\n",
       "      <td>False</td>\n",
       "      <td>False</td>\n",
       "      <td>False</td>\n",
       "      <td>False</td>\n",
       "      <td>...</td>\n",
       "      <td>False</td>\n",
       "      <td>False</td>\n",
       "      <td>False</td>\n",
       "      <td>False</td>\n",
       "      <td>False</td>\n",
       "      <td>False</td>\n",
       "      <td>False</td>\n",
       "      <td>False</td>\n",
       "      <td>False</td>\n",
       "      <td>False</td>\n",
       "    </tr>\n",
       "    <tr>\n",
       "      <th>804412</th>\n",
       "      <td>810595</td>\n",
       "      <td>INDON,JAP,MALAY,PHLNS,THAIL,C21,C24</td>\n",
       "      <td>False</td>\n",
       "      <td>False</td>\n",
       "      <td>False</td>\n",
       "      <td>False</td>\n",
       "      <td>False</td>\n",
       "      <td>False</td>\n",
       "      <td>False</td>\n",
       "      <td>False</td>\n",
       "      <td>...</td>\n",
       "      <td>False</td>\n",
       "      <td>False</td>\n",
       "      <td>True</td>\n",
       "      <td>False</td>\n",
       "      <td>False</td>\n",
       "      <td>False</td>\n",
       "      <td>False</td>\n",
       "      <td>False</td>\n",
       "      <td>False</td>\n",
       "      <td>False</td>\n",
       "    </tr>\n",
       "    <tr>\n",
       "      <th>804413</th>\n",
       "      <td>810596</td>\n",
       "      <td>TAIWAN,GDIS,GENV</td>\n",
       "      <td>False</td>\n",
       "      <td>False</td>\n",
       "      <td>False</td>\n",
       "      <td>False</td>\n",
       "      <td>False</td>\n",
       "      <td>False</td>\n",
       "      <td>False</td>\n",
       "      <td>False</td>\n",
       "      <td>...</td>\n",
       "      <td>False</td>\n",
       "      <td>False</td>\n",
       "      <td>False</td>\n",
       "      <td>False</td>\n",
       "      <td>False</td>\n",
       "      <td>False</td>\n",
       "      <td>False</td>\n",
       "      <td>False</td>\n",
       "      <td>False</td>\n",
       "      <td>True</td>\n",
       "    </tr>\n",
       "  </tbody>\n",
       "</table>\n",
       "<p>804414 rows × 47 columns</p>\n",
       "</div>"
      ],
      "text/plain": [
       "       news_id                                               code    ALG  \\\n",
       "0         2286                          MEX,E11,ECAT,M11,M12,MCAT  False   \n",
       "1         2287  ARG,BRAZ,USA,I24700,I34320,I35101,I36400,C24,CCAT  False   \n",
       "2         2288        USA,I83940,C15,C151,CCAT,E41,ECAT,GCAT,GJOB  False   \n",
       "3         2289                           USA,I83940,C15,C151,CCAT  False   \n",
       "4         2290              USA,I66100,I81501,I83954,C11,C22,CCAT  False   \n",
       "...        ...                                                ...    ...   \n",
       "804409  810592             USA,I79010,C42,CCAT,E41,ECAT,GCAT,GJOB  False   \n",
       "804410  810593                                           USA,GJOB  False   \n",
       "804411  810594             USA,I79010,C42,CCAT,E41,ECAT,GCAT,GJOB  False   \n",
       "804412  810595                INDON,JAP,MALAY,PHLNS,THAIL,C21,C24  False   \n",
       "804413  810596                                   TAIWAN,GDIS,GENV  False   \n",
       "\n",
       "         ASIA   BELG    BUL  BURMA    C12   C182    C33  ...  I82000  I83100  \\\n",
       "0       False  False  False  False  False  False  False  ...   False   False   \n",
       "1       False  False  False  False  False  False  False  ...   False   False   \n",
       "2       False  False  False  False  False  False  False  ...   False   False   \n",
       "3       False  False  False  False  False  False  False  ...   False   False   \n",
       "4       False  False  False  False  False  False  False  ...   False   False   \n",
       "...       ...    ...    ...    ...    ...    ...    ...  ...     ...     ...   \n",
       "804409  False  False  False  False  False  False  False  ...   False   False   \n",
       "804410  False  False  False  False  False  False  False  ...   False   False   \n",
       "804411  False  False  False  False  False  False  False  ...   False   False   \n",
       "804412  False  False  False  False  False  False  False  ...   False   False   \n",
       "804413  False  False  False  False  False  False  False  ...   False   False   \n",
       "\n",
       "        INDON  ISRAEL  MCDNIA    MEX    POL  RWANDA   SWED  TAIWAN  \n",
       "0       False   False   False   True  False   False  False   False  \n",
       "1       False   False   False  False  False   False  False   False  \n",
       "2       False   False   False  False  False   False  False   False  \n",
       "3       False   False   False  False  False   False  False   False  \n",
       "4       False   False   False  False  False   False  False   False  \n",
       "...       ...     ...     ...    ...    ...     ...    ...     ...  \n",
       "804409  False   False   False  False  False   False  False   False  \n",
       "804410  False   False   False  False  False   False  False   False  \n",
       "804411  False   False   False  False  False   False  False   False  \n",
       "804412   True   False   False  False  False   False  False   False  \n",
       "804413  False   False   False  False  False   False  False    True  \n",
       "\n",
       "[804414 rows x 47 columns]"
      ]
     },
     "execution_count": 88,
     "metadata": {},
     "output_type": "execute_result"
    }
   ],
   "source": [
    "rel_info"
   ]
  },
  {
   "cell_type": "markdown",
   "id": "415255b3-2d9f-42b5-bd4a-6e96ec7b1029",
   "metadata": {},
   "source": [
    "#### generate `rel_info.csv`, `rel_info.pkl`"
   ]
  },
  {
   "cell_type": "code",
   "execution_count": 89,
   "id": "b3deb66e-89b7-4543-87b2-e7bade33cf47",
   "metadata": {},
   "outputs": [
    {
     "data": {
      "text/html": [
       "<div>\n",
       "<style scoped>\n",
       "    .dataframe tbody tr th:only-of-type {\n",
       "        vertical-align: middle;\n",
       "    }\n",
       "\n",
       "    .dataframe tbody tr th {\n",
       "        vertical-align: top;\n",
       "    }\n",
       "\n",
       "    .dataframe thead th {\n",
       "        text-align: right;\n",
       "    }\n",
       "</style>\n",
       "<table border=\"1\" class=\"dataframe\">\n",
       "  <thead>\n",
       "    <tr style=\"text-align: right;\">\n",
       "      <th></th>\n",
       "      <th>news_id</th>\n",
       "      <th>ALG</th>\n",
       "      <th>ASIA</th>\n",
       "      <th>BELG</th>\n",
       "      <th>BUL</th>\n",
       "      <th>BURMA</th>\n",
       "      <th>C12</th>\n",
       "      <th>C182</th>\n",
       "      <th>C33</th>\n",
       "      <th>CUBA</th>\n",
       "      <th>...</th>\n",
       "      <th>I82000</th>\n",
       "      <th>I83100</th>\n",
       "      <th>INDON</th>\n",
       "      <th>ISRAEL</th>\n",
       "      <th>MCDNIA</th>\n",
       "      <th>MEX</th>\n",
       "      <th>POL</th>\n",
       "      <th>RWANDA</th>\n",
       "      <th>SWED</th>\n",
       "      <th>TAIWAN</th>\n",
       "    </tr>\n",
       "  </thead>\n",
       "  <tbody>\n",
       "    <tr>\n",
       "      <th>0</th>\n",
       "      <td>2286</td>\n",
       "      <td>False</td>\n",
       "      <td>False</td>\n",
       "      <td>False</td>\n",
       "      <td>False</td>\n",
       "      <td>False</td>\n",
       "      <td>False</td>\n",
       "      <td>False</td>\n",
       "      <td>False</td>\n",
       "      <td>False</td>\n",
       "      <td>...</td>\n",
       "      <td>False</td>\n",
       "      <td>False</td>\n",
       "      <td>False</td>\n",
       "      <td>False</td>\n",
       "      <td>False</td>\n",
       "      <td>True</td>\n",
       "      <td>False</td>\n",
       "      <td>False</td>\n",
       "      <td>False</td>\n",
       "      <td>False</td>\n",
       "    </tr>\n",
       "    <tr>\n",
       "      <th>1</th>\n",
       "      <td>2287</td>\n",
       "      <td>False</td>\n",
       "      <td>False</td>\n",
       "      <td>False</td>\n",
       "      <td>False</td>\n",
       "      <td>False</td>\n",
       "      <td>False</td>\n",
       "      <td>False</td>\n",
       "      <td>False</td>\n",
       "      <td>False</td>\n",
       "      <td>...</td>\n",
       "      <td>False</td>\n",
       "      <td>False</td>\n",
       "      <td>False</td>\n",
       "      <td>False</td>\n",
       "      <td>False</td>\n",
       "      <td>False</td>\n",
       "      <td>False</td>\n",
       "      <td>False</td>\n",
       "      <td>False</td>\n",
       "      <td>False</td>\n",
       "    </tr>\n",
       "    <tr>\n",
       "      <th>2</th>\n",
       "      <td>2288</td>\n",
       "      <td>False</td>\n",
       "      <td>False</td>\n",
       "      <td>False</td>\n",
       "      <td>False</td>\n",
       "      <td>False</td>\n",
       "      <td>False</td>\n",
       "      <td>False</td>\n",
       "      <td>False</td>\n",
       "      <td>False</td>\n",
       "      <td>...</td>\n",
       "      <td>False</td>\n",
       "      <td>False</td>\n",
       "      <td>False</td>\n",
       "      <td>False</td>\n",
       "      <td>False</td>\n",
       "      <td>False</td>\n",
       "      <td>False</td>\n",
       "      <td>False</td>\n",
       "      <td>False</td>\n",
       "      <td>False</td>\n",
       "    </tr>\n",
       "    <tr>\n",
       "      <th>3</th>\n",
       "      <td>2289</td>\n",
       "      <td>False</td>\n",
       "      <td>False</td>\n",
       "      <td>False</td>\n",
       "      <td>False</td>\n",
       "      <td>False</td>\n",
       "      <td>False</td>\n",
       "      <td>False</td>\n",
       "      <td>False</td>\n",
       "      <td>False</td>\n",
       "      <td>...</td>\n",
       "      <td>False</td>\n",
       "      <td>False</td>\n",
       "      <td>False</td>\n",
       "      <td>False</td>\n",
       "      <td>False</td>\n",
       "      <td>False</td>\n",
       "      <td>False</td>\n",
       "      <td>False</td>\n",
       "      <td>False</td>\n",
       "      <td>False</td>\n",
       "    </tr>\n",
       "    <tr>\n",
       "      <th>4</th>\n",
       "      <td>2290</td>\n",
       "      <td>False</td>\n",
       "      <td>False</td>\n",
       "      <td>False</td>\n",
       "      <td>False</td>\n",
       "      <td>False</td>\n",
       "      <td>False</td>\n",
       "      <td>False</td>\n",
       "      <td>False</td>\n",
       "      <td>False</td>\n",
       "      <td>...</td>\n",
       "      <td>False</td>\n",
       "      <td>False</td>\n",
       "      <td>False</td>\n",
       "      <td>False</td>\n",
       "      <td>False</td>\n",
       "      <td>False</td>\n",
       "      <td>False</td>\n",
       "      <td>False</td>\n",
       "      <td>False</td>\n",
       "      <td>False</td>\n",
       "    </tr>\n",
       "    <tr>\n",
       "      <th>...</th>\n",
       "      <td>...</td>\n",
       "      <td>...</td>\n",
       "      <td>...</td>\n",
       "      <td>...</td>\n",
       "      <td>...</td>\n",
       "      <td>...</td>\n",
       "      <td>...</td>\n",
       "      <td>...</td>\n",
       "      <td>...</td>\n",
       "      <td>...</td>\n",
       "      <td>...</td>\n",
       "      <td>...</td>\n",
       "      <td>...</td>\n",
       "      <td>...</td>\n",
       "      <td>...</td>\n",
       "      <td>...</td>\n",
       "      <td>...</td>\n",
       "      <td>...</td>\n",
       "      <td>...</td>\n",
       "      <td>...</td>\n",
       "      <td>...</td>\n",
       "    </tr>\n",
       "    <tr>\n",
       "      <th>804409</th>\n",
       "      <td>810592</td>\n",
       "      <td>False</td>\n",
       "      <td>False</td>\n",
       "      <td>False</td>\n",
       "      <td>False</td>\n",
       "      <td>False</td>\n",
       "      <td>False</td>\n",
       "      <td>False</td>\n",
       "      <td>False</td>\n",
       "      <td>False</td>\n",
       "      <td>...</td>\n",
       "      <td>False</td>\n",
       "      <td>False</td>\n",
       "      <td>False</td>\n",
       "      <td>False</td>\n",
       "      <td>False</td>\n",
       "      <td>False</td>\n",
       "      <td>False</td>\n",
       "      <td>False</td>\n",
       "      <td>False</td>\n",
       "      <td>False</td>\n",
       "    </tr>\n",
       "    <tr>\n",
       "      <th>804410</th>\n",
       "      <td>810593</td>\n",
       "      <td>False</td>\n",
       "      <td>False</td>\n",
       "      <td>False</td>\n",
       "      <td>False</td>\n",
       "      <td>False</td>\n",
       "      <td>False</td>\n",
       "      <td>False</td>\n",
       "      <td>False</td>\n",
       "      <td>False</td>\n",
       "      <td>...</td>\n",
       "      <td>False</td>\n",
       "      <td>False</td>\n",
       "      <td>False</td>\n",
       "      <td>False</td>\n",
       "      <td>False</td>\n",
       "      <td>False</td>\n",
       "      <td>False</td>\n",
       "      <td>False</td>\n",
       "      <td>False</td>\n",
       "      <td>False</td>\n",
       "    </tr>\n",
       "    <tr>\n",
       "      <th>804411</th>\n",
       "      <td>810594</td>\n",
       "      <td>False</td>\n",
       "      <td>False</td>\n",
       "      <td>False</td>\n",
       "      <td>False</td>\n",
       "      <td>False</td>\n",
       "      <td>False</td>\n",
       "      <td>False</td>\n",
       "      <td>False</td>\n",
       "      <td>False</td>\n",
       "      <td>...</td>\n",
       "      <td>False</td>\n",
       "      <td>False</td>\n",
       "      <td>False</td>\n",
       "      <td>False</td>\n",
       "      <td>False</td>\n",
       "      <td>False</td>\n",
       "      <td>False</td>\n",
       "      <td>False</td>\n",
       "      <td>False</td>\n",
       "      <td>False</td>\n",
       "    </tr>\n",
       "    <tr>\n",
       "      <th>804412</th>\n",
       "      <td>810595</td>\n",
       "      <td>False</td>\n",
       "      <td>False</td>\n",
       "      <td>False</td>\n",
       "      <td>False</td>\n",
       "      <td>False</td>\n",
       "      <td>False</td>\n",
       "      <td>False</td>\n",
       "      <td>False</td>\n",
       "      <td>False</td>\n",
       "      <td>...</td>\n",
       "      <td>False</td>\n",
       "      <td>False</td>\n",
       "      <td>True</td>\n",
       "      <td>False</td>\n",
       "      <td>False</td>\n",
       "      <td>False</td>\n",
       "      <td>False</td>\n",
       "      <td>False</td>\n",
       "      <td>False</td>\n",
       "      <td>False</td>\n",
       "    </tr>\n",
       "    <tr>\n",
       "      <th>804413</th>\n",
       "      <td>810596</td>\n",
       "      <td>False</td>\n",
       "      <td>False</td>\n",
       "      <td>False</td>\n",
       "      <td>False</td>\n",
       "      <td>False</td>\n",
       "      <td>False</td>\n",
       "      <td>False</td>\n",
       "      <td>False</td>\n",
       "      <td>False</td>\n",
       "      <td>...</td>\n",
       "      <td>False</td>\n",
       "      <td>False</td>\n",
       "      <td>False</td>\n",
       "      <td>False</td>\n",
       "      <td>False</td>\n",
       "      <td>False</td>\n",
       "      <td>False</td>\n",
       "      <td>False</td>\n",
       "      <td>False</td>\n",
       "      <td>True</td>\n",
       "    </tr>\n",
       "  </tbody>\n",
       "</table>\n",
       "<p>804414 rows × 46 columns</p>\n",
       "</div>"
      ],
      "text/plain": [
       "       news_id    ALG   ASIA   BELG    BUL  BURMA    C12   C182    C33   CUBA  \\\n",
       "0         2286  False  False  False  False  False  False  False  False  False   \n",
       "1         2287  False  False  False  False  False  False  False  False  False   \n",
       "2         2288  False  False  False  False  False  False  False  False  False   \n",
       "3         2289  False  False  False  False  False  False  False  False  False   \n",
       "4         2290  False  False  False  False  False  False  False  False  False   \n",
       "...        ...    ...    ...    ...    ...    ...    ...    ...    ...    ...   \n",
       "804409  810592  False  False  False  False  False  False  False  False  False   \n",
       "804410  810593  False  False  False  False  False  False  False  False  False   \n",
       "804411  810594  False  False  False  False  False  False  False  False  False   \n",
       "804412  810595  False  False  False  False  False  False  False  False  False   \n",
       "804413  810596  False  False  False  False  False  False  False  False  False   \n",
       "\n",
       "        ...  I82000  I83100  INDON  ISRAEL  MCDNIA    MEX    POL  RWANDA  \\\n",
       "0       ...   False   False  False   False   False   True  False   False   \n",
       "1       ...   False   False  False   False   False  False  False   False   \n",
       "2       ...   False   False  False   False   False  False  False   False   \n",
       "3       ...   False   False  False   False   False  False  False   False   \n",
       "4       ...   False   False  False   False   False  False  False   False   \n",
       "...     ...     ...     ...    ...     ...     ...    ...    ...     ...   \n",
       "804409  ...   False   False  False   False   False  False  False   False   \n",
       "804410  ...   False   False  False   False   False  False  False   False   \n",
       "804411  ...   False   False  False   False   False  False  False   False   \n",
       "804412  ...   False   False   True   False   False  False  False   False   \n",
       "804413  ...   False   False  False   False   False  False  False   False   \n",
       "\n",
       "         SWED  TAIWAN  \n",
       "0       False   False  \n",
       "1       False   False  \n",
       "2       False   False  \n",
       "3       False   False  \n",
       "4       False   False  \n",
       "...       ...     ...  \n",
       "804409  False   False  \n",
       "804410  False   False  \n",
       "804411  False   False  \n",
       "804412  False   False  \n",
       "804413  False    True  \n",
       "\n",
       "[804414 rows x 46 columns]"
      ]
     },
     "execution_count": 89,
     "metadata": {},
     "output_type": "execute_result"
    }
   ],
   "source": [
    "rel_info1 = rel_info.copy()\n",
    "del rel_info1[\"code\"]\n",
    "rel_info1"
   ]
  },
  {
   "cell_type": "code",
   "execution_count": 90,
   "id": "285e0471-3f39-4c03-bd5e-1b0a7b88ff63",
   "metadata": {},
   "outputs": [],
   "source": [
    "rel_info1.to_csv(\"./rel_info.csv\")\n",
    "rel_info1.to_pickle(\"./rel_info.pkl\")"
   ]
  },
  {
   "cell_type": "code",
   "execution_count": 9,
   "id": "3657f60d-ba71-41ea-93f0-cb890a0dbe4b",
   "metadata": {},
   "outputs": [],
   "source": [
    "len_stat = list(df[\"len\"])"
   ]
  },
  {
   "cell_type": "code",
   "execution_count": 10,
   "id": "2599e131-8f4f-440d-9557-8c2c7ba86201",
   "metadata": {},
   "outputs": [
    {
     "data": {
      "text/plain": [
       "804414"
      ]
     },
     "execution_count": 10,
     "metadata": {},
     "output_type": "execute_result"
    }
   ],
   "source": [
    "len(len_stat)"
   ]
  },
  {
   "cell_type": "code",
   "execution_count": 15,
   "id": "6e55108b-8427-4cf0-b32b-552c9162606d",
   "metadata": {},
   "outputs": [
    {
     "name": "stdout",
     "output_type": "stream",
     "text": [
      "568\n",
      "1477.4750762666986\n",
      "1119.0\n"
     ]
    }
   ],
   "source": [
    "print(np.argmax(np.bincount(len_stat)))\n",
    "print(np.mean(len_stat))\n",
    "print(np.median(len_stat))"
   ]
  },
  {
   "cell_type": "code",
   "execution_count": 401,
   "id": "39eedb54-3b4c-4b5c-80af-455aca23dbf8",
   "metadata": {},
   "outputs": [],
   "source": [
    "set1 = set(df[df.loc[:,'code'].str.contains('CZ') == True].index)"
   ]
  },
  {
   "cell_type": "code",
   "execution_count": 402,
   "id": "c2bd263c-09a0-4a7b-8504-2250397f8faa",
   "metadata": {},
   "outputs": [],
   "source": [
    "set2 = set(df[df.loc[:,'code'].str.contains('CZREP') == True].index)"
   ]
  },
  {
   "cell_type": "code",
   "execution_count": 415,
   "id": "a3ace872-9c38-4c51-8b6d-7e95bb07314d",
   "metadata": {},
   "outputs": [
    {
     "data": {
      "text/plain": [
       "Int64Index([133304], dtype='int64')"
      ]
     },
     "execution_count": 415,
     "metadata": {},
     "output_type": "execute_result"
    }
   ],
   "source": [
    "df[df.loc[:,'code'].str.contains('GDR') == True].index"
   ]
  },
  {
   "cell_type": "code",
   "execution_count": 403,
   "id": "d883ccdf-128f-4bad-9f60-b5a46488a0ae",
   "metadata": {},
   "outputs": [
    {
     "data": {
      "text/plain": [
       "{311735, 599226, 705298}"
      ]
     },
     "execution_count": 403,
     "metadata": {},
     "output_type": "execute_result"
    }
   ],
   "source": [
    "set1.difference(set2)"
   ]
  },
  {
   "cell_type": "markdown",
   "id": "5582bfcf-5fef-4368-9b2d-4ee2a65d867b",
   "metadata": {
    "tags": []
   },
   "source": [
    "#### rectify codes from rcv1 to rcv1-v2"
   ]
  },
  {
   "cell_type": "markdown",
   "id": "5320b94d-7cb4-407c-91e6-07225d8bd815",
   "metadata": {},
   "source": [
    "refer to **3.2.3 Region codes** of ***RCV1: A New Benchmark Collection for Text Categorization ResearchRCV1: A New Benchmark Collection for Text Categorization Research***"
   ]
  },
  {
   "cell_type": "markdown",
   "id": "baa09185-1c8a-430f-9c74-7c59450f3ac0",
   "metadata": {},
   "source": [
    "\n",
    "`CZ - CANAL ZONE` (one occurrence: 605159), `CZECH - CZECHOSLOVAKIA` (two occurrences: 711540, 316542), and `GDR - EAST GERMANY` (one occurrence: 137254)\n",
    "\n",
    "into\n",
    "\n",
    "`PANA(PANAMA)`, `CZREP(CZECH REPUBLIC)`, and `GFR(GERMANY)`"
   ]
  },
  {
   "cell_type": "code",
   "execution_count": 416,
   "id": "f2fbd1a9-8e12-4c80-8ecf-65c10532eb54",
   "metadata": {},
   "outputs": [],
   "source": [
    "df.loc[311735,\"code\"] = 'CRTIA,CZREP,HUNG,POL,SLVAK,SLVNIA,M11,MCAT'"
   ]
  },
  {
   "cell_type": "code",
   "execution_count": 426,
   "id": "b2b3e71c-c893-485d-8451-13e8a5f25217",
   "metadata": {},
   "outputs": [
    {
     "data": {
      "text/plain": [
       "'316542'"
      ]
     },
     "execution_count": 426,
     "metadata": {},
     "output_type": "execute_result"
    }
   ],
   "source": [
    "df.loc[311735,\"news_id\"]"
   ]
  },
  {
   "cell_type": "code",
   "execution_count": 420,
   "id": "f9f21cca-51c9-4d27-9d3b-7a47b3b854e0",
   "metadata": {},
   "outputs": [],
   "source": [
    "df.loc[705298,\"code\"] = 'CZREP,HUNG,NATO,POL,SPAIN,I36400,I83960,C33,C331,CCAT,GCAT,GDEF,GDIP'"
   ]
  },
  {
   "cell_type": "code",
   "execution_count": 427,
   "id": "f38e01c1-cbe7-485e-b71c-3496500f7be8",
   "metadata": {},
   "outputs": [
    {
     "data": {
      "text/plain": [
       "'711540'"
      ]
     },
     "execution_count": 427,
     "metadata": {},
     "output_type": "execute_result"
    }
   ],
   "source": [
    "df.loc[705298,\"news_id\"]"
   ]
  },
  {
   "cell_type": "code",
   "execution_count": 423,
   "id": "f153ef4a-effa-4201-a884-fe76a789e83a",
   "metadata": {},
   "outputs": [],
   "source": [
    "df.loc[599226,\"code\"] = 'PANA,USA,I72603,C13,C24,CCAT,GCAT,GENV,GPOL'"
   ]
  },
  {
   "cell_type": "code",
   "execution_count": 428,
   "id": "99415a46-10b9-40b2-941e-871cf0ae42a0",
   "metadata": {},
   "outputs": [
    {
     "data": {
      "text/plain": [
       "'605159'"
      ]
     },
     "execution_count": 428,
     "metadata": {},
     "output_type": "execute_result"
    }
   ],
   "source": [
    "df.loc[599226,\"news_id\"]"
   ]
  },
  {
   "cell_type": "code",
   "execution_count": 425,
   "id": "2cd1c376-ecde-4841-9b01-71373a1eadcf",
   "metadata": {},
   "outputs": [],
   "source": [
    "df.loc[133304,\"code\"] = 'GFR,POL,SWITZ,I81402,C12,C13,CCAT,GCAT,GCRIM,GDIP'"
   ]
  },
  {
   "cell_type": "code",
   "execution_count": 429,
   "id": "75d663ab-2339-47b2-a26b-f4a3d765d95d",
   "metadata": {},
   "outputs": [
    {
     "data": {
      "text/plain": [
       "'137254'"
      ]
     },
     "execution_count": 429,
     "metadata": {},
     "output_type": "execute_result"
    }
   ],
   "source": [
    "df.loc[133304,\"news_id\"]"
   ]
  },
  {
   "cell_type": "code",
   "execution_count": 386,
   "id": "c8de3846-6e91-49e7-ada0-467a0202ffbd",
   "metadata": {},
   "outputs": [],
   "source": [
    "raw_text = pd.read_csv('./rcv1v2.csv')"
   ]
  },
  {
   "cell_type": "code",
   "execution_count": 388,
   "id": "c0d72c8f-92e2-4949-82d2-0fa8274a9095",
   "metadata": {},
   "outputs": [],
   "source": [
    "del raw_text"
   ]
  },
  {
   "cell_type": "code",
   "execution_count": 430,
   "id": "2c57b079-7b67-4a50-878e-7173c8832b26",
   "metadata": {},
   "outputs": [],
   "source": [
    "df.to_pickle(\"../rcv1v2.pkl\")"
   ]
  },
  {
   "cell_type": "markdown",
   "id": "b13e1ca2-04cd-4b8d-8129-08c41bb6c03a",
   "metadata": {},
   "source": [
    "#### generate `sampled-for-bertal.pkl` for the 45 categories"
   ]
  },
  {
   "cell_type": "code",
   "execution_count": 16,
   "id": "bab98980-ad0d-4ff2-9243-53b0b3ed7aa6",
   "metadata": {},
   "outputs": [],
   "source": [
    "categories = []\n",
    "\n",
    "def cat_div(listTemp, n):\n",
    "    for i in range(0, len(listTemp),n):\n",
    "        yield listTemp[i:i+n]\n",
    "\n",
    "with open(\"./categories.csv\")as f:\n",
    "    for line in f:\n",
    "        categories.append(line.split(\"_\")[1].strip(\"\\n\"))\n",
    "    rare_hard = categories[:5]\n",
    "    rare_medium = categories[5:10]\n",
    "    rare_easy = categories[10:15]\n",
    "    medium_hard = categories[15:20]\n",
    "    medium_medium = categories[20:25]\n",
    "    medium_easy = categories[25:30]\n",
    "    common_hard = categories[30:35]\n",
    "    common_medium = categories[35:40]\n",
    "    common_easy = categories[40:]"
   ]
  },
  {
   "cell_type": "code",
   "execution_count": 20,
   "id": "608fc148-c609-4aad-b2ae-26994584685e",
   "metadata": {},
   "outputs": [
    {
     "data": {
      "text/plain": [
       "['ASIA',\n",
       " 'I35102',\n",
       " 'I65100',\n",
       " 'I41300',\n",
       " 'I32200',\n",
       " 'I24000',\n",
       " 'I32830',\n",
       " 'I42600',\n",
       " 'I8150211',\n",
       " 'RWANDA',\n",
       " 'ALG',\n",
       " 'GUAT',\n",
       " 'BURMA',\n",
       " 'CUBA',\n",
       " 'MCDNIA',\n",
       " 'GENV',\n",
       " 'I3302021',\n",
       " 'C182',\n",
       " 'GPRO',\n",
       " 'I82000',\n",
       " 'I22100',\n",
       " 'E513',\n",
       " 'I36400',\n",
       " 'I42900',\n",
       " 'I41000',\n",
       " 'FIN',\n",
       " 'CZREP',\n",
       " 'BUL',\n",
       " 'SWED',\n",
       " 'TAIWAN',\n",
       " 'I83100',\n",
       " 'E12',\n",
       " 'I81501',\n",
       " 'C33',\n",
       " 'I81502',\n",
       " 'C12',\n",
       " 'BELG',\n",
       " 'I21000',\n",
       " 'I1300003',\n",
       " 'I14000',\n",
       " 'INDON',\n",
       " 'MEX',\n",
       " 'ISRAEL',\n",
       " 'POL',\n",
       " 'EEC']"
      ]
     },
     "execution_count": 20,
     "metadata": {},
     "output_type": "execute_result"
    }
   ],
   "source": [
    "categories"
   ]
  },
  {
   "cell_type": "code",
   "execution_count": 21,
   "id": "78a1f607-7fbd-420d-b831-49f283c07110",
   "metadata": {},
   "outputs": [],
   "source": [
    "categories_dict= {\"rare_hard\":rare_hard, \"rare_medium\":rare_medium, \"rare_easy\":rare_easy, \"medium_hard\":medium_hard, \"medium_medium\":medium_medium, \"medium_easy\":medium_easy, \"common_hard\":common_hard, \"common_medium\":common_medium, \"common_easy\":common_easy}"
   ]
  },
  {
   "cell_type": "code",
   "execution_count": 22,
   "id": "0e172ca6-ff7d-4332-99db-5e5344e5f974",
   "metadata": {},
   "outputs": [
    {
     "data": {
      "text/plain": [
       "{'rare_hard': ['ASIA', 'I35102', 'I65100', 'I41300', 'I32200'],\n",
       " 'rare_medium': ['I24000', 'I32830', 'I42600', 'I8150211', 'RWANDA'],\n",
       " 'rare_easy': ['ALG', 'GUAT', 'BURMA', 'CUBA', 'MCDNIA'],\n",
       " 'medium_hard': ['GENV', 'I3302021', 'C182', 'GPRO', 'I82000'],\n",
       " 'medium_medium': ['I22100', 'E513', 'I36400', 'I42900', 'I41000'],\n",
       " 'medium_easy': ['FIN', 'CZREP', 'BUL', 'SWED', 'TAIWAN'],\n",
       " 'common_hard': ['I83100', 'E12', 'I81501', 'C33', 'I81502'],\n",
       " 'common_medium': ['C12', 'BELG', 'I21000', 'I1300003', 'I14000'],\n",
       " 'common_easy': ['INDON', 'MEX', 'ISRAEL', 'POL', 'EEC']}"
      ]
     },
     "execution_count": 22,
     "metadata": {},
     "output_type": "execute_result"
    }
   ],
   "source": [
    "categories_dict"
   ]
  },
  {
   "cell_type": "code",
   "execution_count": 23,
   "id": "eb958c08-6e40-4255-b54f-fb7dea47e06f",
   "metadata": {},
   "outputs": [
    {
     "data": {
      "text/plain": [
       "<function BufferedWriter.close>"
      ]
     },
     "execution_count": 23,
     "metadata": {},
     "output_type": "execute_result"
    }
   ],
   "source": [
    "import pickle\n",
    "dump_file = open(\"./categories_dict.pkl\", \"wb\")\n",
    "pickle.dump(categories_dict, dump_file)\n",
    "dump_file.close()"
   ]
  },
  {
   "cell_type": "code",
   "execution_count": 25,
   "id": "fbaffe6f-07da-488a-a696-26958d4d1230",
   "metadata": {},
   "outputs": [],
   "source": [
    "with open('categories_dict.pkl', 'wb') as file:\n",
    "    pickle.dump(categories_dict, file)"
   ]
  },
  {
   "cell_type": "code",
   "execution_count": 489,
   "id": "69ac6089-18df-4699-841b-25c32b62fc52",
   "metadata": {},
   "outputs": [
    {
     "data": {
      "text/plain": [
       "9           2295\n",
       "13          2299\n",
       "19          2305\n",
       "20          2306\n",
       "25          2311\n",
       "           ...  \n",
       "803765    809945\n",
       "803875    810056\n",
       "804139    810320\n",
       "804395    810577\n",
       "804398    810581\n",
       "Name: news_id, Length: 11944, dtype: object"
      ]
     },
     "execution_count": 489,
     "metadata": {},
     "output_type": "execute_result"
    }
   ],
   "source": [
    "df[df.loc[:,'code'].str.contains('C12') == True].news_id"
   ]
  },
  {
   "cell_type": "code",
   "execution_count": 490,
   "id": "fee7ff34-6798-4ae4-b585-2bd992999a4b",
   "metadata": {},
   "outputs": [
    {
     "data": {
      "text/plain": [
       "['ASIA', 'I35102', 'I65100', 'I41300', 'I32200']"
      ]
     },
     "execution_count": 490,
     "metadata": {},
     "output_type": "execute_result"
    }
   ],
   "source": [
    "rare_hard"
   ]
  },
  {
   "cell_type": "code",
   "execution_count": null,
   "id": "068aba84-e215-471e-84be-813740efdc3a",
   "metadata": {},
   "outputs": [],
   "source": [
    "rare_hard, rare_medium, rare_easy"
   ]
  },
  {
   "cell_type": "code",
   "execution_count": 505,
   "id": "c7cc3592-8013-4c07-b05b-2c50582e6fa7",
   "metadata": {},
   "outputs": [],
   "source": [
    "def cat_id_dict(cat1, cat2, cat3):\n",
    "    dic = {}\n",
    "    for cat in tqdm(zip(cat1, cat2, cat3)):\n",
    "        for item in cat:\n",
    "            ids = list(df[df.loc[:,'code'].str.contains(item) == True].news_id)\n",
    "            dic[item] = ids\n",
    "    return dic"
   ]
  },
  {
   "cell_type": "code",
   "execution_count": 508,
   "id": "a5900ed0-12b7-474a-85d4-b1be2a6e006d",
   "metadata": {},
   "outputs": [
    {
     "name": "stderr",
     "output_type": "stream",
     "text": [
      "5it [00:02,  2.16it/s]\n",
      "5it [00:02,  1.98it/s]\n",
      "5it [00:02,  2.03it/s]\n"
     ]
    }
   ],
   "source": [
    "rare = cat_id_dict(rare_hard, rare_medium, rare_easy)\n",
    "medium = cat_id_dict(medium_hard, medium_medium, medium_easy)\n",
    "common = cat_id_dict(common_hard, common_medium, common_easy)"
   ]
  },
  {
   "cell_type": "code",
   "execution_count": 516,
   "id": "e15a3efe-7e52-481a-81ca-8d54c00673c8",
   "metadata": {},
   "outputs": [],
   "source": [
    "id_45cat = set()\n",
    "\n",
    "def add_ids(cat_id_dict):\n",
    "    for cat in cat_id_dict.keys():\n",
    "        id_45cat.update(cat_id_dict[cat])"
   ]
  },
  {
   "cell_type": "code",
   "execution_count": 524,
   "id": "b011a3ee-1df2-404d-ae70-4ff077e299e7",
   "metadata": {},
   "outputs": [],
   "source": [
    "add_ids(rare)\n",
    "add_ids(medium)\n",
    "add_ids(common)"
   ]
  },
  {
   "cell_type": "code",
   "execution_count": 525,
   "id": "b22a6825-8385-40bc-b27b-ad609013b1a2",
   "metadata": {},
   "outputs": [
    {
     "data": {
      "text/plain": [
       "277814"
      ]
     },
     "execution_count": 525,
     "metadata": {},
     "output_type": "execute_result"
    }
   ],
   "source": [
    "len(id_45cat)"
   ]
  },
  {
   "cell_type": "code",
   "execution_count": 540,
   "id": "454236a6-50fe-46ba-9248-9476a736a9c9",
   "metadata": {},
   "outputs": [],
   "source": [
    "import random\n",
    "\n",
    "random.seed(123)\n",
    "id_45cat_list = list(id_45cat)\n",
    "random.shuffle(id_45cat_list)\n",
    "down_sampled = id_45cat_list[:160833]"
   ]
  },
  {
   "cell_type": "code",
   "execution_count": 541,
   "id": "d00af4f3-6f20-4826-ac76-c046a5a9b6f4",
   "metadata": {},
   "outputs": [],
   "source": [
    "with open(\"../rcv1v2_downsampled.txt\", \"a\") as f:\n",
    "    for _id in down_sampled:\n",
    "        f.write(_id+'\\n')"
   ]
  },
  {
   "cell_type": "code",
   "execution_count": 547,
   "id": "41553fd6-f0bc-494f-9851-b5d029bea993",
   "metadata": {},
   "outputs": [],
   "source": [
    "down_sampled_df = df[df.loc[:,'news_id'].isin(down_sampled)].drop(columns=[\"date\"])"
   ]
  },
  {
   "cell_type": "code",
   "execution_count": 559,
   "id": "2b040543-8eb5-4655-90ba-0ff0552c85d9",
   "metadata": {},
   "outputs": [],
   "source": [
    "down_sampled_df.reset_index(drop=True,inplace=True)"
   ]
  },
  {
   "cell_type": "code",
   "execution_count": 560,
   "id": "14b58472-55d0-47b6-a3a0-9ae131a8aa74",
   "metadata": {},
   "outputs": [
    {
     "data": {
      "text/html": [
       "<div>\n",
       "<style scoped>\n",
       "    .dataframe tbody tr th:only-of-type {\n",
       "        vertical-align: middle;\n",
       "    }\n",
       "\n",
       "    .dataframe tbody tr th {\n",
       "        vertical-align: top;\n",
       "    }\n",
       "\n",
       "    .dataframe thead th {\n",
       "        text-align: right;\n",
       "    }\n",
       "</style>\n",
       "<table border=\"1\" class=\"dataframe\">\n",
       "  <thead>\n",
       "    <tr style=\"text-align: right;\">\n",
       "      <th></th>\n",
       "      <th>news_id</th>\n",
       "      <th>title</th>\n",
       "      <th>text</th>\n",
       "      <th>code</th>\n",
       "    </tr>\n",
       "  </thead>\n",
       "  <tbody>\n",
       "    <tr>\n",
       "      <th>0</th>\n",
       "      <td>2286</td>\n",
       "      <td>MEXICO: Recovery excitement brings Mexican mar...</td>\n",
       "      <td>Emerging evidence that Mexico's economy was ba...</td>\n",
       "      <td>MEX,E11,ECAT,M11,M12,MCAT</td>\n",
       "    </tr>\n",
       "    <tr>\n",
       "      <th>1</th>\n",
       "      <td>2287</td>\n",
       "      <td>USA: Chrysler plans new investments in Latin A...</td>\n",
       "      <td>Chrysler Corp. Tuesday announced $380 million ...</td>\n",
       "      <td>ARG,BRAZ,USA,I24700,I34320,I35101,I36400,C24,CCAT</td>\n",
       "    </tr>\n",
       "    <tr>\n",
       "      <th>2</th>\n",
       "      <td>2298</td>\n",
       "      <td>USA: U.S. Federal Reserve holds interest rates...</td>\n",
       "      <td>By Rich Miller, Economics CorrespondentThe Fed...</td>\n",
       "      <td>USA,E12,ECAT,M13,M131,MCAT</td>\n",
       "    </tr>\n",
       "    <tr>\n",
       "      <th>3</th>\n",
       "      <td>2303</td>\n",
       "      <td>USA: War hero Colin Powell hits road with Dole...</td>\n",
       "      <td>Gulf War hero Colin Powell lent his prestige a...</td>\n",
       "      <td>USA,GCAT,GPOL</td>\n",
       "    </tr>\n",
       "    <tr>\n",
       "      <th>4</th>\n",
       "      <td>2305</td>\n",
       "      <td>USA: Decision nears on Indiana tobacco lawsuit.</td>\n",
       "      <td>Another liability challenge to the tobacco ind...</td>\n",
       "      <td>USA,I42900,C12,CCAT,GCAT,GCRIM</td>\n",
       "    </tr>\n",
       "  </tbody>\n",
       "</table>\n",
       "</div>"
      ],
      "text/plain": [
       "  news_id                                              title  \\\n",
       "0    2286  MEXICO: Recovery excitement brings Mexican mar...   \n",
       "1    2287  USA: Chrysler plans new investments in Latin A...   \n",
       "2    2298  USA: U.S. Federal Reserve holds interest rates...   \n",
       "3    2303  USA: War hero Colin Powell hits road with Dole...   \n",
       "4    2305    USA: Decision nears on Indiana tobacco lawsuit.   \n",
       "\n",
       "                                                text  \\\n",
       "0  Emerging evidence that Mexico's economy was ba...   \n",
       "1  Chrysler Corp. Tuesday announced $380 million ...   \n",
       "2  By Rich Miller, Economics CorrespondentThe Fed...   \n",
       "3  Gulf War hero Colin Powell lent his prestige a...   \n",
       "4  Another liability challenge to the tobacco ind...   \n",
       "\n",
       "                                                code  \n",
       "0                          MEX,E11,ECAT,M11,M12,MCAT  \n",
       "1  ARG,BRAZ,USA,I24700,I34320,I35101,I36400,C24,CCAT  \n",
       "2                         USA,E12,ECAT,M13,M131,MCAT  \n",
       "3                                      USA,GCAT,GPOL  \n",
       "4                     USA,I42900,C12,CCAT,GCAT,GCRIM  "
      ]
     },
     "execution_count": 560,
     "metadata": {},
     "output_type": "execute_result"
    }
   ],
   "source": [
    "down_sampled_df.head()"
   ]
  },
  {
   "cell_type": "code",
   "execution_count": 142,
   "id": "dec5f9d0-1dc8-4263-b7b0-92d5643950b0",
   "metadata": {},
   "outputs": [],
   "source": [
    "down_index = list(down_sampled_df.index)"
   ]
  },
  {
   "cell_type": "code",
   "execution_count": 143,
   "id": "1ba6a9b4-b6f3-4a6c-a210-46aa0dc104d3",
   "metadata": {},
   "outputs": [
    {
     "data": {
      "text/plain": [
       "160833"
      ]
     },
     "execution_count": 143,
     "metadata": {},
     "output_type": "execute_result"
    }
   ],
   "source": [
    "len(down_index)"
   ]
  },
  {
   "cell_type": "code",
   "execution_count": 145,
   "id": "5cfa8ff3-6c63-4361-8e4d-171c0afb5ca2",
   "metadata": {},
   "outputs": [
    {
     "data": {
      "text/plain": [
       "<function BufferedWriter.close>"
      ]
     },
     "execution_count": 145,
     "metadata": {},
     "output_type": "execute_result"
    }
   ],
   "source": [
    "import pickle\n",
    "dump_file = open(\"../rcv1_info/sampled-for-bertal.pkl\", \"wb\")\n",
    "pickle.dump(down_index, dump_file)\n",
    "dump_file.close()"
   ]
  }
 ],
 "metadata": {
  "kernelspec": {
   "display_name": "Python 3 (ipykernel)",
   "language": "python",
   "name": "python3"
  },
  "language_info": {
   "codemirror_mode": {
    "name": "ipython",
    "version": 3
   },
   "file_extension": ".py",
   "mimetype": "text/x-python",
   "name": "python",
   "nbconvert_exporter": "python",
   "pygments_lexer": "ipython3",
   "version": "3.9.12"
  }
 },
 "nbformat": 4,
 "nbformat_minor": 5
}
