{
 "cells": [
  {
   "cell_type": "markdown",
   "id": "8d2189d2-42b5-4ab1-8127-b54cf5e245bb",
   "metadata": {
    "tags": []
   },
   "source": [
    "#### `all.jsonl`"
   ]
  },
  {
   "cell_type": "code",
   "execution_count": null,
   "id": "b4f83db4-941b-4c40-a9a8-736dd4854cb3",
   "metadata": {},
   "outputs": [
    {
     "name": "stderr",
     "output_type": "stream",
     "text": [
      "454314it [04:10, 1815.44it/s]\n"
     ]
    }
   ],
   "source": [
    "already_got_id = set()\n",
    "\n",
    "#real_collection_file = open(collection_file, 'w')\n",
    "collection_dict = {}\n",
    "collection_file = \"./goldilocks_reproduce/collection/all.jsonl\"\n",
    "collection_lines = []\n",
    "with open(collection_file) as f:\n",
    "    for line in tqdm(f):\n",
    "        data_list = json.loads(line)\n",
    "        id = data_list[\"pmid\"]\n",
    "        if id in already_got_id or id == \"null\" or id is None:\n",
    "            continue\n",
    "        else:\n",
    "            already_got_id.add(id)\n",
    "            title = data_list[\"title\"]\n",
    "            content = data_list[\"abstract\"]\n",
    "            new_content = title + content\n",
    "            if new_content != \"\":\n",
    "                collection_lines.append(json.dumps({id: tokenised_list}) + '\\n')\n",
    "                collection_dict[id] = tokenised_list\n",
    "#real_collection_file.writelines(collection_lines)\n",
    "#real_collection_file.close()\n",
    "collection_lines.clear()"
   ]
  },
  {
   "cell_type": "code",
   "execution_count": 99,
   "id": "13775e06-3706-453f-862e-f4ef891c1c9e",
   "metadata": {},
   "outputs": [
    {
     "data": {
      "text/plain": [
       "198110"
      ]
     },
     "execution_count": 99,
     "metadata": {},
     "output_type": "execute_result"
    }
   ],
   "source": [
    "len(already_got_id)"
   ]
  },
  {
   "cell_type": "code",
   "execution_count": 85,
   "id": "d0a2bcca-baaf-45cc-8039-64d9c85bfdd4",
   "metadata": {},
   "outputs": [
    {
     "data": {
      "text/plain": [
       "454273"
      ]
     },
     "execution_count": 85,
     "metadata": {},
     "output_type": "execute_result"
    }
   ],
   "source": [
    "len(collection_dict.keys())"
   ]
  },
  {
   "cell_type": "code",
   "execution_count": 88,
   "id": "9171fafc-1977-47c4-9870-5f2599597322",
   "metadata": {},
   "outputs": [],
   "source": [
    "collection_dict['18485144']"
   ]
  },
  {
   "cell_type": "code",
   "execution_count": 2,
   "id": "f719044a-6dc5-45e2-8aa8-ad63995b0797",
   "metadata": {},
   "outputs": [
    {
     "name": "stdout",
     "output_type": "stream",
     "text": [
      "{\"pmid\": \"18485144\", \"title\": \"Current and future therapy in Alzheimer's disease.\", \"abstract\": \"Dementia is increasingly being recognized as one of the most important medical problems in the elderly. As most pharmacological research within the field of dementia is focused on Alzheimer's dementia (AD), this review will focus on pharmacological interventions in AD. Most disease-modifying therapies are based on the amyloid hypothesis. In this hypothesis, the pathological accumulation of Abeta in the brain leads to oxidative stress, neuronal destruction and finally the clinical syndrome of AD. Following this hypothesis, secondary prevention of AD can be made by: decreasing the production of Abeta, stimulation of clearance of Abeta formed or prevention of aggregation of Abeta into amyloid plaques. First a short overview on current approved therapies for AD is given. The main part of  the review will focus on potential disease-modifying therapies for AD that are currently being studied in phase I to phase III trials.\"}\n"
     ]
    }
   ],
   "source": [
    "!head -1 ./goldilocks_reproduce/collection/all.jsonl "
   ]
  },
  {
   "cell_type": "markdown",
   "id": "afcdc285-9e40-4cab-a088-9a673b1a5261",
   "metadata": {},
   "source": [
    "#### Clean `all.jsonl` --> `all_clean.jsonl`"
   ]
  },
  {
   "cell_type": "code",
   "execution_count": 127,
   "id": "1a5690bb-bc6b-4b9f-8768-203a7be3d48e",
   "metadata": {},
   "outputs": [
    {
     "name": "stderr",
     "output_type": "stream",
     "text": [
      "454314it [00:03, 115421.38it/s]\n"
     ]
    }
   ],
   "source": [
    "clean_collection_file = open(\"./goldilocks_reproduce/collection/all_clean.jsonl\", 'w')\n",
    "#clean_collection_dict = {}\n",
    "already_got_id = set()\n",
    "collection_file = \"./goldilocks_reproduce/collection/all.jsonl\"\n",
    "clean_collection_lines = []\n",
    "n_repeat = []\n",
    "n_nan = 0\n",
    "\n",
    "with open(collection_file) as f:\n",
    "    for line in tqdm(f):\n",
    "        data_list = json.loads(line)\n",
    "        pmid = data_list[\"pmid\"]\n",
    "        if pmid in already_got_id:\n",
    "            n_repeat.append(pmid)\n",
    "            continue\n",
    "        elif pmid is None:\n",
    "            n_nan += 1\n",
    "            continue\n",
    "        else:\n",
    "            already_got_id.add(pmid)\n",
    "            title = data_list[\"title\"]\n",
    "            abstract = data_list[\"abstract\"]\n",
    "            content = title + abstract\n",
    "            if content != \"\":\n",
    "                clean_collection_lines.append(json.dumps({\"pmid\": pmid, \"title\": title, \"abstract\": abstract}) +'\\n')\n",
    "                #clean_collection_dict[pmid] = content\n",
    "clean_collection_file.writelines(clean_collection_lines)\n",
    "clean_collection_file.close()"
   ]
  },
  {
   "cell_type": "code",
   "execution_count": 128,
   "id": "b42af425-0439-4d0e-9d85-242750bb0c48",
   "metadata": {},
   "outputs": [
    {
     "data": {
      "text/plain": [
       "34"
      ]
     },
     "execution_count": 128,
     "metadata": {},
     "output_type": "execute_result"
    }
   ],
   "source": [
    "len(n_repeat) "
   ]
  }
 ],
 "metadata": {
  "kernelspec": {
   "display_name": "Python 3 (ipykernel)",
   "language": "python",
   "name": "python3"
  },
  "language_info": {
   "codemirror_mode": {
    "name": "ipython",
    "version": 3
   },
   "file_extension": ".py",
   "mimetype": "text/x-python",
   "name": "python",
   "nbconvert_exporter": "python",
   "pygments_lexer": "ipython3",
   "version": "3.9.12"
  }
 },
 "nbformat": 4,
 "nbformat_minor": 5
}
