{
 "cells": [
  {
   "cell_type": "markdown",
   "id": "477a708d-9b0b-498b-bf4e-8c15e5cf26a2",
   "metadata": {
    "tags": []
   },
   "source": [
    "# raw material stats"
   ]
  },
  {
   "cell_type": "markdown",
   "id": "58ad04ba-c752-4bba-8a6f-af2d5efb1177",
   "metadata": {},
   "source": [
    "\n",
    "|-- athome1mu4x7 (folder)\n",
    "\n",
    "    |-- 01+January+2003+Pbulic+2.txt (folder)\n",
    "    \n",
    "       |-- 0000-1 (file)"
   ]
  },
  {
   "cell_type": "markdown",
   "id": "027a9715-e3bb-4a53-8b61-bf241c9bc6a0",
   "metadata": {},
   "source": [
    "`find . type f ! -name \"*.*\"` → \n",
    "\n",
    "`athome1.txt`  290099 (no `.DS_Store`)\n",
    "\n",
    "~~`athome2.txt`~~ 465147\n",
    "\n",
    "~~`athome3.txt`~~  902434\n",
    "\n",
    "`athome4.facetsandqrels` 61985"
   ]
  },
  {
   "cell_type": "markdown",
   "id": "682b726e-280f-44d3-9663-1c271aff42d1",
   "metadata": {},
   "source": [
    "# data transformation"
   ]
  },
  {
   "cell_type": "markdown",
   "id": "c2f9212e-26d8-4d53-a4c5-b10deba35cb3",
   "metadata": {},
   "source": [
    "`.txt` > \n",
    "`raw_text_cleaned.pkl`, \n",
    "`rel_info.csv`, \n",
    "`rel_info.pkl`, \n",
    "`sampled-for-bertal.pkl`"
   ]
  },
  {
   "cell_type": "markdown",
   "id": "d286e800-7cf1-4286-856d-c0a253017a45",
   "metadata": {},
   "source": [
    "# files involved "
   ]
  },
  {
   "cell_type": "markdown",
   "id": "ff758396-c469-422d-8ead-cc62bfaea051",
   "metadata": {},
   "source": [
    "**on deduplicating the original data**\n",
    "\n",
    "`athome1.md5` md5 hash codes of the orginal text data\n"
   ]
  },
  {
   "cell_type": "markdown",
   "id": "05dd1964-abec-42d1-86ef-1f4ffe93690f",
   "metadata": {},
   "source": [
    "#### deduplication with md5 hash code"
   ]
  },
  {
   "cell_type": "code",
   "execution_count": 6,
   "id": "393fcfef-1147-42f5-853e-3dc828919b62",
   "metadata": {},
   "outputs": [],
   "source": [
    "import re\n",
    "import pandas as pd\n",
    "import numpy as np\n",
    "from tqdm import tqdm\n",
    "import pickle\n",
    "from jeb_bush_processing import athome1_rel_load, get_raw, test"
   ]
  },
  {
   "cell_type": "code",
   "execution_count": 152,
   "id": "f08e0301-ad97-4d9a-a72c-d63caf6fb7a0",
   "metadata": {},
   "outputs": [],
   "source": [
    "df = pd.read_table(\"./athome1.md5\", sep='\\s+',header=None, names=['md5', 'path'])"
   ]
  },
  {
   "cell_type": "code",
   "execution_count": 153,
   "id": "f836ede1-ebc4-414a-89a4-ebc5b4134b86",
   "metadata": {},
   "outputs": [
    {
     "data": {
      "text/html": [
       "<div>\n",
       "<style scoped>\n",
       "    .dataframe tbody tr th:only-of-type {\n",
       "        vertical-align: middle;\n",
       "    }\n",
       "\n",
       "    .dataframe tbody tr th {\n",
       "        vertical-align: top;\n",
       "    }\n",
       "\n",
       "    .dataframe thead th {\n",
       "        text-align: right;\n",
       "    }\n",
       "</style>\n",
       "<table border=\"1\" class=\"dataframe\">\n",
       "  <thead>\n",
       "    <tr style=\"text-align: right;\">\n",
       "      <th></th>\n",
       "      <th>md5</th>\n",
       "      <th>path</th>\n",
       "    </tr>\n",
       "  </thead>\n",
       "  <tbody>\n",
       "    <tr>\n",
       "      <th>0</th>\n",
       "      <td>6f8991ebdafffa7415b7b3b24fb949b5</td>\n",
       "      <td>./2002-12Dec.txt/0524-129207</td>\n",
       "    </tr>\n",
       "    <tr>\n",
       "      <th>1</th>\n",
       "      <td>27850dfbfbb1bde5a3bf565aeb20dc33</td>\n",
       "      <td>./2002-12Dec.txt/0452-129135</td>\n",
       "    </tr>\n",
       "    <tr>\n",
       "      <th>2</th>\n",
       "      <td>773a0cc30b4f736af16d7b64c4f1e1fe</td>\n",
       "      <td>./2002-12Dec.txt/0583-129266</td>\n",
       "    </tr>\n",
       "    <tr>\n",
       "      <th>3</th>\n",
       "      <td>76ca7b889742f41da584c543d292c90c</td>\n",
       "      <td>./2002-12Dec.txt/0186-128869</td>\n",
       "    </tr>\n",
       "    <tr>\n",
       "      <th>4</th>\n",
       "      <td>dd277b8dd158709548995d6b25d71ee7</td>\n",
       "      <td>./2002-12Dec.txt/0412-129095</td>\n",
       "    </tr>\n",
       "    <tr>\n",
       "      <th>...</th>\n",
       "      <td>...</td>\n",
       "      <td>...</td>\n",
       "    </tr>\n",
       "    <tr>\n",
       "      <th>290094</th>\n",
       "      <td>a928348fcccf144387af03edf2e309c8</td>\n",
       "      <td>./200501-06JanJun-05May.txt/2523-224819</td>\n",
       "    </tr>\n",
       "    <tr>\n",
       "      <th>290095</th>\n",
       "      <td>bc4b7e96a9bba0404b4bec0d16dba00e</td>\n",
       "      <td>./200501-06JanJun-05May.txt/1346-223642</td>\n",
       "    </tr>\n",
       "    <tr>\n",
       "      <th>290096</th>\n",
       "      <td>867e066acb77c15f7f85f6fc88745eca</td>\n",
       "      <td>./200501-06JanJun-05May.txt/3965-226261</td>\n",
       "    </tr>\n",
       "    <tr>\n",
       "      <th>290097</th>\n",
       "      <td>5b950d15830d8e6cd5eb370ad088d2e8</td>\n",
       "      <td>./200501-06JanJun-05May.txt/2286-224582</td>\n",
       "    </tr>\n",
       "    <tr>\n",
       "      <th>290098</th>\n",
       "      <td>a0e7ef04b23d3d4314e770ad87a372d2</td>\n",
       "      <td>./200501-06JanJun-05May.txt/0957-223253</td>\n",
       "    </tr>\n",
       "  </tbody>\n",
       "</table>\n",
       "<p>290099 rows × 2 columns</p>\n",
       "</div>"
      ],
      "text/plain": [
       "                                     md5  \\\n",
       "0       6f8991ebdafffa7415b7b3b24fb949b5   \n",
       "1       27850dfbfbb1bde5a3bf565aeb20dc33   \n",
       "2       773a0cc30b4f736af16d7b64c4f1e1fe   \n",
       "3       76ca7b889742f41da584c543d292c90c   \n",
       "4       dd277b8dd158709548995d6b25d71ee7   \n",
       "...                                  ...   \n",
       "290094  a928348fcccf144387af03edf2e309c8   \n",
       "290095  bc4b7e96a9bba0404b4bec0d16dba00e   \n",
       "290096  867e066acb77c15f7f85f6fc88745eca   \n",
       "290097  5b950d15830d8e6cd5eb370ad088d2e8   \n",
       "290098  a0e7ef04b23d3d4314e770ad87a372d2   \n",
       "\n",
       "                                           path  \n",
       "0                  ./2002-12Dec.txt/0524-129207  \n",
       "1                  ./2002-12Dec.txt/0452-129135  \n",
       "2                  ./2002-12Dec.txt/0583-129266  \n",
       "3                  ./2002-12Dec.txt/0186-128869  \n",
       "4                  ./2002-12Dec.txt/0412-129095  \n",
       "...                                         ...  \n",
       "290094  ./200501-06JanJun-05May.txt/2523-224819  \n",
       "290095  ./200501-06JanJun-05May.txt/1346-223642  \n",
       "290096  ./200501-06JanJun-05May.txt/3965-226261  \n",
       "290097  ./200501-06JanJun-05May.txt/2286-224582  \n",
       "290098  ./200501-06JanJun-05May.txt/0957-223253  \n",
       "\n",
       "[290099 rows x 2 columns]"
      ]
     },
     "execution_count": 153,
     "metadata": {},
     "output_type": "execute_result"
    }
   ],
   "source": [
    "df"
   ]
  },
  {
   "cell_type": "code",
   "execution_count": 724,
   "id": "0500e374-67fd-4879-bb5b-040ce63082fe",
   "metadata": {},
   "outputs": [],
   "source": [
    "df['doc_id'] = df['path'].apply(lambda x: x.split('-')[-1]) # check if rel is for duplicated "
   ]
  },
  {
   "cell_type": "code",
   "execution_count": 726,
   "id": "55867475-b3f1-49b5-a973-a7b6fce16061",
   "metadata": {},
   "outputs": [],
   "source": [
    "df['doc_id'] = df['doc_id'].apply(id_format)"
   ]
  },
  {
   "cell_type": "code",
   "execution_count": 730,
   "id": "4247d8e4-5cdf-4fd1-8c2b-ff8636fdbc95",
   "metadata": {},
   "outputs": [
    {
     "data": {
      "text/plain": [
       "True"
      ]
     },
     "execution_count": 730,
     "metadata": {},
     "output_type": "execute_result"
    }
   ],
   "source": [
    "'052266' in list(df['doc_id'])"
   ]
  },
  {
   "cell_type": "code",
   "execution_count": 731,
   "id": "86f45c77-80f7-4788-b730-d86979988fae",
   "metadata": {},
   "outputs": [],
   "source": [
    "full_docs = list(df['doc_id'])"
   ]
  },
  {
   "cell_type": "code",
   "execution_count": 735,
   "id": "311cc20c-1939-4524-978a-6afe3026f713",
   "metadata": {},
   "outputs": [],
   "source": [
    "clean_docs = list(df_clean['doc_id'])"
   ]
  },
  {
   "cell_type": "code",
   "execution_count": 738,
   "id": "a76067cc-e63c-4e0c-bee3-c508c72345f1",
   "metadata": {},
   "outputs": [
    {
     "data": {
      "text/plain": [
       "['144781', '170784', '255768', '283525', '020473']"
      ]
     },
     "execution_count": 738,
     "metadata": {},
     "output_type": "execute_result"
    }
   ],
   "source": [
    "jb_rel_dict['101'][:5]"
   ]
  },
  {
   "cell_type": "code",
   "execution_count": 740,
   "id": "950475f2-be64-407d-97ad-87905c86eaba",
   "metadata": {},
   "outputs": [],
   "source": [
    "dul = []\n",
    "for k in jb_rel_dict.keys():\n",
    "    for i in jb_rel_dict[k]:\n",
    "        if i in clean_docs:\n",
    "            continue\n",
    "        else:\n",
    "            dul.append(i)"
   ]
  },
  {
   "cell_type": "code",
   "execution_count": 742,
   "id": "59f37fb7-96df-41ba-86d3-64eed19dd088",
   "metadata": {},
   "outputs": [
    {
     "data": {
      "text/plain": [
       "1310"
      ]
     },
     "execution_count": 742,
     "metadata": {},
     "output_type": "execute_result"
    }
   ],
   "source": [
    "len(dul) # athome1 has 1310 in duplicated form and missed"
   ]
  },
  {
   "cell_type": "code",
   "execution_count": 745,
   "id": "45e0d252-25bc-4ff2-abbd-968bab10485d",
   "metadata": {},
   "outputs": [
    {
     "name": "stderr",
     "output_type": "stream",
     "text": [
      "100%|█████████████████████████████████████████████████████████████████████████| 34/34 [01:29<00:00,  2.62s/it]\n"
     ]
    }
   ],
   "source": [
    "for k in tqdm(athome4.keys()):\n",
    "    for i in athome4[k].keys():\n",
    "        if i in clean_docs:\n",
    "            continue\n",
    "        else:\n",
    "            dul.append(i)"
   ]
  },
  {
   "cell_type": "code",
   "execution_count": 746,
   "id": "3a908d01-8408-4fe1-8190-5963357d4d64",
   "metadata": {},
   "outputs": [
    {
     "data": {
      "text/plain": [
       "4030"
      ]
     },
     "execution_count": 746,
     "metadata": {},
     "output_type": "execute_result"
    }
   ],
   "source": [
    "len(dul)"
   ]
  },
  {
   "cell_type": "code",
   "execution_count": 747,
   "id": "23367e2e-80b1-46b5-b46b-537315ffe55f",
   "metadata": {},
   "outputs": [
    {
     "data": {
      "text/plain": [
       "3408"
      ]
     },
     "execution_count": 747,
     "metadata": {},
     "output_type": "execute_result"
    }
   ],
   "source": [
    "len(set(dul)) # total 3408 duplicated being missed"
   ]
  },
  {
   "cell_type": "code",
   "execution_count": null,
   "id": "edb0fae5-194a-4d51-a170-343b4a1d9800",
   "metadata": {},
   "outputs": [
    {
     "data": {
      "text/html": [
       "<div>\n",
       "<style scoped>\n",
       "    .dataframe tbody tr th:only-of-type {\n",
       "        vertical-align: middle;\n",
       "    }\n",
       "\n",
       "    .dataframe tbody tr th {\n",
       "        vertical-align: top;\n",
       "    }\n",
       "\n",
       "    .dataframe thead th {\n",
       "        text-align: right;\n",
       "    }\n",
       "</style>\n",
       "<table border=\"1\" class=\"dataframe\">\n",
       "  <thead>\n",
       "    <tr style=\"text-align: right;\">\n",
       "      <th></th>\n",
       "      <th>md5</th>\n",
       "      <th>path</th>\n",
       "      <th>doc_id</th>\n",
       "    </tr>\n",
       "  </thead>\n",
       "  <tbody>\n",
       "    <tr>\n",
       "      <th>434</th>\n",
       "      <td>0880ef6d51afd043637062bf331cdb0f</td>\n",
       "      <td>./2002-12Dec.txt/0267-128950</td>\n",
       "      <td>128950</td>\n",
       "    </tr>\n",
       "    <tr>\n",
       "      <th>542</th>\n",
       "      <td>db344c7b8fd6e3d00a8d7b57fc96fa96</td>\n",
       "      <td>./2002-12Dec.txt/0848-129531</td>\n",
       "      <td>129531</td>\n",
       "    </tr>\n",
       "    <tr>\n",
       "      <th>900</th>\n",
       "      <td>0880ef6d51afd043637062bf331cdb0f</td>\n",
       "      <td>./2002-12Dec.txt/0309-128992</td>\n",
       "      <td>128992</td>\n",
       "    </tr>\n",
       "    <tr>\n",
       "      <th>1474</th>\n",
       "      <td>96075ca58e0210ab99463bf660f8e8bf</td>\n",
       "      <td>./2002-05May.txt/1142-119359</td>\n",
       "      <td>119359</td>\n",
       "    </tr>\n",
       "    <tr>\n",
       "      <th>2055</th>\n",
       "      <td>a7d390e5530e1845e1a938dc16ec5777</td>\n",
       "      <td>./2002-05May.txt/1055-119272</td>\n",
       "      <td>119272</td>\n",
       "    </tr>\n",
       "    <tr>\n",
       "      <th>...</th>\n",
       "      <td>...</td>\n",
       "      <td>...</td>\n",
       "      <td>...</td>\n",
       "    </tr>\n",
       "    <tr>\n",
       "      <th>289940</th>\n",
       "      <td>1673209a0b9a9dbf1a49a9424555223c</td>\n",
       "      <td>./200501-06JanJun-05May.txt/2498-224794</td>\n",
       "      <td>224794</td>\n",
       "    </tr>\n",
       "    <tr>\n",
       "      <th>289953</th>\n",
       "      <td>b0b743604797ba1db50285ffc5e249c7</td>\n",
       "      <td>./200501-06JanJun-05May.txt/3813-226109</td>\n",
       "      <td>226109</td>\n",
       "    </tr>\n",
       "    <tr>\n",
       "      <th>289959</th>\n",
       "      <td>8619b21f2d18d46960a4ba496c908ba6</td>\n",
       "      <td>./200501-06JanJun-05May.txt/3243-225539</td>\n",
       "      <td>225539</td>\n",
       "    </tr>\n",
       "    <tr>\n",
       "      <th>289966</th>\n",
       "      <td>89834ca15e5a2d23c6b9adaa8ddaa287</td>\n",
       "      <td>./200501-06JanJun-05May.txt/3713-226009</td>\n",
       "      <td>226009</td>\n",
       "    </tr>\n",
       "    <tr>\n",
       "      <th>289983</th>\n",
       "      <td>8c6692d082d02d2a721224f674f60468</td>\n",
       "      <td>./200501-06JanJun-05May.txt/2641-224937</td>\n",
       "      <td>224937</td>\n",
       "    </tr>\n",
       "  </tbody>\n",
       "</table>\n",
       "<p>15975 rows × 3 columns</p>\n",
       "</div>"
      ],
      "text/plain": [
       "                                     md5  \\\n",
       "434     0880ef6d51afd043637062bf331cdb0f   \n",
       "542     db344c7b8fd6e3d00a8d7b57fc96fa96   \n",
       "900     0880ef6d51afd043637062bf331cdb0f   \n",
       "1474    96075ca58e0210ab99463bf660f8e8bf   \n",
       "2055    a7d390e5530e1845e1a938dc16ec5777   \n",
       "...                                  ...   \n",
       "289940  1673209a0b9a9dbf1a49a9424555223c   \n",
       "289953  b0b743604797ba1db50285ffc5e249c7   \n",
       "289959  8619b21f2d18d46960a4ba496c908ba6   \n",
       "289966  89834ca15e5a2d23c6b9adaa8ddaa287   \n",
       "289983  8c6692d082d02d2a721224f674f60468   \n",
       "\n",
       "                                           path  doc_id  \n",
       "434                ./2002-12Dec.txt/0267-128950  128950  \n",
       "542                ./2002-12Dec.txt/0848-129531  129531  \n",
       "900                ./2002-12Dec.txt/0309-128992  128992  \n",
       "1474               ./2002-05May.txt/1142-119359  119359  \n",
       "2055               ./2002-05May.txt/1055-119272  119272  \n",
       "...                                         ...     ...  \n",
       "289940  ./200501-06JanJun-05May.txt/2498-224794  224794  \n",
       "289953  ./200501-06JanJun-05May.txt/3813-226109  226109  \n",
       "289959  ./200501-06JanJun-05May.txt/3243-225539  225539  \n",
       "289966  ./200501-06JanJun-05May.txt/3713-226009  226009  \n",
       "289983  ./200501-06JanJun-05May.txt/2641-224937  224937  \n",
       "\n",
       "[15975 rows x 3 columns]"
      ]
     },
     "execution_count": 749,
     "metadata": {},
     "output_type": "execute_result"
    }
   ],
   "source": [
    "df[df.duplicated('md5')==True]"
   ]
  },
  {
   "cell_type": "code",
   "execution_count": 753,
   "id": "056b740e-75c9-4497-bc49-14a6e34e1fed",
   "metadata": {},
   "outputs": [],
   "source": [
    "dul_md5 = list(df[df.duplicated('md5')==True]['md5'])"
   ]
  },
  {
   "cell_type": "code",
   "execution_count": 758,
   "id": "5aac0dd4-31ee-44da-ad7c-abf549c68acb",
   "metadata": {},
   "outputs": [
    {
     "data": {
      "text/plain": [
       "10658"
      ]
     },
     "execution_count": 758,
     "metadata": {},
     "output_type": "execute_result"
    }
   ],
   "source": [
    "len(set(dul_md5))"
   ]
  },
  {
   "cell_type": "code",
   "execution_count": 756,
   "id": "082df6c0-4cd0-401d-8e5b-5fc15ba70a3a",
   "metadata": {},
   "outputs": [
    {
     "name": "stderr",
     "output_type": "stream",
     "text": [
      "100%|██████████████████████████████████████████████████████████████████| 15975/15975 [02:32<00:00, 104.71it/s]\n"
     ]
    }
   ],
   "source": [
    "# mapping dul to cleaned\n",
    "dul_map = {}\n",
    "for md5 in tqdm(dul_md5):\n",
    "    ids = list(df[df['md5']==md5]['doc_id'])\n",
    "    keep_first = ids[0]\n",
    "    dul_map[keep_first] = ids[1:]"
   ]
  },
  {
   "cell_type": "code",
   "execution_count": 760,
   "id": "4ef10559-610d-4d4e-8237-46175db27046",
   "metadata": {},
   "outputs": [
    {
     "data": {
      "text/plain": [
       "10658"
      ]
     },
     "execution_count": 760,
     "metadata": {},
     "output_type": "execute_result"
    }
   ],
   "source": [
    "len(dul_map.keys())"
   ]
  },
  {
   "cell_type": "code",
   "execution_count": 750,
   "id": "e7ec9055-a9fc-4214-91eb-ce29dd0199af",
   "metadata": {},
   "outputs": [
    {
     "data": {
      "text/html": [
       "<div>\n",
       "<style scoped>\n",
       "    .dataframe tbody tr th:only-of-type {\n",
       "        vertical-align: middle;\n",
       "    }\n",
       "\n",
       "    .dataframe tbody tr th {\n",
       "        vertical-align: top;\n",
       "    }\n",
       "\n",
       "    .dataframe thead th {\n",
       "        text-align: right;\n",
       "    }\n",
       "</style>\n",
       "<table border=\"1\" class=\"dataframe\">\n",
       "  <thead>\n",
       "    <tr style=\"text-align: right;\">\n",
       "      <th></th>\n",
       "      <th>md5</th>\n",
       "      <th>path</th>\n",
       "      <th>doc_id</th>\n",
       "    </tr>\n",
       "  </thead>\n",
       "  <tbody>\n",
       "    <tr>\n",
       "      <th>71</th>\n",
       "      <td>0880ef6d51afd043637062bf331cdb0f</td>\n",
       "      <td>./2002-12Dec.txt/0962-129645</td>\n",
       "      <td>129645</td>\n",
       "    </tr>\n",
       "    <tr>\n",
       "      <th>434</th>\n",
       "      <td>0880ef6d51afd043637062bf331cdb0f</td>\n",
       "      <td>./2002-12Dec.txt/0267-128950</td>\n",
       "      <td>128950</td>\n",
       "    </tr>\n",
       "    <tr>\n",
       "      <th>900</th>\n",
       "      <td>0880ef6d51afd043637062bf331cdb0f</td>\n",
       "      <td>./2002-12Dec.txt/0309-128992</td>\n",
       "      <td>128992</td>\n",
       "    </tr>\n",
       "    <tr>\n",
       "      <th>147280</th>\n",
       "      <td>0880ef6d51afd043637062bf331cdb0f</td>\n",
       "      <td>./12+December+2002+Public.txt/1016-18219</td>\n",
       "      <td>018219</td>\n",
       "    </tr>\n",
       "  </tbody>\n",
       "</table>\n",
       "</div>"
      ],
      "text/plain": [
       "                                     md5  \\\n",
       "71      0880ef6d51afd043637062bf331cdb0f   \n",
       "434     0880ef6d51afd043637062bf331cdb0f   \n",
       "900     0880ef6d51afd043637062bf331cdb0f   \n",
       "147280  0880ef6d51afd043637062bf331cdb0f   \n",
       "\n",
       "                                            path  doc_id  \n",
       "71                  ./2002-12Dec.txt/0962-129645  129645  \n",
       "434                 ./2002-12Dec.txt/0267-128950  128950  \n",
       "900                 ./2002-12Dec.txt/0309-128992  128992  \n",
       "147280  ./12+December+2002+Public.txt/1016-18219  018219  "
      ]
     },
     "execution_count": 750,
     "metadata": {},
     "output_type": "execute_result"
    }
   ],
   "source": [
    "df[df['md5']=='0880ef6d51afd043637062bf331cdb0f']"
   ]
  },
  {
   "cell_type": "code",
   "execution_count": 733,
   "id": "f1153d1f-78a5-4490-9080-33d65b7a9698",
   "metadata": {},
   "outputs": [
    {
     "data": {
      "text/plain": [
       "290099"
      ]
     },
     "execution_count": 733,
     "metadata": {},
     "output_type": "execute_result"
    }
   ],
   "source": [
    "len(full_docs)"
   ]
  },
  {
   "cell_type": "code",
   "execution_count": 137,
   "id": "f1705074-f8c4-465d-9ac8-5e3d9cf74376",
   "metadata": {},
   "outputs": [
    {
     "data": {
      "text/plain": [
       "0                    ./2002-12Dec.txt/0524-129207\n",
       "1                    ./2002-12Dec.txt/0452-129135\n",
       "2                    ./2002-12Dec.txt/0583-129266\n",
       "3                    ./2002-12Dec.txt/0186-128869\n",
       "4                    ./2002-12Dec.txt/0412-129095\n",
       "                           ...                   \n",
       "290095    ./200501-06JanJun-05May.txt/2523-224819\n",
       "290096    ./200501-06JanJun-05May.txt/1346-223642\n",
       "290097    ./200501-06JanJun-05May.txt/3965-226261\n",
       "290098    ./200501-06JanJun-05May.txt/2286-224582\n",
       "290099    ./200501-06JanJun-05May.txt/0957-223253\n",
       "Name: path, Length: 290100, dtype: object"
      ]
     },
     "execution_count": 137,
     "metadata": {},
     "output_type": "execute_result"
    }
   ],
   "source": [
    "df['path']"
   ]
  },
  {
   "cell_type": "code",
   "execution_count": 41,
   "id": "1cb0f551-b9e5-4575-8859-40ae856a382c",
   "metadata": {},
   "outputs": [
    {
     "data": {
      "text/plain": [
       "274125"
      ]
     },
     "execution_count": 41,
     "metadata": {},
     "output_type": "execute_result"
    }
   ],
   "source": [
    "len(set(df.iloc[:,0]))"
   ]
  },
  {
   "cell_type": "code",
   "execution_count": 42,
   "id": "2226d424-a1c6-41ef-8423-9ad3555aa981",
   "metadata": {},
   "outputs": [],
   "source": [
    "uniq = set(df.iloc[:,0])"
   ]
  },
  {
   "cell_type": "code",
   "execution_count": 196,
   "id": "cfdfd3cc-47fd-4399-8a8f-f249923b66a5",
   "metadata": {},
   "outputs": [
    {
     "data": {
      "text/html": [
       "<div>\n",
       "<style scoped>\n",
       "    .dataframe tbody tr th:only-of-type {\n",
       "        vertical-align: middle;\n",
       "    }\n",
       "\n",
       "    .dataframe tbody tr th {\n",
       "        vertical-align: top;\n",
       "    }\n",
       "\n",
       "    .dataframe thead th {\n",
       "        text-align: right;\n",
       "    }\n",
       "</style>\n",
       "<table border=\"1\" class=\"dataframe\">\n",
       "  <thead>\n",
       "    <tr style=\"text-align: right;\">\n",
       "      <th></th>\n",
       "      <th>md5</th>\n",
       "      <th>path</th>\n",
       "    </tr>\n",
       "  </thead>\n",
       "  <tbody>\n",
       "    <tr>\n",
       "      <th>0</th>\n",
       "      <td>6f8991ebdafffa7415b7b3b24fb949b5</td>\n",
       "      <td>./2002-12Dec.txt/0524-129207</td>\n",
       "    </tr>\n",
       "    <tr>\n",
       "      <th>1</th>\n",
       "      <td>27850dfbfbb1bde5a3bf565aeb20dc33</td>\n",
       "      <td>./2002-12Dec.txt/0452-129135</td>\n",
       "    </tr>\n",
       "    <tr>\n",
       "      <th>2</th>\n",
       "      <td>773a0cc30b4f736af16d7b64c4f1e1fe</td>\n",
       "      <td>./2002-12Dec.txt/0583-129266</td>\n",
       "    </tr>\n",
       "    <tr>\n",
       "      <th>3</th>\n",
       "      <td>76ca7b889742f41da584c543d292c90c</td>\n",
       "      <td>./2002-12Dec.txt/0186-128869</td>\n",
       "    </tr>\n",
       "    <tr>\n",
       "      <th>4</th>\n",
       "      <td>dd277b8dd158709548995d6b25d71ee7</td>\n",
       "      <td>./2002-12Dec.txt/0412-129095</td>\n",
       "    </tr>\n",
       "    <tr>\n",
       "      <th>...</th>\n",
       "      <td>...</td>\n",
       "      <td>...</td>\n",
       "    </tr>\n",
       "    <tr>\n",
       "      <th>290094</th>\n",
       "      <td>a928348fcccf144387af03edf2e309c8</td>\n",
       "      <td>./200501-06JanJun-05May.txt/2523-224819</td>\n",
       "    </tr>\n",
       "    <tr>\n",
       "      <th>290095</th>\n",
       "      <td>bc4b7e96a9bba0404b4bec0d16dba00e</td>\n",
       "      <td>./200501-06JanJun-05May.txt/1346-223642</td>\n",
       "    </tr>\n",
       "    <tr>\n",
       "      <th>290096</th>\n",
       "      <td>867e066acb77c15f7f85f6fc88745eca</td>\n",
       "      <td>./200501-06JanJun-05May.txt/3965-226261</td>\n",
       "    </tr>\n",
       "    <tr>\n",
       "      <th>290097</th>\n",
       "      <td>5b950d15830d8e6cd5eb370ad088d2e8</td>\n",
       "      <td>./200501-06JanJun-05May.txt/2286-224582</td>\n",
       "    </tr>\n",
       "    <tr>\n",
       "      <th>290098</th>\n",
       "      <td>a0e7ef04b23d3d4314e770ad87a372d2</td>\n",
       "      <td>./200501-06JanJun-05May.txt/0957-223253</td>\n",
       "    </tr>\n",
       "  </tbody>\n",
       "</table>\n",
       "<p>274124 rows × 2 columns</p>\n",
       "</div>"
      ],
      "text/plain": [
       "                                     md5  \\\n",
       "0       6f8991ebdafffa7415b7b3b24fb949b5   \n",
       "1       27850dfbfbb1bde5a3bf565aeb20dc33   \n",
       "2       773a0cc30b4f736af16d7b64c4f1e1fe   \n",
       "3       76ca7b889742f41da584c543d292c90c   \n",
       "4       dd277b8dd158709548995d6b25d71ee7   \n",
       "...                                  ...   \n",
       "290094  a928348fcccf144387af03edf2e309c8   \n",
       "290095  bc4b7e96a9bba0404b4bec0d16dba00e   \n",
       "290096  867e066acb77c15f7f85f6fc88745eca   \n",
       "290097  5b950d15830d8e6cd5eb370ad088d2e8   \n",
       "290098  a0e7ef04b23d3d4314e770ad87a372d2   \n",
       "\n",
       "                                           path  \n",
       "0                  ./2002-12Dec.txt/0524-129207  \n",
       "1                  ./2002-12Dec.txt/0452-129135  \n",
       "2                  ./2002-12Dec.txt/0583-129266  \n",
       "3                  ./2002-12Dec.txt/0186-128869  \n",
       "4                  ./2002-12Dec.txt/0412-129095  \n",
       "...                                         ...  \n",
       "290094  ./200501-06JanJun-05May.txt/2523-224819  \n",
       "290095  ./200501-06JanJun-05May.txt/1346-223642  \n",
       "290096  ./200501-06JanJun-05May.txt/3965-226261  \n",
       "290097  ./200501-06JanJun-05May.txt/2286-224582  \n",
       "290098  ./200501-06JanJun-05May.txt/0957-223253  \n",
       "\n",
       "[274124 rows x 2 columns]"
      ]
     },
     "execution_count": 196,
     "metadata": {},
     "output_type": "execute_result"
    }
   ],
   "source": [
    "df[df.duplicated('md5', keep='first')==False]"
   ]
  },
  {
   "cell_type": "code",
   "execution_count": 199,
   "id": "13ff9fdd-34f4-4c23-8818-436d7cf91075",
   "metadata": {},
   "outputs": [],
   "source": [
    "df_clean = df[df.duplicated('md5', keep='first')==False]"
   ]
  },
  {
   "cell_type": "code",
   "execution_count": 57,
   "id": "f49ee25d-5dd6-4ad3-8438-93c4ab5d9f8b",
   "metadata": {},
   "outputs": [
    {
     "data": {
      "text/html": [
       "<div>\n",
       "<style scoped>\n",
       "    .dataframe tbody tr th:only-of-type {\n",
       "        vertical-align: middle;\n",
       "    }\n",
       "\n",
       "    .dataframe tbody tr th {\n",
       "        vertical-align: top;\n",
       "    }\n",
       "\n",
       "    .dataframe thead th {\n",
       "        text-align: right;\n",
       "    }\n",
       "</style>\n",
       "<table border=\"1\" class=\"dataframe\">\n",
       "  <thead>\n",
       "    <tr style=\"text-align: right;\">\n",
       "      <th></th>\n",
       "      <th>md5</th>\n",
       "      <th>path</th>\n",
       "    </tr>\n",
       "  </thead>\n",
       "  <tbody>\n",
       "    <tr>\n",
       "      <th>71</th>\n",
       "      <td>0880ef6d51afd043637062bf331cdb0f</td>\n",
       "      <td>./2002-12Dec.txt/0962-129645</td>\n",
       "    </tr>\n",
       "    <tr>\n",
       "      <th>434</th>\n",
       "      <td>0880ef6d51afd043637062bf331cdb0f</td>\n",
       "      <td>./2002-12Dec.txt/0267-128950</td>\n",
       "    </tr>\n",
       "    <tr>\n",
       "      <th>900</th>\n",
       "      <td>0880ef6d51afd043637062bf331cdb0f</td>\n",
       "      <td>./2002-12Dec.txt/0309-128992</td>\n",
       "    </tr>\n",
       "    <tr>\n",
       "      <th>147281</th>\n",
       "      <td>0880ef6d51afd043637062bf331cdb0f</td>\n",
       "      <td>./12+December+2002+Public.txt/1016-18219</td>\n",
       "    </tr>\n",
       "  </tbody>\n",
       "</table>\n",
       "</div>"
      ],
      "text/plain": [
       "                                     md5  \\\n",
       "71      0880ef6d51afd043637062bf331cdb0f   \n",
       "434     0880ef6d51afd043637062bf331cdb0f   \n",
       "900     0880ef6d51afd043637062bf331cdb0f   \n",
       "147281  0880ef6d51afd043637062bf331cdb0f   \n",
       "\n",
       "                                            path  \n",
       "71                  ./2002-12Dec.txt/0962-129645  \n",
       "434                 ./2002-12Dec.txt/0267-128950  \n",
       "900                 ./2002-12Dec.txt/0309-128992  \n",
       "147281  ./12+December+2002+Public.txt/1016-18219  "
      ]
     },
     "execution_count": 57,
     "metadata": {},
     "output_type": "execute_result"
    }
   ],
   "source": [
    "df[df['md5']=='0880ef6d51afd043637062bf331cdb0f']"
   ]
  },
  {
   "cell_type": "code",
   "execution_count": 360,
   "id": "5576c10d-09ee-4849-8752-5e2a719cab78",
   "metadata": {},
   "outputs": [],
   "source": [
    "with open(\"./athome1mu4x7/2002-12Dec.txt/0962-129645\", 'r', encoding=\"latin1\") as f:\n",
    "    mail = {'subject':[], 'body':[]}\n",
    "    lines = f.readlines()\n",
    "    content = [line.strip()+' ' for line in lines if line!='\\n']"
   ]
  },
  {
   "cell_type": "code",
   "execution_count": 353,
   "id": "b35d3fda-70df-4fe4-a42f-c21061e3723e",
   "metadata": {},
   "outputs": [
    {
     "data": {
      "text/plain": [
       "['Re: Employment\\n']"
      ]
     },
     "execution_count": 353,
     "metadata": {},
     "output_type": "execute_result"
    }
   ],
   "source": [
    "list(filter(lambda x:x.find(\"Re:\")>=0, lines))"
   ]
  },
  {
   "cell_type": "code",
   "execution_count": 362,
   "id": "2eaf39d2-1484-4a8a-82b6-702e6ad00ba9",
   "metadata": {},
   "outputs": [
    {
     "data": {
      "text/plain": [
       "[(0, 'From:  Christina Steier'),\n",
       " (1, 'Re: Employment'),\n",
       " (2, 'Date: November 30, 2002')]"
      ]
     },
     "execution_count": 362,
     "metadata": {},
     "output_type": "execute_result"
    }
   ],
   "source": [
    "[(i,line.strip()) for (i, line) in enumerate(content) if i < 10 and \":\" in line]"
   ]
  },
  {
   "cell_type": "code",
   "execution_count": 571,
   "id": "f6c1b71e-d4d0-46bf-b730-6416e02392c6",
   "metadata": {},
   "outputs": [
    {
     "data": {
      "text/plain": [
       "'GOVERNOR BUSH PRESENTS POINTS OF LIGHT AWARD TO ALVIN ROBERTS From:Steele, Leslie leslie.steelemyflorida.com Sent:Thursday, November 30, 2000 2:18 PM Subject:GOVERNOR BUSH PRESENTS POINTS OF LIGHT AWARD TO ALVIN ROBERTSFOR IMMEDIATE RELEASE CONTACT: ELIZABETH HIRSTTHURSDAY, NOVEMBER 30, 2000(850) 4885394GOVERNOR BUSH PRESENTS POINTS OF LIGHT AWARD TO ALVIN ROBERTSPoints of Light Award Recognizes Exemplary Volunteers in FloridasCommunities TALLAHASSEEGovernor Jeb Bush today awarded Alvin Roberts of Miami the Governors Points of Light Award.The award recognizes exemplary volunteer service throughout the state.Roberts, a Vietnam combat veteran with a disability, has been a drivingforce in helping children, veterans and the disabled in his community.Heis a mentor for the 500 Role Models of Excellence Project and BigBrothers/Big Sisters of Greater Miami, president of the Center forIndependent Living of South Florida, and serves in several Veteransorganizations. \"Alvins longterm commitment to the most vulnerable members of hiscommunity has changed countless lives,\" Governor Bush said.\"Hisselflessness and dedication allows him to lead by example.He serves as awonderful role model for his community.\" As president of the Center for Independent Living of South Florida,Roberts has encouraged the staff to initiate many new projects andservices.The Centers purpose is to assist individuals with disabilitiesand promote systems that erase societal barriers for handicapped people.As a mentor and role model for the 500 Role Models of Excellence Project,he reached out to inner city youth, helping young people obtainscholarships and giving presentations to hundreds of students on thebenefits of being a positive citizen. As a volunteer for Big Brothers/Big Sisters of Greater Miami,Roberts is the only Big Brother in the history of the organization to havebeen paired to more than two Little Brothers simultaneously.For severalyears, he was matched with four Little Brothers with whom he raised fundsfor educational purposes and gave presentations to increase the number ofvolunteer mentors.(more) POINTS OF LIGHTPage Two Roberts has also been active in helping fellow veterans by serving as achaplain in the Miami Veterans Administration Medical Center.While therehe tends to spiritualneeds within the organization and the broader community by feeding andclothing thehomeless, ministering to those with lifethreatening illnesses andorganizing the funeral rites for veterans whose families cannot afford thecost. In 1992, Roberts founded the Veterans of Foreign Wars Liberty Post 11055,which is dedicated to improving the lives of unemployed and isolatedveterans. He spends time with A.I.D.S. patients, feeds the hungry, andcomforts those who are still suffering from the emotional scars of war.He currently serves as the chief of staff and color /honor guardcommander. In addition, Roberts is a member of the Vietnam Veterans of America.He initiated and coordinated disaster relief efforts throughout the UnitedStates for many months following the devastation of Hurricane Andrew anddistributed supplies to hundreds of families in Homestead. He continues toserve as the organizations first vicepresident, chaplain and color/honorguard commander. \"I feel honored to receive this award,\" Roberts said.\"I know withoutGod, I couldnt have done anything like this. There are so many peoplewith problems, and I have seen a great turnaround because of my work withthem and with children. Its a good feeling to know that I have been apart of doing something right. \" The Governors Points of Light Award, sponsored by Royal CaribbeanInternational and Celebrity Cruises, recognizes a Florida resident ororganization that demonstrates exemplary service to the community.Intermedia Communications is a major contributor, supporting thecontinuation of volunteer recognition.Award recipients are announcedweekly. A panel of judges, comprised of leaders in the areas of volunteerism andservice, evaluate incoming nominations and make recommendations to theGovernor.The award is administered by the Florida Commission onCommunity Service, a governors commission that promotes volunteerism andservice in the state.'"
      ]
     },
     "execution_count": 571,
     "metadata": {},
     "output_type": "execute_result"
    }
   ],
   "source": [
    "get_raw(\"./2000-11Nov.txt/0015-64260\")"
   ]
  },
  {
   "cell_type": "markdown",
   "id": "6930680f-475c-4d27-af4c-2672164650e8",
   "metadata": {},
   "source": [
    "2002-12Dec.txt/0524-129207\n",
    "01+January+2003+Public+2.txt/0803-804\n",
    "2000-11Nov.txt/0014-64259"
   ]
  },
  {
   "cell_type": "code",
   "execution_count": 511,
   "id": "b4d523f1-463e-4e81-adf3-b748886992b9",
   "metadata": {},
   "outputs": [],
   "source": [
    "with open(\"./athome1mu4x7/2000-11Nov.txt/0015-64260\", 'r', encoding=\"latin1\") as f:\n",
    "    mail = {'subject':[], 'body':[]}\n",
    "    lines = f.readlines()\n",
    "    content = [re.sub(r'\\t|>|-|_|\\*|<|#|@|\\'','',line.strip())+' ' for line in lines if line!='\\n']\n",
    "    head = [(i,line.strip()) for (i, line) in enumerate(content) if re.match(r'^Subject:|^Re:', line)!=None]\n",
    "    for h in head:\n",
    "        if 'Subject' in h[1]:\n",
    "            mail['subject'] = h[1][8:].strip()\n",
    "        elif 'Re' in h[1] and mail['subject']==[]:\n",
    "            mail['subject'] = h[1][3:].strip()\n",
    "        else: \n",
    "            pass\n",
    "    text = ''\n",
    "    body = text.join(content).strip()\n",
    "    body = re.sub(r'\\s{2}', '', body)\n",
    "    mail['body'] = body\n",
    "    "
   ]
  },
  {
   "cell_type": "code",
   "execution_count": 512,
   "id": "180fd2c2-37de-47d8-8136-d8d1d1868fe9",
   "metadata": {},
   "outputs": [
    {
     "data": {
      "text/plain": [
       "{'subject': 'GOVERNOR BUSH PRESENTS POINTS OF LIGHT AWARD TO ALVIN ROBERTS',\n",
       " 'body': 'From:Steele, Leslie leslie.steelemyflorida.com Sent:Thursday, November 30, 2000 2:18 PM Subject:GOVERNOR BUSH PRESENTS POINTS OF LIGHT AWARD TO ALVIN ROBERTSFOR IMMEDIATE RELEASE CONTACT: ELIZABETH HIRSTTHURSDAY, NOVEMBER 30, 2000(850) 4885394GOVERNOR BUSH PRESENTS POINTS OF LIGHT AWARD TO ALVIN ROBERTSPoints of Light Award Recognizes Exemplary Volunteers in FloridasCommunities TALLAHASSEEGovernor Jeb Bush today awarded Alvin Roberts of Miami the Governors Points of Light Award.The award recognizes exemplary volunteer service throughout the state.Roberts, a Vietnam combat veteran with a disability, has been a drivingforce in helping children, veterans and the disabled in his community.Heis a mentor for the 500 Role Models of Excellence Project and BigBrothers/Big Sisters of Greater Miami, president of the Center forIndependent Living of South Florida, and serves in several Veteransorganizations. \"Alvins longterm commitment to the most vulnerable members of hiscommunity has changed countless lives,\" Governor Bush said.\"Hisselflessness and dedication allows him to lead by example.He serves as awonderful role model for his community.\" As president of the Center for Independent Living of South Florida,Roberts has encouraged the staff to initiate many new projects andservices.The Centers purpose is to assist individuals with disabilitiesand promote systems that erase societal barriers for handicapped people.As a mentor and role model for the 500 Role Models of Excellence Project,he reached out to inner city youth, helping young people obtainscholarships and giving presentations to hundreds of students on thebenefits of being a positive citizen. As a volunteer for Big Brothers/Big Sisters of Greater Miami,Roberts is the only Big Brother in the history of the organization to havebeen paired to more than two Little Brothers simultaneously.For severalyears, he was matched with four Little Brothers with whom he raised fundsfor educational purposes and gave presentations to increase the number ofvolunteer mentors.(more) POINTS OF LIGHTPage Two Roberts has also been active in helping fellow veterans by serving as achaplain in the Miami Veterans Administration Medical Center.While therehe tends to spiritualneeds within the organization and the broader community by feeding andclothing thehomeless, ministering to those with lifethreatening illnesses andorganizing the funeral rites for veterans whose families cannot afford thecost. In 1992, Roberts founded the Veterans of Foreign Wars Liberty Post 11055,which is dedicated to improving the lives of unemployed and isolatedveterans. He spends time with A.I.D.S. patients, feeds the hungry, andcomforts those who are still suffering from the emotional scars of war.He currently serves as the chief of staff and color /honor guardcommander. In addition, Roberts is a member of the Vietnam Veterans of America.He initiated and coordinated disaster relief efforts throughout the UnitedStates for many months following the devastation of Hurricane Andrew anddistributed supplies to hundreds of families in Homestead. He continues toserve as the organizations first vicepresident, chaplain and color/honorguard commander. \"I feel honored to receive this award,\" Roberts said.\"I know withoutGod, I couldnt have done anything like this. There are so many peoplewith problems, and I have seen a great turnaround because of my work withthem and with children. Its a good feeling to know that I have been apart of doing something right. \" The Governors Points of Light Award, sponsored by Royal CaribbeanInternational and Celebrity Cruises, recognizes a Florida resident ororganization that demonstrates exemplary service to the community.Intermedia Communications is a major contributor, supporting thecontinuation of volunteer recognition.Award recipients are announcedweekly. A panel of judges, comprised of leaders in the areas of volunteerism andservice, evaluate incoming nominations and make recommendations to theGovernor.The award is administered by the Florida Commission onCommunity Service, a governors commission that promotes volunteerism andservice in the state.'}"
      ]
     },
     "execution_count": 512,
     "metadata": {},
     "output_type": "execute_result"
    }
   ],
   "source": [
    "mail"
   ]
  },
  {
   "cell_type": "code",
   "execution_count": 529,
   "id": "0be08bcd-44a4-43b3-82f6-117c3579bb7e",
   "metadata": {},
   "outputs": [],
   "source": [
    "df_clean = df_clean.drop('doc_id',axis=1)"
   ]
  },
  {
   "cell_type": "code",
   "execution_count": 551,
   "id": "9869dc89-5ba2-41dc-b300-e2b1b3d37f85",
   "metadata": {},
   "outputs": [
    {
     "data": {
      "text/html": [
       "<div>\n",
       "<style scoped>\n",
       "    .dataframe tbody tr th:only-of-type {\n",
       "        vertical-align: middle;\n",
       "    }\n",
       "\n",
       "    .dataframe tbody tr th {\n",
       "        vertical-align: top;\n",
       "    }\n",
       "\n",
       "    .dataframe thead th {\n",
       "        text-align: right;\n",
       "    }\n",
       "</style>\n",
       "<table border=\"1\" class=\"dataframe\">\n",
       "  <thead>\n",
       "    <tr style=\"text-align: right;\">\n",
       "      <th></th>\n",
       "      <th>md5</th>\n",
       "      <th>path</th>\n",
       "      <th>doc_id</th>\n",
       "    </tr>\n",
       "  </thead>\n",
       "  <tbody>\n",
       "    <tr>\n",
       "      <th>0</th>\n",
       "      <td>6f8991ebdafffa7415b7b3b24fb949b5</td>\n",
       "      <td>./2002-12Dec.txt/0524-129207</td>\n",
       "      <td>129207</td>\n",
       "    </tr>\n",
       "    <tr>\n",
       "      <th>1</th>\n",
       "      <td>27850dfbfbb1bde5a3bf565aeb20dc33</td>\n",
       "      <td>./2002-12Dec.txt/0452-129135</td>\n",
       "      <td>129135</td>\n",
       "    </tr>\n",
       "    <tr>\n",
       "      <th>2</th>\n",
       "      <td>773a0cc30b4f736af16d7b64c4f1e1fe</td>\n",
       "      <td>./2002-12Dec.txt/0583-129266</td>\n",
       "      <td>129266</td>\n",
       "    </tr>\n",
       "    <tr>\n",
       "      <th>3</th>\n",
       "      <td>76ca7b889742f41da584c543d292c90c</td>\n",
       "      <td>./2002-12Dec.txt/0186-128869</td>\n",
       "      <td>128869</td>\n",
       "    </tr>\n",
       "    <tr>\n",
       "      <th>4</th>\n",
       "      <td>dd277b8dd158709548995d6b25d71ee7</td>\n",
       "      <td>./2002-12Dec.txt/0412-129095</td>\n",
       "      <td>129095</td>\n",
       "    </tr>\n",
       "    <tr>\n",
       "      <th>...</th>\n",
       "      <td>...</td>\n",
       "      <td>...</td>\n",
       "      <td>...</td>\n",
       "    </tr>\n",
       "    <tr>\n",
       "      <th>290094</th>\n",
       "      <td>a928348fcccf144387af03edf2e309c8</td>\n",
       "      <td>./200501-06JanJun-05May.txt/2523-224819</td>\n",
       "      <td>224819</td>\n",
       "    </tr>\n",
       "    <tr>\n",
       "      <th>290095</th>\n",
       "      <td>bc4b7e96a9bba0404b4bec0d16dba00e</td>\n",
       "      <td>./200501-06JanJun-05May.txt/1346-223642</td>\n",
       "      <td>223642</td>\n",
       "    </tr>\n",
       "    <tr>\n",
       "      <th>290096</th>\n",
       "      <td>867e066acb77c15f7f85f6fc88745eca</td>\n",
       "      <td>./200501-06JanJun-05May.txt/3965-226261</td>\n",
       "      <td>226261</td>\n",
       "    </tr>\n",
       "    <tr>\n",
       "      <th>290097</th>\n",
       "      <td>5b950d15830d8e6cd5eb370ad088d2e8</td>\n",
       "      <td>./200501-06JanJun-05May.txt/2286-224582</td>\n",
       "      <td>224582</td>\n",
       "    </tr>\n",
       "    <tr>\n",
       "      <th>290098</th>\n",
       "      <td>a0e7ef04b23d3d4314e770ad87a372d2</td>\n",
       "      <td>./200501-06JanJun-05May.txt/0957-223253</td>\n",
       "      <td>223253</td>\n",
       "    </tr>\n",
       "  </tbody>\n",
       "</table>\n",
       "<p>274124 rows × 3 columns</p>\n",
       "</div>"
      ],
      "text/plain": [
       "                                     md5  \\\n",
       "0       6f8991ebdafffa7415b7b3b24fb949b5   \n",
       "1       27850dfbfbb1bde5a3bf565aeb20dc33   \n",
       "2       773a0cc30b4f736af16d7b64c4f1e1fe   \n",
       "3       76ca7b889742f41da584c543d292c90c   \n",
       "4       dd277b8dd158709548995d6b25d71ee7   \n",
       "...                                  ...   \n",
       "290094  a928348fcccf144387af03edf2e309c8   \n",
       "290095  bc4b7e96a9bba0404b4bec0d16dba00e   \n",
       "290096  867e066acb77c15f7f85f6fc88745eca   \n",
       "290097  5b950d15830d8e6cd5eb370ad088d2e8   \n",
       "290098  a0e7ef04b23d3d4314e770ad87a372d2   \n",
       "\n",
       "                                           path  doc_id  \n",
       "0                  ./2002-12Dec.txt/0524-129207  129207  \n",
       "1                  ./2002-12Dec.txt/0452-129135  129135  \n",
       "2                  ./2002-12Dec.txt/0583-129266  129266  \n",
       "3                  ./2002-12Dec.txt/0186-128869  128869  \n",
       "4                  ./2002-12Dec.txt/0412-129095  129095  \n",
       "...                                         ...     ...  \n",
       "290094  ./200501-06JanJun-05May.txt/2523-224819  224819  \n",
       "290095  ./200501-06JanJun-05May.txt/1346-223642  223642  \n",
       "290096  ./200501-06JanJun-05May.txt/3965-226261  226261  \n",
       "290097  ./200501-06JanJun-05May.txt/2286-224582  224582  \n",
       "290098  ./200501-06JanJun-05May.txt/0957-223253  223253  \n",
       "\n",
       "[274124 rows x 3 columns]"
      ]
     },
     "execution_count": 551,
     "metadata": {},
     "output_type": "execute_result"
    }
   ],
   "source": [
    "df_clean"
   ]
  },
  {
   "cell_type": "code",
   "execution_count": 531,
   "id": "493dad9d-7caa-4262-9737-065c11341abe",
   "metadata": {},
   "outputs": [],
   "source": [
    "df_clean['doc_id'] = df_clean['path'].apply(lambda x: x.split('-')[-1])"
   ]
  },
  {
   "cell_type": "code",
   "execution_count": 549,
   "id": "eadbdb02-5859-467b-91c5-1c282051e42d",
   "metadata": {},
   "outputs": [],
   "source": [
    "def id_format(x):\n",
    "    if len(x)<6:\n",
    "        x = \"0\" * (6-len(x)) + x\n",
    "    return x\n",
    "\n",
    "df_clean['doc_id'] = df_clean['doc_id'].apply(id_format)"
   ]
  },
  {
   "cell_type": "code",
   "execution_count": 560,
   "id": "89f90ce1-966b-4d2c-9a1c-3ed47b1fe70d",
   "metadata": {},
   "outputs": [
    {
     "data": {
      "text/plain": [
       "6"
      ]
     },
     "execution_count": 560,
     "metadata": {},
     "output_type": "execute_result"
    }
   ],
   "source": [
    "min(df_clean['doc_id'].str.len())"
   ]
  },
  {
   "cell_type": "code",
   "execution_count": 573,
   "id": "942b7118-d68a-4e63-b7e9-727c662d6821",
   "metadata": {},
   "outputs": [
    {
     "data": {
      "text/html": [
       "<div>\n",
       "<style scoped>\n",
       "    .dataframe tbody tr th:only-of-type {\n",
       "        vertical-align: middle;\n",
       "    }\n",
       "\n",
       "    .dataframe tbody tr th {\n",
       "        vertical-align: top;\n",
       "    }\n",
       "\n",
       "    .dataframe thead th {\n",
       "        text-align: right;\n",
       "    }\n",
       "</style>\n",
       "<table border=\"1\" class=\"dataframe\">\n",
       "  <thead>\n",
       "    <tr style=\"text-align: right;\">\n",
       "      <th></th>\n",
       "      <th>md5</th>\n",
       "      <th>path</th>\n",
       "      <th>doc_id</th>\n",
       "      <th>raw</th>\n",
       "    </tr>\n",
       "  </thead>\n",
       "  <tbody>\n",
       "    <tr>\n",
       "      <th>0</th>\n",
       "      <td>6f8991ebdafffa7415b7b3b24fb949b5</td>\n",
       "      <td>./2002-12Dec.txt/0524-129207</td>\n",
       "      <td>129207</td>\n",
       "      <td>FW: Citizens Days and Their Importance/Success...</td>\n",
       "    </tr>\n",
       "    <tr>\n",
       "      <th>1</th>\n",
       "      <td>27850dfbfbb1bde5a3bf565aeb20dc33</td>\n",
       "      <td>./2002-12Dec.txt/0452-129135</td>\n",
       "      <td>129135</td>\n",
       "      <td>re: mary matalin From:Jeb Bush Sent:Saturday, ...</td>\n",
       "    </tr>\n",
       "    <tr>\n",
       "      <th>2</th>\n",
       "      <td>773a0cc30b4f736af16d7b64c4f1e1fe</td>\n",
       "      <td>./2002-12Dec.txt/0583-129266</td>\n",
       "      <td>129266</td>\n",
       "      <td>RE: Hello Gov From:Muniz, Katie Katie.MunizMyF...</td>\n",
       "    </tr>\n",
       "    <tr>\n",
       "      <th>3</th>\n",
       "      <td>76ca7b889742f41da584c543d292c90c</td>\n",
       "      <td>./2002-12Dec.txt/0186-128869</td>\n",
       "      <td>128869</td>\n",
       "      <td>RE: Meeting with the Governor From:Dana, Pam p...</td>\n",
       "    </tr>\n",
       "    <tr>\n",
       "      <th>4</th>\n",
       "      <td>dd277b8dd158709548995d6b25d71ee7</td>\n",
       "      <td>./2002-12Dec.txt/0412-129095</td>\n",
       "      <td>129095</td>\n",
       "      <td>Status of Inquiry Into Corrupt Practices in Ba...</td>\n",
       "    </tr>\n",
       "    <tr>\n",
       "      <th>...</th>\n",
       "      <td>...</td>\n",
       "      <td>...</td>\n",
       "      <td>...</td>\n",
       "      <td>...</td>\n",
       "    </tr>\n",
       "    <tr>\n",
       "      <th>290094</th>\n",
       "      <td>a928348fcccf144387af03edf2e309c8</td>\n",
       "      <td>./200501-06JanJun-05May.txt/2523-224819</td>\n",
       "      <td>224819</td>\n",
       "      <td>Fw: CARD funding for Autism From:JEANNE KURANI...</td>\n",
       "    </tr>\n",
       "    <tr>\n",
       "      <th>290095</th>\n",
       "      <td>bc4b7e96a9bba0404b4bec0d16dba00e</td>\n",
       "      <td>./200501-06JanJun-05May.txt/1346-223642</td>\n",
       "      <td>223642</td>\n",
       "      <td>Gaetz article From:Gilley, Janice Janice.Gille...</td>\n",
       "    </tr>\n",
       "    <tr>\n",
       "      <th>290096</th>\n",
       "      <td>867e066acb77c15f7f85f6fc88745eca</td>\n",
       "      <td>./200501-06JanJun-05May.txt/3965-226261</td>\n",
       "      <td>226261</td>\n",
       "      <td>From:Levesque, Patricia Patricia.LevesqueMyFl...</td>\n",
       "    </tr>\n",
       "    <tr>\n",
       "      <th>290097</th>\n",
       "      <td>5b950d15830d8e6cd5eb370ad088d2e8</td>\n",
       "      <td>./200501-06JanJun-05May.txt/2286-224582</td>\n",
       "      <td>224582</td>\n",
       "      <td>Early Learning Coalition of Broward From:Jeb B...</td>\n",
       "    </tr>\n",
       "    <tr>\n",
       "      <th>290098</th>\n",
       "      <td>a0e7ef04b23d3d4314e770ad87a372d2</td>\n",
       "      <td>./200501-06JanJun-05May.txt/0957-223253</td>\n",
       "      <td>223253</td>\n",
       "      <td>Breanna Deliseo Case from D10 (Broward County)...</td>\n",
       "    </tr>\n",
       "  </tbody>\n",
       "</table>\n",
       "<p>274124 rows × 4 columns</p>\n",
       "</div>"
      ],
      "text/plain": [
       "                                     md5  \\\n",
       "0       6f8991ebdafffa7415b7b3b24fb949b5   \n",
       "1       27850dfbfbb1bde5a3bf565aeb20dc33   \n",
       "2       773a0cc30b4f736af16d7b64c4f1e1fe   \n",
       "3       76ca7b889742f41da584c543d292c90c   \n",
       "4       dd277b8dd158709548995d6b25d71ee7   \n",
       "...                                  ...   \n",
       "290094  a928348fcccf144387af03edf2e309c8   \n",
       "290095  bc4b7e96a9bba0404b4bec0d16dba00e   \n",
       "290096  867e066acb77c15f7f85f6fc88745eca   \n",
       "290097  5b950d15830d8e6cd5eb370ad088d2e8   \n",
       "290098  a0e7ef04b23d3d4314e770ad87a372d2   \n",
       "\n",
       "                                           path  doc_id  \\\n",
       "0                  ./2002-12Dec.txt/0524-129207  129207   \n",
       "1                  ./2002-12Dec.txt/0452-129135  129135   \n",
       "2                  ./2002-12Dec.txt/0583-129266  129266   \n",
       "3                  ./2002-12Dec.txt/0186-128869  128869   \n",
       "4                  ./2002-12Dec.txt/0412-129095  129095   \n",
       "...                                         ...     ...   \n",
       "290094  ./200501-06JanJun-05May.txt/2523-224819  224819   \n",
       "290095  ./200501-06JanJun-05May.txt/1346-223642  223642   \n",
       "290096  ./200501-06JanJun-05May.txt/3965-226261  226261   \n",
       "290097  ./200501-06JanJun-05May.txt/2286-224582  224582   \n",
       "290098  ./200501-06JanJun-05May.txt/0957-223253  223253   \n",
       "\n",
       "                                                      raw  \n",
       "0       FW: Citizens Days and Their Importance/Success...  \n",
       "1       re: mary matalin From:Jeb Bush Sent:Saturday, ...  \n",
       "2       RE: Hello Gov From:Muniz, Katie Katie.MunizMyF...  \n",
       "3       RE: Meeting with the Governor From:Dana, Pam p...  \n",
       "4       Status of Inquiry Into Corrupt Practices in Ba...  \n",
       "...                                                   ...  \n",
       "290094  Fw: CARD funding for Autism From:JEANNE KURANI...  \n",
       "290095  Gaetz article From:Gilley, Janice Janice.Gille...  \n",
       "290096   From:Levesque, Patricia Patricia.LevesqueMyFl...  \n",
       "290097  Early Learning Coalition of Broward From:Jeb B...  \n",
       "290098  Breanna Deliseo Case from D10 (Broward County)...  \n",
       "\n",
       "[274124 rows x 4 columns]"
      ]
     },
     "execution_count": 573,
     "metadata": {},
     "output_type": "execute_result"
    }
   ],
   "source": [
    "df_clean"
   ]
  },
  {
   "cell_type": "code",
   "execution_count": 572,
   "id": "808807c7-f618-4f9d-8bec-8616d33e127f",
   "metadata": {},
   "outputs": [],
   "source": [
    "df_clean['raw'] = df_clean['path'].apply(get_raw)"
   ]
  },
  {
   "cell_type": "code",
   "execution_count": 575,
   "id": "03740145-c7a3-4828-bb36-044e731130bc",
   "metadata": {},
   "outputs": [
    {
     "name": "stdout",
     "output_type": "stream",
     "text": [
      "/Users/Code/goldilocks_reproduce/jeb_bush\n"
     ]
    }
   ],
   "source": [
    "%cd ../"
   ]
  },
  {
   "cell_type": "code",
   "execution_count": 576,
   "id": "628ee6c9-5ad4-4f73-b609-31f23bf10849",
   "metadata": {},
   "outputs": [],
   "source": [
    "df_clean.to_csv(\"./raw_text_org.csv\") #changed +org"
   ]
  },
  {
   "cell_type": "code",
   "execution_count": 577,
   "id": "e32315cc-8c9a-47bd-8f77-db3e94e6fbd6",
   "metadata": {},
   "outputs": [],
   "source": [
    "df_clean.to_pickle(\"./raw_text_org.pkl\")"
   ]
  },
  {
   "cell_type": "code",
   "execution_count": 582,
   "id": "b015580f-8a23-4f9a-8317-e689d7850943",
   "metadata": {},
   "outputs": [],
   "source": [
    "df_clean = df_clean.drop(['md5','path'],axis=1)"
   ]
  },
  {
   "cell_type": "code",
   "execution_count": 583,
   "id": "9258cf9c-4ea3-40fb-908a-3a328f08250e",
   "metadata": {},
   "outputs": [
    {
     "data": {
      "text/html": [
       "<div>\n",
       "<style scoped>\n",
       "    .dataframe tbody tr th:only-of-type {\n",
       "        vertical-align: middle;\n",
       "    }\n",
       "\n",
       "    .dataframe tbody tr th {\n",
       "        vertical-align: top;\n",
       "    }\n",
       "\n",
       "    .dataframe thead th {\n",
       "        text-align: right;\n",
       "    }\n",
       "</style>\n",
       "<table border=\"1\" class=\"dataframe\">\n",
       "  <thead>\n",
       "    <tr style=\"text-align: right;\">\n",
       "      <th></th>\n",
       "      <th>doc_id</th>\n",
       "      <th>raw</th>\n",
       "    </tr>\n",
       "  </thead>\n",
       "  <tbody>\n",
       "    <tr>\n",
       "      <th>0</th>\n",
       "      <td>129207</td>\n",
       "      <td>FW: Citizens Days and Their Importance/Success...</td>\n",
       "    </tr>\n",
       "    <tr>\n",
       "      <th>1</th>\n",
       "      <td>129135</td>\n",
       "      <td>re: mary matalin From:Jeb Bush Sent:Saturday, ...</td>\n",
       "    </tr>\n",
       "    <tr>\n",
       "      <th>2</th>\n",
       "      <td>129266</td>\n",
       "      <td>RE: Hello Gov From:Muniz, Katie Katie.MunizMyF...</td>\n",
       "    </tr>\n",
       "    <tr>\n",
       "      <th>3</th>\n",
       "      <td>128869</td>\n",
       "      <td>RE: Meeting with the Governor From:Dana, Pam p...</td>\n",
       "    </tr>\n",
       "    <tr>\n",
       "      <th>4</th>\n",
       "      <td>129095</td>\n",
       "      <td>Status of Inquiry Into Corrupt Practices in Ba...</td>\n",
       "    </tr>\n",
       "    <tr>\n",
       "      <th>...</th>\n",
       "      <td>...</td>\n",
       "      <td>...</td>\n",
       "    </tr>\n",
       "    <tr>\n",
       "      <th>290094</th>\n",
       "      <td>224819</td>\n",
       "      <td>Fw: CARD funding for Autism From:JEANNE KURANI...</td>\n",
       "    </tr>\n",
       "    <tr>\n",
       "      <th>290095</th>\n",
       "      <td>223642</td>\n",
       "      <td>Gaetz article From:Gilley, Janice Janice.Gille...</td>\n",
       "    </tr>\n",
       "    <tr>\n",
       "      <th>290096</th>\n",
       "      <td>226261</td>\n",
       "      <td>From:Levesque, Patricia Patricia.LevesqueMyFl...</td>\n",
       "    </tr>\n",
       "    <tr>\n",
       "      <th>290097</th>\n",
       "      <td>224582</td>\n",
       "      <td>Early Learning Coalition of Broward From:Jeb B...</td>\n",
       "    </tr>\n",
       "    <tr>\n",
       "      <th>290098</th>\n",
       "      <td>223253</td>\n",
       "      <td>Breanna Deliseo Case from D10 (Broward County)...</td>\n",
       "    </tr>\n",
       "  </tbody>\n",
       "</table>\n",
       "<p>274124 rows × 2 columns</p>\n",
       "</div>"
      ],
      "text/plain": [
       "        doc_id                                                raw\n",
       "0       129207  FW: Citizens Days and Their Importance/Success...\n",
       "1       129135  re: mary matalin From:Jeb Bush Sent:Saturday, ...\n",
       "2       129266  RE: Hello Gov From:Muniz, Katie Katie.MunizMyF...\n",
       "3       128869  RE: Meeting with the Governor From:Dana, Pam p...\n",
       "4       129095  Status of Inquiry Into Corrupt Practices in Ba...\n",
       "...        ...                                                ...\n",
       "290094  224819  Fw: CARD funding for Autism From:JEANNE KURANI...\n",
       "290095  223642  Gaetz article From:Gilley, Janice Janice.Gille...\n",
       "290096  226261   From:Levesque, Patricia Patricia.LevesqueMyFl...\n",
       "290097  224582  Early Learning Coalition of Broward From:Jeb B...\n",
       "290098  223253  Breanna Deliseo Case from D10 (Broward County)...\n",
       "\n",
       "[274124 rows x 2 columns]"
      ]
     },
     "execution_count": 583,
     "metadata": {},
     "output_type": "execute_result"
    }
   ],
   "source": [
    "df_clean"
   ]
  },
  {
   "cell_type": "code",
   "execution_count": 63,
   "id": "3b09797d-a2f7-4ee6-a267-1b5df146889d",
   "metadata": {},
   "outputs": [],
   "source": [
    "lb = pd.read_table(\"./rels/rel.judgments_athome100\", sep='\\s+',header=0)"
   ]
  },
  {
   "cell_type": "code",
   "execution_count": 64,
   "id": "8a80896c-8545-446a-b8b6-239b5a346c44",
   "metadata": {},
   "outputs": [
    {
     "data": {
      "text/html": [
       "<div>\n",
       "<style scoped>\n",
       "    .dataframe tbody tr th:only-of-type {\n",
       "        vertical-align: middle;\n",
       "    }\n",
       "\n",
       "    .dataframe tbody tr th {\n",
       "        vertical-align: top;\n",
       "    }\n",
       "\n",
       "    .dataframe thead th {\n",
       "        text-align: right;\n",
       "    }\n",
       "</style>\n",
       "<table border=\"1\" class=\"dataframe\">\n",
       "  <thead>\n",
       "    <tr style=\"text-align: right;\">\n",
       "      <th></th>\n",
       "      <th>docid</th>\n",
       "    </tr>\n",
       "  </thead>\n",
       "  <tbody>\n",
       "    <tr>\n",
       "      <th>0</th>\n",
       "      <td>0000-112202</td>\n",
       "    </tr>\n",
       "    <tr>\n",
       "      <th>1</th>\n",
       "      <td>0000-132852</td>\n",
       "    </tr>\n",
       "    <tr>\n",
       "      <th>2</th>\n",
       "      <td>0000-25077</td>\n",
       "    </tr>\n",
       "    <tr>\n",
       "      <th>3</th>\n",
       "      <td>0002-51565</td>\n",
       "    </tr>\n",
       "    <tr>\n",
       "      <th>4</th>\n",
       "      <td>0003-126161</td>\n",
       "    </tr>\n",
       "    <tr>\n",
       "      <th>...</th>\n",
       "      <td>...</td>\n",
       "    </tr>\n",
       "    <tr>\n",
       "      <th>4537</th>\n",
       "      <td>8582-251914</td>\n",
       "    </tr>\n",
       "    <tr>\n",
       "      <th>4538</th>\n",
       "      <td>8708-252040</td>\n",
       "    </tr>\n",
       "    <tr>\n",
       "      <th>4539</th>\n",
       "      <td>8743-252075</td>\n",
       "    </tr>\n",
       "    <tr>\n",
       "      <th>4540</th>\n",
       "      <td>8744-252076</td>\n",
       "    </tr>\n",
       "    <tr>\n",
       "      <th>4541</th>\n",
       "      <td>9013-252345</td>\n",
       "    </tr>\n",
       "  </tbody>\n",
       "</table>\n",
       "<p>4542 rows × 1 columns</p>\n",
       "</div>"
      ],
      "text/plain": [
       "            docid\n",
       "0     0000-112202\n",
       "1     0000-132852\n",
       "2      0000-25077\n",
       "3      0002-51565\n",
       "4     0003-126161\n",
       "...           ...\n",
       "4537  8582-251914\n",
       "4538  8708-252040\n",
       "4539  8743-252075\n",
       "4540  8744-252076\n",
       "4541  9013-252345\n",
       "\n",
       "[4542 rows x 1 columns]"
      ]
     },
     "execution_count": 64,
     "metadata": {},
     "output_type": "execute_result"
    }
   ],
   "source": [
    "lb"
   ]
  },
  {
   "cell_type": "code",
   "execution_count": 772,
   "id": "884e5390-09c5-4f0d-be87-6d03f02cb7c7",
   "metadata": {},
   "outputs": [],
   "source": [
    "jb_rel_dict = {}\n",
    "\n",
    "def athome1_rel_load(dataset:str):\n",
    "    \"\"\" athome dataset from 100 to 109. \"\"\"\n",
    "    \n",
    "    path = f\"./rels/rel.judgments_athome{dataset}\"\n",
    "    with open(path, 'r')as f:\n",
    "        lines = f.readlines()[1:]\n",
    "        doc_id_list = []\n",
    "        for line in lines:\n",
    "            doc_id = line.split('-')[1].strip('\\n')\n",
    "            if len(doc_id) < 6:\n",
    "                doc_id = \"0\" * (6-len(doc_id)) + doc_id\n",
    "            if doc_id not in clean_docs: # replace duplicate\n",
    "                for k in dul_map.keys():\n",
    "                    if doc_id in dul_map[k]:\n",
    "                        doc_id = k\n",
    "                    else:\n",
    "                        continue\n",
    "            doc_id_list.append(doc_id)\n",
    "        jb_rel_dict[dataset] = doc_id_list\n",
    "    return "
   ]
  },
  {
   "cell_type": "code",
   "execution_count": 771,
   "id": "a21697db-4481-46d4-a3ea-17a78ec4a9a8",
   "metadata": {},
   "outputs": [
    {
     "data": {
      "text/plain": [
       "10658"
      ]
     },
     "execution_count": 771,
     "metadata": {},
     "output_type": "execute_result"
    }
   ],
   "source": [
    "len(dul_map.keys())"
   ]
  },
  {
   "cell_type": "code",
   "execution_count": null,
   "id": "d1f407f4-4fd3-45bf-b4ff-f3e9f623192c",
   "metadata": {},
   "outputs": [],
   "source": [
    "# cleaned athome1 rel\n",
    "for i in range(100,110):\n",
    "    athome1_rel_load(str(i))"
   ]
  },
  {
   "cell_type": "code",
   "execution_count": 204,
   "id": "f86d5354-8d28-4bb5-8fd9-e5535531e31f",
   "metadata": {},
   "outputs": [
    {
     "data": {
      "text/plain": [
       "4542"
      ]
     },
     "execution_count": 204,
     "metadata": {},
     "output_type": "execute_result"
    }
   ],
   "source": [
    "len(jb_rel_dict['100'])"
   ]
  },
  {
   "cell_type": "code",
   "execution_count": 205,
   "id": "5edb2578-7628-446e-8336-587c8a64ac00",
   "metadata": {},
   "outputs": [
    {
     "data": {
      "text/plain": [
       "True"
      ]
     },
     "execution_count": 205,
     "metadata": {},
     "output_type": "execute_result"
    }
   ],
   "source": [
    "'000009' in jb_rel_dict['101']"
   ]
  },
  {
   "cell_type": "code",
   "execution_count": 858,
   "id": "27b1e103-3816-42b5-aa74-384e64d53d62",
   "metadata": {},
   "outputs": [],
   "source": [
    "t_set = test()"
   ]
  },
  {
   "cell_type": "code",
   "execution_count": 852,
   "id": "7204a25d-a85d-40bd-a2cf-cadc0613d369",
   "metadata": {},
   "outputs": [],
   "source": [
    "athome4 = athome4_rel_load()"
   ]
  },
  {
   "cell_type": "code",
   "execution_count": 860,
   "id": "df11358a-db70-4fc0-a399-ed9a81d75b1d",
   "metadata": {},
   "outputs": [
    {
     "data": {
      "text/plain": [
       "898"
      ]
     },
     "execution_count": 860,
     "metadata": {},
     "output_type": "execute_result"
    }
   ],
   "source": [
    "len(t_set['401'])"
   ]
  },
  {
   "cell_type": "code",
   "execution_count": 853,
   "id": "cb198a09-1160-42a1-99f8-379d1f9c8877",
   "metadata": {},
   "outputs": [
    {
     "data": {
      "text/plain": [
       "816"
      ]
     },
     "execution_count": 853,
     "metadata": {},
     "output_type": "execute_result"
    }
   ],
   "source": [
    "len(athome4['401'])"
   ]
  },
  {
   "cell_type": "markdown",
   "id": "daab89b7-f182-47e3-ad9e-378ea09bc2b4",
   "metadata": {
    "jp-MarkdownHeadingCollapsed": true,
    "tags": []
   },
   "source": [
    "#### .DS_Store"
   ]
  },
  {
   "cell_type": "code",
   "execution_count": 114,
   "id": "b86d55c4-f6ad-4205-87cd-0e218c3dfa63",
   "metadata": {},
   "outputs": [
    {
     "data": {
      "text/plain": [
       "290100"
      ]
     },
     "execution_count": 114,
     "metadata": {},
     "output_type": "execute_result"
    }
   ],
   "source": [
    "len(df.path.to_list())"
   ]
  },
  {
   "cell_type": "code",
   "execution_count": 127,
   "id": "2dd462fe-7d7e-4dac-bdb1-68e9b6b2bb3b",
   "metadata": {},
   "outputs": [],
   "source": [
    "doc_ids = set(df['path'].str.split('-').str[-1])"
   ]
  },
  {
   "cell_type": "code",
   "execution_count": 133,
   "id": "317dd4ba-c0b0-46d1-be3a-3738901ee35c",
   "metadata": {},
   "outputs": [],
   "source": [
    "doc_id_list = []\n",
    "\n",
    "for x in doc_ids:\n",
    "    if len(x)<6:\n",
    "        x = \"0\" * (6-len(x)) + x\n",
    "    doc_id_list.append(x)"
   ]
  },
  {
   "cell_type": "code",
   "execution_count": 134,
   "id": "60e9334c-4be2-4037-9ead-4dd4a9b1a2e2",
   "metadata": {},
   "outputs": [
    {
     "data": {
      "text/plain": [
       "290100"
      ]
     },
     "execution_count": 134,
     "metadata": {},
     "output_type": "execute_result"
    }
   ],
   "source": [
    "len(doc_id_list)"
   ]
  },
  {
   "cell_type": "code",
   "execution_count": 138,
   "id": "fe742884-213a-4105-b4cb-909964f81f11",
   "metadata": {},
   "outputs": [],
   "source": [
    "name = pd.read_table(\"./athome1.txt\", sep='\\s+',header=None, names=['doc_id'])"
   ]
  },
  {
   "cell_type": "code",
   "execution_count": 151,
   "id": "b71d95c2-2e4d-41ba-9322-c4a9725434d1",
   "metadata": {},
   "outputs": [
    {
     "data": {
      "text/plain": [
       "{'.DS_Store'}"
      ]
     },
     "execution_count": 151,
     "metadata": {},
     "output_type": "execute_result"
    }
   ],
   "source": [
    "set(df['path'].str.split('/').str[-1]).difference(set(name['doc_id']))"
   ]
  },
  {
   "cell_type": "markdown",
   "id": "840c7669-b054-4542-9209-ce7653beabe0",
   "metadata": {
    "tags": []
   },
   "source": [
    "### all doc_ids"
   ]
  },
  {
   "cell_type": "code",
   "execution_count": 209,
   "id": "ea9d9d59-abcb-41d7-a8d6-4334c2d39f14",
   "metadata": {},
   "outputs": [
    {
     "data": {
      "text/plain": [
       "290099"
      ]
     },
     "execution_count": 209,
     "metadata": {},
     "output_type": "execute_result"
    }
   ],
   "source": [
    "len(df.path.to_list())"
   ]
  },
  {
   "cell_type": "code",
   "execution_count": 210,
   "id": "2d40355e-1cb2-4ed9-8092-e9be8401adf5",
   "metadata": {},
   "outputs": [],
   "source": [
    "doc_ids = set(df['path'].str.split('-').str[-1])"
   ]
  },
  {
   "cell_type": "code",
   "execution_count": 211,
   "id": "8bbbb25e-fce6-4f13-a0cf-8a34a58cb4eb",
   "metadata": {},
   "outputs": [],
   "source": [
    "doc_id_list = []\n",
    "\n",
    "for x in doc_ids:\n",
    "    if len(x)<6:\n",
    "        x = \"0\" * (6-len(x)) + x\n",
    "    doc_id_list.append(x)"
   ]
  },
  {
   "cell_type": "code",
   "execution_count": 212,
   "id": "a8b2cf92-7c7e-4368-91ca-42f3ea8769a7",
   "metadata": {},
   "outputs": [
    {
     "data": {
      "text/plain": [
       "290099"
      ]
     },
     "execution_count": 212,
     "metadata": {},
     "output_type": "execute_result"
    }
   ],
   "source": [
    "len(doc_id_list)"
   ]
  },
  {
   "cell_type": "code",
   "execution_count": 642,
   "id": "82438058-60f3-4894-85f1-833319083735",
   "metadata": {},
   "outputs": [],
   "source": [
    "at4_df = pd.read_table(\"./athome4.facetsandqrels\", sep='\\s+',header=None, names=['dataset', 'doc_id', 'rel', 'sub'], dtype=str)"
   ]
  },
  {
   "cell_type": "code",
   "execution_count": 643,
   "id": "5959742c-251d-4869-af56-ffae74c4a15c",
   "metadata": {},
   "outputs": [
    {
     "data": {
      "text/html": [
       "<div>\n",
       "<style scoped>\n",
       "    .dataframe tbody tr th:only-of-type {\n",
       "        vertical-align: middle;\n",
       "    }\n",
       "\n",
       "    .dataframe tbody tr th {\n",
       "        vertical-align: top;\n",
       "    }\n",
       "\n",
       "    .dataframe thead th {\n",
       "        text-align: right;\n",
       "    }\n",
       "</style>\n",
       "<table border=\"1\" class=\"dataframe\">\n",
       "  <thead>\n",
       "    <tr style=\"text-align: right;\">\n",
       "      <th></th>\n",
       "      <th>dataset</th>\n",
       "      <th>doc_id</th>\n",
       "      <th>rel</th>\n",
       "      <th>sub</th>\n",
       "    </tr>\n",
       "  </thead>\n",
       "  <tbody>\n",
       "    <tr>\n",
       "      <th>0</th>\n",
       "      <td>401</td>\n",
       "      <td>000370</td>\n",
       "      <td>0</td>\n",
       "      <td>383</td>\n",
       "    </tr>\n",
       "    <tr>\n",
       "      <th>1</th>\n",
       "      <td>401</td>\n",
       "      <td>000379</td>\n",
       "      <td>0</td>\n",
       "      <td>383</td>\n",
       "    </tr>\n",
       "    <tr>\n",
       "      <th>2</th>\n",
       "      <td>401</td>\n",
       "      <td>000559</td>\n",
       "      <td>0</td>\n",
       "      <td>383</td>\n",
       "    </tr>\n",
       "    <tr>\n",
       "      <th>3</th>\n",
       "      <td>401</td>\n",
       "      <td>001831</td>\n",
       "      <td>0</td>\n",
       "      <td>383</td>\n",
       "    </tr>\n",
       "    <tr>\n",
       "      <th>4</th>\n",
       "      <td>401</td>\n",
       "      <td>007305</td>\n",
       "      <td>0</td>\n",
       "      <td>383</td>\n",
       "    </tr>\n",
       "    <tr>\n",
       "      <th>...</th>\n",
       "      <td>...</td>\n",
       "      <td>...</td>\n",
       "      <td>...</td>\n",
       "      <td>...</td>\n",
       "    </tr>\n",
       "    <tr>\n",
       "      <th>61980</th>\n",
       "      <td>409</td>\n",
       "      <td>286273</td>\n",
       "      <td>1</td>\n",
       "      <td>382</td>\n",
       "    </tr>\n",
       "    <tr>\n",
       "      <th>61981</th>\n",
       "      <td>409</td>\n",
       "      <td>286284</td>\n",
       "      <td>1</td>\n",
       "      <td>382</td>\n",
       "    </tr>\n",
       "    <tr>\n",
       "      <th>61982</th>\n",
       "      <td>409</td>\n",
       "      <td>286285</td>\n",
       "      <td>1</td>\n",
       "      <td>382</td>\n",
       "    </tr>\n",
       "    <tr>\n",
       "      <th>61983</th>\n",
       "      <td>409</td>\n",
       "      <td>286617</td>\n",
       "      <td>2</td>\n",
       "      <td>382</td>\n",
       "    </tr>\n",
       "    <tr>\n",
       "      <th>61984</th>\n",
       "      <td>409</td>\n",
       "      <td>289754</td>\n",
       "      <td>1</td>\n",
       "      <td>382</td>\n",
       "    </tr>\n",
       "  </tbody>\n",
       "</table>\n",
       "<p>61985 rows × 4 columns</p>\n",
       "</div>"
      ],
      "text/plain": [
       "      dataset  doc_id rel  sub\n",
       "0         401  000370   0  383\n",
       "1         401  000379   0  383\n",
       "2         401  000559   0  383\n",
       "3         401  001831   0  383\n",
       "4         401  007305   0  383\n",
       "...       ...     ...  ..  ...\n",
       "61980     409  286273   1  382\n",
       "61981     409  286284   1  382\n",
       "61982     409  286285   1  382\n",
       "61983     409  286617   2  382\n",
       "61984     409  289754   1  382\n",
       "\n",
       "[61985 rows x 4 columns]"
      ]
     },
     "execution_count": 643,
     "metadata": {},
     "output_type": "execute_result"
    }
   ],
   "source": [
    "at4_df"
   ]
  },
  {
   "cell_type": "code",
   "execution_count": 645,
   "id": "a58f9031-2100-4d59-a0bf-f621fa044a27",
   "metadata": {},
   "outputs": [
    {
     "data": {
      "text/html": [
       "<div>\n",
       "<style scoped>\n",
       "    .dataframe tbody tr th:only-of-type {\n",
       "        vertical-align: middle;\n",
       "    }\n",
       "\n",
       "    .dataframe tbody tr th {\n",
       "        vertical-align: top;\n",
       "    }\n",
       "\n",
       "    .dataframe thead th {\n",
       "        text-align: right;\n",
       "    }\n",
       "</style>\n",
       "<table border=\"1\" class=\"dataframe\">\n",
       "  <thead>\n",
       "    <tr style=\"text-align: right;\">\n",
       "      <th></th>\n",
       "      <th>dataset</th>\n",
       "      <th>doc_id</th>\n",
       "      <th>rel</th>\n",
       "      <th>sub</th>\n",
       "    </tr>\n",
       "  </thead>\n",
       "  <tbody>\n",
       "    <tr>\n",
       "      <th>780</th>\n",
       "      <td>402</td>\n",
       "      <td>037473</td>\n",
       "      <td>0</td>\n",
       "      <td>383</td>\n",
       "    </tr>\n",
       "    <tr>\n",
       "      <th>781</th>\n",
       "      <td>402</td>\n",
       "      <td>037485</td>\n",
       "      <td>0</td>\n",
       "      <td>383</td>\n",
       "    </tr>\n",
       "    <tr>\n",
       "      <th>821</th>\n",
       "      <td>402</td>\n",
       "      <td>050801</td>\n",
       "      <td>0</td>\n",
       "      <td>383</td>\n",
       "    </tr>\n",
       "    <tr>\n",
       "      <th>825</th>\n",
       "      <td>402</td>\n",
       "      <td>051578</td>\n",
       "      <td>0</td>\n",
       "      <td>383</td>\n",
       "    </tr>\n",
       "    <tr>\n",
       "      <th>1702</th>\n",
       "      <td>403</td>\n",
       "      <td>023802</td>\n",
       "      <td>0</td>\n",
       "      <td>383</td>\n",
       "    </tr>\n",
       "    <tr>\n",
       "      <th>...</th>\n",
       "      <td>...</td>\n",
       "      <td>...</td>\n",
       "      <td>...</td>\n",
       "      <td>...</td>\n",
       "    </tr>\n",
       "    <tr>\n",
       "      <th>61966</th>\n",
       "      <td>409</td>\n",
       "      <td>260123</td>\n",
       "      <td>1</td>\n",
       "      <td>382</td>\n",
       "    </tr>\n",
       "    <tr>\n",
       "      <th>61968</th>\n",
       "      <td>409</td>\n",
       "      <td>261876</td>\n",
       "      <td>1</td>\n",
       "      <td>382</td>\n",
       "    </tr>\n",
       "    <tr>\n",
       "      <th>61971</th>\n",
       "      <td>409</td>\n",
       "      <td>269835</td>\n",
       "      <td>1</td>\n",
       "      <td>382</td>\n",
       "    </tr>\n",
       "    <tr>\n",
       "      <th>61972</th>\n",
       "      <td>409</td>\n",
       "      <td>271118</td>\n",
       "      <td>1</td>\n",
       "      <td>382</td>\n",
       "    </tr>\n",
       "    <tr>\n",
       "      <th>61981</th>\n",
       "      <td>409</td>\n",
       "      <td>286284</td>\n",
       "      <td>1</td>\n",
       "      <td>382</td>\n",
       "    </tr>\n",
       "  </tbody>\n",
       "</table>\n",
       "<p>6250 rows × 4 columns</p>\n",
       "</div>"
      ],
      "text/plain": [
       "      dataset  doc_id rel  sub\n",
       "780       402  037473   0  383\n",
       "781       402  037485   0  383\n",
       "821       402  050801   0  383\n",
       "825       402  051578   0  383\n",
       "1702      403  023802   0  383\n",
       "...       ...     ...  ..  ...\n",
       "61966     409  260123   1  382\n",
       "61968     409  261876   1  382\n",
       "61971     409  269835   1  382\n",
       "61972     409  271118   1  382\n",
       "61981     409  286284   1  382\n",
       "\n",
       "[6250 rows x 4 columns]"
      ]
     },
     "execution_count": 645,
     "metadata": {},
     "output_type": "execute_result"
    }
   ],
   "source": [
    "at4_df[at4_df['doc_id'].duplicated()==True]"
   ]
  },
  {
   "cell_type": "code",
   "execution_count": 646,
   "id": "a00816e7-3d5a-43d1-879d-1f5d4f35b24e",
   "metadata": {},
   "outputs": [
    {
     "data": {
      "text/html": [
       "<div>\n",
       "<style scoped>\n",
       "    .dataframe tbody tr th:only-of-type {\n",
       "        vertical-align: middle;\n",
       "    }\n",
       "\n",
       "    .dataframe tbody tr th {\n",
       "        vertical-align: top;\n",
       "    }\n",
       "\n",
       "    .dataframe thead th {\n",
       "        text-align: right;\n",
       "    }\n",
       "</style>\n",
       "<table border=\"1\" class=\"dataframe\">\n",
       "  <thead>\n",
       "    <tr style=\"text-align: right;\">\n",
       "      <th></th>\n",
       "      <th>dataset</th>\n",
       "      <th>doc_id</th>\n",
       "      <th>rel</th>\n",
       "      <th>sub</th>\n",
       "    </tr>\n",
       "  </thead>\n",
       "  <tbody>\n",
       "    <tr>\n",
       "      <th>100</th>\n",
       "      <td>401</td>\n",
       "      <td>037473</td>\n",
       "      <td>0</td>\n",
       "      <td>383</td>\n",
       "    </tr>\n",
       "    <tr>\n",
       "      <th>780</th>\n",
       "      <td>402</td>\n",
       "      <td>037473</td>\n",
       "      <td>0</td>\n",
       "      <td>383</td>\n",
       "    </tr>\n",
       "  </tbody>\n",
       "</table>\n",
       "</div>"
      ],
      "text/plain": [
       "    dataset  doc_id rel  sub\n",
       "100     401  037473   0  383\n",
       "780     402  037473   0  383"
      ]
     },
     "execution_count": 646,
     "metadata": {},
     "output_type": "execute_result"
    }
   ],
   "source": [
    "at4_df[at4_df['doc_id']=='037473']"
   ]
  },
  {
   "cell_type": "code",
   "execution_count": 651,
   "id": "7de73af3-335e-4156-9f14-497cdf6983ee",
   "metadata": {},
   "outputs": [
    {
     "data": {
      "text/plain": [
       "Int64Index([    0,     1,     2,     3,     4,     5,     6,     7,     8,\n",
       "                9,\n",
       "            ...\n",
       "            52127, 52128, 52129, 52130, 52131, 52132, 52133, 52134, 52135,\n",
       "            52136],\n",
       "           dtype='int64', length=898)"
      ]
     },
     "execution_count": 651,
     "metadata": {},
     "output_type": "execute_result"
    }
   ],
   "source": [
    "at4_df[at4_df['dataset']=='401'].index"
   ]
  },
  {
   "cell_type": "code",
   "execution_count": 224,
   "id": "5e878fd6-42e0-432a-8a8d-4b479075b8ee",
   "metadata": {},
   "outputs": [
    {
     "data": {
      "text/plain": [
       "55735"
      ]
     },
     "execution_count": 224,
     "metadata": {},
     "output_type": "execute_result"
    }
   ],
   "source": [
    "len(set(at4_df['doc_id']))"
   ]
  },
  {
   "cell_type": "code",
   "execution_count": 192,
   "id": "57683993-1713-4438-8eff-37b2557916b2",
   "metadata": {},
   "outputs": [
    {
     "data": {
      "text/plain": [
       "34"
      ]
     },
     "execution_count": 192,
     "metadata": {},
     "output_type": "execute_result"
    }
   ],
   "source": [
    "len(athome4)"
   ]
  },
  {
   "cell_type": "code",
   "execution_count": 230,
   "id": "9feb357e-21cd-4cf6-833e-accfc2d54b86",
   "metadata": {},
   "outputs": [
    {
     "data": {
      "text/plain": [
       "290099"
      ]
     },
     "execution_count": 230,
     "metadata": {},
     "output_type": "execute_result"
    }
   ],
   "source": [
    "len(set(doc_id_list))"
   ]
  },
  {
   "cell_type": "code",
   "execution_count": 231,
   "id": "8ec7e3b4-87e7-4e98-baab-4440c0fb3754",
   "metadata": {},
   "outputs": [
    {
     "data": {
      "text/plain": [
       "55735"
      ]
     },
     "execution_count": 231,
     "metadata": {},
     "output_type": "execute_result"
    }
   ],
   "source": [
    "len(set(at4_df['doc_id']))"
   ]
  },
  {
   "cell_type": "code",
   "execution_count": 228,
   "id": "0ce29452-f918-4e00-a012-ff6455e7276b",
   "metadata": {},
   "outputs": [
    {
     "data": {
      "text/plain": [
       "False"
      ]
     },
     "execution_count": 228,
     "metadata": {},
     "output_type": "execute_result"
    }
   ],
   "source": [
    "set(at4_df['doc_id']) in set(doc_id_list)"
   ]
  },
  {
   "cell_type": "code",
   "execution_count": 233,
   "id": "56fc65fb-5a68-452d-b971-d25ba6ec3ddd",
   "metadata": {},
   "outputs": [
    {
     "data": {
      "text/plain": [
       "set()"
      ]
     },
     "execution_count": 233,
     "metadata": {},
     "output_type": "execute_result"
    }
   ],
   "source": [
    "set(at4_df['doc_id']).difference(set(doc_id_list))"
   ]
  },
  {
   "cell_type": "code",
   "execution_count": 720,
   "id": "ea0f6fd0-c136-4d69-b444-150406b2c70d",
   "metadata": {},
   "outputs": [
    {
     "data": {
      "text/plain": [
       "True"
      ]
     },
     "execution_count": 720,
     "metadata": {},
     "output_type": "execute_result"
    }
   ],
   "source": [
    "'052266' in set(doc_id_list) # need a map to de-duplicated "
   ]
  },
  {
   "cell_type": "code",
   "execution_count": 765,
   "id": "02b93efa-03a7-492a-8e5a-8b96a5063c38",
   "metadata": {},
   "outputs": [
    {
     "data": {
      "text/plain": [
       "10658"
      ]
     },
     "execution_count": 765,
     "metadata": {},
     "output_type": "execute_result"
    }
   ],
   "source": [
    "len(dul_map.values())"
   ]
  },
  {
   "cell_type": "code",
   "execution_count": 770,
   "id": "4c01b16e-23cb-41ad-8db0-7ee888ba04b1",
   "metadata": {},
   "outputs": [
    {
     "data": {
      "text/plain": [
       "True"
      ]
     },
     "execution_count": 770,
     "metadata": {},
     "output_type": "execute_result"
    }
   ],
   "source": [
    "set(list(dul_map.keys())).issubset(set(df_clean['doc_id']))"
   ]
  },
  {
   "cell_type": "code",
   "execution_count": 721,
   "id": "5fc43540-8135-485c-8652-7d09432d11a6",
   "metadata": {},
   "outputs": [
    {
     "data": {
      "text/plain": [
       "290099"
      ]
     },
     "execution_count": 721,
     "metadata": {},
     "output_type": "execute_result"
    }
   ],
   "source": [
    "len(doc_id_list)"
   ]
  },
  {
   "cell_type": "code",
   "execution_count": 235,
   "id": "48af2895-810e-4496-beb2-e7de42a567ae",
   "metadata": {},
   "outputs": [
    {
     "data": {
      "text/plain": [
       "True"
      ]
     },
     "execution_count": 235,
     "metadata": {},
     "output_type": "execute_result"
    }
   ],
   "source": [
    "set(at4_df['doc_id']).issubset(set(doc_id_list))"
   ]
  },
  {
   "cell_type": "code",
   "execution_count": 640,
   "id": "f3d6afc1-ecae-4502-b908-afcce72da96b",
   "metadata": {},
   "outputs": [
    {
     "data": {
      "text/html": [
       "<div>\n",
       "<style scoped>\n",
       "    .dataframe tbody tr th:only-of-type {\n",
       "        vertical-align: middle;\n",
       "    }\n",
       "\n",
       "    .dataframe tbody tr th {\n",
       "        vertical-align: top;\n",
       "    }\n",
       "\n",
       "    .dataframe thead th {\n",
       "        text-align: right;\n",
       "    }\n",
       "</style>\n",
       "<table border=\"1\" class=\"dataframe\">\n",
       "  <thead>\n",
       "    <tr style=\"text-align: right;\">\n",
       "      <th></th>\n",
       "      <th>dataset</th>\n",
       "      <th>doc_id</th>\n",
       "      <th>rel</th>\n",
       "      <th>sub</th>\n",
       "    </tr>\n",
       "  </thead>\n",
       "  <tbody>\n",
       "    <tr>\n",
       "      <th>0</th>\n",
       "      <td>401</td>\n",
       "      <td>000370</td>\n",
       "      <td>0</td>\n",
       "      <td>383</td>\n",
       "    </tr>\n",
       "    <tr>\n",
       "      <th>1</th>\n",
       "      <td>401</td>\n",
       "      <td>000379</td>\n",
       "      <td>0</td>\n",
       "      <td>383</td>\n",
       "    </tr>\n",
       "    <tr>\n",
       "      <th>2</th>\n",
       "      <td>401</td>\n",
       "      <td>000559</td>\n",
       "      <td>0</td>\n",
       "      <td>383</td>\n",
       "    </tr>\n",
       "    <tr>\n",
       "      <th>3</th>\n",
       "      <td>401</td>\n",
       "      <td>001831</td>\n",
       "      <td>0</td>\n",
       "      <td>383</td>\n",
       "    </tr>\n",
       "    <tr>\n",
       "      <th>4</th>\n",
       "      <td>401</td>\n",
       "      <td>007305</td>\n",
       "      <td>0</td>\n",
       "      <td>383</td>\n",
       "    </tr>\n",
       "    <tr>\n",
       "      <th>...</th>\n",
       "      <td>...</td>\n",
       "      <td>...</td>\n",
       "      <td>...</td>\n",
       "      <td>...</td>\n",
       "    </tr>\n",
       "    <tr>\n",
       "      <th>61980</th>\n",
       "      <td>409</td>\n",
       "      <td>286273</td>\n",
       "      <td>1</td>\n",
       "      <td>382</td>\n",
       "    </tr>\n",
       "    <tr>\n",
       "      <th>61981</th>\n",
       "      <td>409</td>\n",
       "      <td>286284</td>\n",
       "      <td>1</td>\n",
       "      <td>382</td>\n",
       "    </tr>\n",
       "    <tr>\n",
       "      <th>61982</th>\n",
       "      <td>409</td>\n",
       "      <td>286285</td>\n",
       "      <td>1</td>\n",
       "      <td>382</td>\n",
       "    </tr>\n",
       "    <tr>\n",
       "      <th>61983</th>\n",
       "      <td>409</td>\n",
       "      <td>286617</td>\n",
       "      <td>2</td>\n",
       "      <td>382</td>\n",
       "    </tr>\n",
       "    <tr>\n",
       "      <th>61984</th>\n",
       "      <td>409</td>\n",
       "      <td>289754</td>\n",
       "      <td>1</td>\n",
       "      <td>382</td>\n",
       "    </tr>\n",
       "  </tbody>\n",
       "</table>\n",
       "<p>61985 rows × 4 columns</p>\n",
       "</div>"
      ],
      "text/plain": [
       "      dataset  doc_id rel  sub\n",
       "0         401  000370   0  383\n",
       "1         401  000379   0  383\n",
       "2         401  000559   0  383\n",
       "3         401  001831   0  383\n",
       "4         401  007305   0  383\n",
       "...       ...     ...  ..  ...\n",
       "61980     409  286273   1  382\n",
       "61981     409  286284   1  382\n",
       "61982     409  286285   1  382\n",
       "61983     409  286617   2  382\n",
       "61984     409  289754   1  382\n",
       "\n",
       "[61985 rows x 4 columns]"
      ]
     },
     "execution_count": 640,
     "metadata": {},
     "output_type": "execute_result"
    }
   ],
   "source": [
    "at4_df"
   ]
  },
  {
   "cell_type": "code",
   "execution_count": 590,
   "id": "5f626a8f-12d2-46e2-ac84-da783c02b375",
   "metadata": {},
   "outputs": [
    {
     "data": {
      "text/html": [
       "<div>\n",
       "<style scoped>\n",
       "    .dataframe tbody tr th:only-of-type {\n",
       "        vertical-align: middle;\n",
       "    }\n",
       "\n",
       "    .dataframe tbody tr th {\n",
       "        vertical-align: top;\n",
       "    }\n",
       "\n",
       "    .dataframe thead th {\n",
       "        text-align: right;\n",
       "    }\n",
       "</style>\n",
       "<table border=\"1\" class=\"dataframe\">\n",
       "  <thead>\n",
       "    <tr style=\"text-align: right;\">\n",
       "      <th></th>\n",
       "      <th>doc_id</th>\n",
       "      <th>raw</th>\n",
       "    </tr>\n",
       "  </thead>\n",
       "  <tbody>\n",
       "    <tr>\n",
       "      <th>0</th>\n",
       "      <td>129207</td>\n",
       "      <td>FW: Citizens Days and Their Importance/Success...</td>\n",
       "    </tr>\n",
       "    <tr>\n",
       "      <th>1</th>\n",
       "      <td>129135</td>\n",
       "      <td>re: mary matalin From:Jeb Bush Sent:Saturday, ...</td>\n",
       "    </tr>\n",
       "    <tr>\n",
       "      <th>2</th>\n",
       "      <td>129266</td>\n",
       "      <td>RE: Hello Gov From:Muniz, Katie Katie.MunizMyF...</td>\n",
       "    </tr>\n",
       "    <tr>\n",
       "      <th>3</th>\n",
       "      <td>128869</td>\n",
       "      <td>RE: Meeting with the Governor From:Dana, Pam p...</td>\n",
       "    </tr>\n",
       "    <tr>\n",
       "      <th>4</th>\n",
       "      <td>129095</td>\n",
       "      <td>Status of Inquiry Into Corrupt Practices in Ba...</td>\n",
       "    </tr>\n",
       "    <tr>\n",
       "      <th>...</th>\n",
       "      <td>...</td>\n",
       "      <td>...</td>\n",
       "    </tr>\n",
       "    <tr>\n",
       "      <th>290094</th>\n",
       "      <td>224819</td>\n",
       "      <td>Fw: CARD funding for Autism From:JEANNE KURANI...</td>\n",
       "    </tr>\n",
       "    <tr>\n",
       "      <th>290095</th>\n",
       "      <td>223642</td>\n",
       "      <td>Gaetz article From:Gilley, Janice Janice.Gille...</td>\n",
       "    </tr>\n",
       "    <tr>\n",
       "      <th>290096</th>\n",
       "      <td>226261</td>\n",
       "      <td>From:Levesque, Patricia Patricia.LevesqueMyFl...</td>\n",
       "    </tr>\n",
       "    <tr>\n",
       "      <th>290097</th>\n",
       "      <td>224582</td>\n",
       "      <td>Early Learning Coalition of Broward From:Jeb B...</td>\n",
       "    </tr>\n",
       "    <tr>\n",
       "      <th>290098</th>\n",
       "      <td>223253</td>\n",
       "      <td>Breanna Deliseo Case from D10 (Broward County)...</td>\n",
       "    </tr>\n",
       "  </tbody>\n",
       "</table>\n",
       "<p>274124 rows × 2 columns</p>\n",
       "</div>"
      ],
      "text/plain": [
       "        doc_id                                                raw\n",
       "0       129207  FW: Citizens Days and Their Importance/Success...\n",
       "1       129135  re: mary matalin From:Jeb Bush Sent:Saturday, ...\n",
       "2       129266  RE: Hello Gov From:Muniz, Katie Katie.MunizMyF...\n",
       "3       128869  RE: Meeting with the Governor From:Dana, Pam p...\n",
       "4       129095  Status of Inquiry Into Corrupt Practices in Ba...\n",
       "...        ...                                                ...\n",
       "290094  224819  Fw: CARD funding for Autism From:JEANNE KURANI...\n",
       "290095  223642  Gaetz article From:Gilley, Janice Janice.Gille...\n",
       "290096  226261   From:Levesque, Patricia Patricia.LevesqueMyFl...\n",
       "290097  224582  Early Learning Coalition of Broward From:Jeb B...\n",
       "290098  223253  Breanna Deliseo Case from D10 (Broward County)...\n",
       "\n",
       "[274124 rows x 2 columns]"
      ]
     },
     "execution_count": 590,
     "metadata": {},
     "output_type": "execute_result"
    }
   ],
   "source": [
    "df_clean"
   ]
  },
  {
   "cell_type": "code",
   "execution_count": 596,
   "id": "597c1ee9-31ea-4ee9-8027-f4208ed6f015",
   "metadata": {},
   "outputs": [
    {
     "name": "stdout",
     "output_type": "stream",
     "text": [
      "100\n",
      "101\n",
      "102\n",
      "103\n",
      "104\n",
      "105\n",
      "106\n",
      "107\n",
      "108\n",
      "109\n"
     ]
    }
   ],
   "source": [
    "jb_rel_dict.keys()"
   ]
  },
  {
   "cell_type": "code",
   "execution_count": 637,
   "id": "4a490104-9049-4ad7-9350-8103239b40ea",
   "metadata": {},
   "outputs": [
    {
     "name": "stdout",
     "output_type": "stream",
     "text": [
      "100 4542\n",
      "101 5836\n",
      "102 1624\n",
      "103 5725\n",
      "104 227\n",
      "105 3635\n",
      "106 17135\n",
      "107 2375\n",
      "108 2375\n",
      "109 506\n"
     ]
    }
   ],
   "source": [
    "for k in jb_rel_dict.keys():\n",
    "    print(k, len(jb_rel_dict[k]))\n",
    "    if '129207' in jb_rel_dict[k]:\n",
    "        print(True)"
   ]
  },
  {
   "cell_type": "code",
   "execution_count": 616,
   "id": "fc112e49-354a-49f8-a4cf-ee2d7172b385",
   "metadata": {},
   "outputs": [],
   "source": [
    "values = []\n",
    "for i in jb_rel_dict.values():\n",
    "    for j in i:\n",
    "        values.append(j)"
   ]
  },
  {
   "cell_type": "code",
   "execution_count": 619,
   "id": "8cd07879-7d8c-4e67-8c79-d21e34035d8d",
   "metadata": {},
   "outputs": [
    {
     "data": {
      "text/plain": [
       "43001"
      ]
     },
     "execution_count": 619,
     "metadata": {},
     "output_type": "execute_result"
    }
   ],
   "source": [
    "# 1 doc to >1 topics\n",
    "\n",
    "len(set(values))"
   ]
  },
  {
   "cell_type": "code",
   "execution_count": 617,
   "id": "2d294462-61e1-45bd-a560-c9a6411ac4ae",
   "metadata": {},
   "outputs": [
    {
     "data": {
      "text/plain": [
       "43980"
      ]
     },
     "execution_count": 617,
     "metadata": {},
     "output_type": "execute_result"
    }
   ],
   "source": [
    "len(values)"
   ]
  },
  {
   "cell_type": "code",
   "execution_count": 628,
   "id": "4fe50612-c5c2-4fc1-b481-11882ad6e3fe",
   "metadata": {},
   "outputs": [],
   "source": [
    "df_info = df_clean.copy()"
   ]
  },
  {
   "cell_type": "code",
   "execution_count": 778,
   "id": "4cb50936-a6d4-455c-9411-45591e106cd1",
   "metadata": {},
   "outputs": [],
   "source": [
    "df_dedul = df_clean.copy()"
   ]
  },
  {
   "cell_type": "code",
   "execution_count": 779,
   "id": "a820b445-caf7-4a71-a8b0-76255906ce88",
   "metadata": {},
   "outputs": [
    {
     "name": "stderr",
     "output_type": "stream",
     "text": [
      "274124it [03:18, 1378.87it/s]\n"
     ]
    }
   ],
   "source": [
    "# final jb_rel\n",
    "for row in tqdm(df_dedul.itertuples()):\n",
    "    for topic in jb_rel_dict.keys():\n",
    "        if row.doc_id in jb_rel_dict[topic]:\n",
    "            df_dedul.loc[row.Index, topic] = True\n",
    "        else:\n",
    "            df_dedul.loc[row.Index, topic] = False"
   ]
  },
  {
   "cell_type": "code",
   "execution_count": 632,
   "id": "ccd6ccfc-6d29-4966-bbb8-f8c1fca62fb8",
   "metadata": {},
   "outputs": [
    {
     "data": {
      "text/html": [
       "<div>\n",
       "<style scoped>\n",
       "    .dataframe tbody tr th:only-of-type {\n",
       "        vertical-align: middle;\n",
       "    }\n",
       "\n",
       "    .dataframe tbody tr th {\n",
       "        vertical-align: top;\n",
       "    }\n",
       "\n",
       "    .dataframe thead th {\n",
       "        text-align: right;\n",
       "    }\n",
       "</style>\n",
       "<table border=\"1\" class=\"dataframe\">\n",
       "  <thead>\n",
       "    <tr style=\"text-align: right;\">\n",
       "      <th></th>\n",
       "      <th>doc_id</th>\n",
       "      <th>raw</th>\n",
       "      <th>100</th>\n",
       "      <th>101</th>\n",
       "      <th>102</th>\n",
       "      <th>103</th>\n",
       "      <th>104</th>\n",
       "      <th>105</th>\n",
       "      <th>106</th>\n",
       "      <th>107</th>\n",
       "      <th>108</th>\n",
       "      <th>109</th>\n",
       "    </tr>\n",
       "  </thead>\n",
       "  <tbody>\n",
       "    <tr>\n",
       "      <th>0</th>\n",
       "      <td>129207</td>\n",
       "      <td>FW: Citizens Days and Their Importance/Success...</td>\n",
       "      <td>False</td>\n",
       "      <td>False</td>\n",
       "      <td>False</td>\n",
       "      <td>False</td>\n",
       "      <td>False</td>\n",
       "      <td>False</td>\n",
       "      <td>False</td>\n",
       "      <td>False</td>\n",
       "      <td>False</td>\n",
       "      <td>False</td>\n",
       "    </tr>\n",
       "    <tr>\n",
       "      <th>1</th>\n",
       "      <td>129135</td>\n",
       "      <td>re: mary matalin From:Jeb Bush Sent:Saturday, ...</td>\n",
       "      <td>False</td>\n",
       "      <td>False</td>\n",
       "      <td>False</td>\n",
       "      <td>False</td>\n",
       "      <td>False</td>\n",
       "      <td>False</td>\n",
       "      <td>False</td>\n",
       "      <td>False</td>\n",
       "      <td>False</td>\n",
       "      <td>False</td>\n",
       "    </tr>\n",
       "    <tr>\n",
       "      <th>2</th>\n",
       "      <td>129266</td>\n",
       "      <td>RE: Hello Gov From:Muniz, Katie Katie.MunizMyF...</td>\n",
       "      <td>False</td>\n",
       "      <td>False</td>\n",
       "      <td>False</td>\n",
       "      <td>False</td>\n",
       "      <td>False</td>\n",
       "      <td>False</td>\n",
       "      <td>False</td>\n",
       "      <td>False</td>\n",
       "      <td>False</td>\n",
       "      <td>False</td>\n",
       "    </tr>\n",
       "    <tr>\n",
       "      <th>3</th>\n",
       "      <td>128869</td>\n",
       "      <td>RE: Meeting with the Governor From:Dana, Pam p...</td>\n",
       "      <td>False</td>\n",
       "      <td>False</td>\n",
       "      <td>False</td>\n",
       "      <td>False</td>\n",
       "      <td>False</td>\n",
       "      <td>False</td>\n",
       "      <td>False</td>\n",
       "      <td>False</td>\n",
       "      <td>False</td>\n",
       "      <td>False</td>\n",
       "    </tr>\n",
       "    <tr>\n",
       "      <th>4</th>\n",
       "      <td>129095</td>\n",
       "      <td>Status of Inquiry Into Corrupt Practices in Ba...</td>\n",
       "      <td>False</td>\n",
       "      <td>False</td>\n",
       "      <td>False</td>\n",
       "      <td>False</td>\n",
       "      <td>False</td>\n",
       "      <td>False</td>\n",
       "      <td>False</td>\n",
       "      <td>False</td>\n",
       "      <td>False</td>\n",
       "      <td>False</td>\n",
       "    </tr>\n",
       "    <tr>\n",
       "      <th>...</th>\n",
       "      <td>...</td>\n",
       "      <td>...</td>\n",
       "      <td>...</td>\n",
       "      <td>...</td>\n",
       "      <td>...</td>\n",
       "      <td>...</td>\n",
       "      <td>...</td>\n",
       "      <td>...</td>\n",
       "      <td>...</td>\n",
       "      <td>...</td>\n",
       "      <td>...</td>\n",
       "      <td>...</td>\n",
       "    </tr>\n",
       "    <tr>\n",
       "      <th>290094</th>\n",
       "      <td>224819</td>\n",
       "      <td>Fw: CARD funding for Autism From:JEANNE KURANI...</td>\n",
       "      <td>False</td>\n",
       "      <td>False</td>\n",
       "      <td>False</td>\n",
       "      <td>False</td>\n",
       "      <td>False</td>\n",
       "      <td>False</td>\n",
       "      <td>False</td>\n",
       "      <td>False</td>\n",
       "      <td>False</td>\n",
       "      <td>False</td>\n",
       "    </tr>\n",
       "    <tr>\n",
       "      <th>290095</th>\n",
       "      <td>223642</td>\n",
       "      <td>Gaetz article From:Gilley, Janice Janice.Gille...</td>\n",
       "      <td>True</td>\n",
       "      <td>False</td>\n",
       "      <td>False</td>\n",
       "      <td>False</td>\n",
       "      <td>False</td>\n",
       "      <td>False</td>\n",
       "      <td>False</td>\n",
       "      <td>False</td>\n",
       "      <td>False</td>\n",
       "      <td>False</td>\n",
       "    </tr>\n",
       "    <tr>\n",
       "      <th>290096</th>\n",
       "      <td>226261</td>\n",
       "      <td>From:Levesque, Patricia Patricia.LevesqueMyFl...</td>\n",
       "      <td>False</td>\n",
       "      <td>False</td>\n",
       "      <td>False</td>\n",
       "      <td>False</td>\n",
       "      <td>False</td>\n",
       "      <td>False</td>\n",
       "      <td>False</td>\n",
       "      <td>False</td>\n",
       "      <td>False</td>\n",
       "      <td>False</td>\n",
       "    </tr>\n",
       "    <tr>\n",
       "      <th>290097</th>\n",
       "      <td>224582</td>\n",
       "      <td>Early Learning Coalition of Broward From:Jeb B...</td>\n",
       "      <td>False</td>\n",
       "      <td>False</td>\n",
       "      <td>False</td>\n",
       "      <td>False</td>\n",
       "      <td>False</td>\n",
       "      <td>False</td>\n",
       "      <td>False</td>\n",
       "      <td>False</td>\n",
       "      <td>False</td>\n",
       "      <td>False</td>\n",
       "    </tr>\n",
       "    <tr>\n",
       "      <th>290098</th>\n",
       "      <td>223253</td>\n",
       "      <td>Breanna Deliseo Case from D10 (Broward County)...</td>\n",
       "      <td>False</td>\n",
       "      <td>False</td>\n",
       "      <td>False</td>\n",
       "      <td>False</td>\n",
       "      <td>False</td>\n",
       "      <td>False</td>\n",
       "      <td>False</td>\n",
       "      <td>False</td>\n",
       "      <td>False</td>\n",
       "      <td>False</td>\n",
       "    </tr>\n",
       "  </tbody>\n",
       "</table>\n",
       "<p>274124 rows × 12 columns</p>\n",
       "</div>"
      ],
      "text/plain": [
       "        doc_id                                                raw    100  \\\n",
       "0       129207  FW: Citizens Days and Their Importance/Success...  False   \n",
       "1       129135  re: mary matalin From:Jeb Bush Sent:Saturday, ...  False   \n",
       "2       129266  RE: Hello Gov From:Muniz, Katie Katie.MunizMyF...  False   \n",
       "3       128869  RE: Meeting with the Governor From:Dana, Pam p...  False   \n",
       "4       129095  Status of Inquiry Into Corrupt Practices in Ba...  False   \n",
       "...        ...                                                ...    ...   \n",
       "290094  224819  Fw: CARD funding for Autism From:JEANNE KURANI...  False   \n",
       "290095  223642  Gaetz article From:Gilley, Janice Janice.Gille...   True   \n",
       "290096  226261   From:Levesque, Patricia Patricia.LevesqueMyFl...  False   \n",
       "290097  224582  Early Learning Coalition of Broward From:Jeb B...  False   \n",
       "290098  223253  Breanna Deliseo Case from D10 (Broward County)...  False   \n",
       "\n",
       "          101    102    103    104    105    106    107    108    109  \n",
       "0       False  False  False  False  False  False  False  False  False  \n",
       "1       False  False  False  False  False  False  False  False  False  \n",
       "2       False  False  False  False  False  False  False  False  False  \n",
       "3       False  False  False  False  False  False  False  False  False  \n",
       "4       False  False  False  False  False  False  False  False  False  \n",
       "...       ...    ...    ...    ...    ...    ...    ...    ...    ...  \n",
       "290094  False  False  False  False  False  False  False  False  False  \n",
       "290095  False  False  False  False  False  False  False  False  False  \n",
       "290096  False  False  False  False  False  False  False  False  False  \n",
       "290097  False  False  False  False  False  False  False  False  False  \n",
       "290098  False  False  False  False  False  False  False  False  False  \n",
       "\n",
       "[274124 rows x 12 columns]"
      ]
     },
     "execution_count": 632,
     "metadata": {},
     "output_type": "execute_result"
    }
   ],
   "source": [
    "df_info"
   ]
  },
  {
   "cell_type": "code",
   "execution_count": 660,
   "id": "8a6e9706-72d6-4c45-9eb1-dac144671323",
   "metadata": {},
   "outputs": [],
   "source": [
    "rel_info = df_info.copy()"
   ]
  },
  {
   "cell_type": "code",
   "execution_count": 687,
   "id": "62a125fc-4d77-44c0-9961-230e33b0e252",
   "metadata": {},
   "outputs": [
    {
     "name": "stderr",
     "output_type": "stream",
     "text": [
      "274124it [03:39, 1247.98it/s]\n"
     ]
    }
   ],
   "source": [
    "for row in tqdm(df_info.itertuples()):\n",
    "    for topic in athome4.keys():\n",
    "        if row.doc_id in athome4[topic].keys():\n",
    "            if athome4[topic][row.doc_id] == \"0\":\n",
    "                df_info.loc[row.Index, topic] = False # 0 > F\n",
    "            else:\n",
    "                df_info.loc[row.Index, topic] = True # 1,2 > T\n",
    "        else:\n",
    "            df_info.loc[row.Index, topic] = False\n",
    "        #print(row.Index, row.doc_id)"
   ]
  },
  {
   "cell_type": "code",
   "execution_count": 884,
   "id": "03854ad8-1e10-4484-83d2-9b3bd5cdb931",
   "metadata": {},
   "outputs": [],
   "source": [
    "df_dedul = df_dedul.drop(['410', '411', '412', '413', '414', '415', '416', '417',\n",
    "       '418', '424', '425', '426', '427', '428', '434'],axis=1)"
   ]
  },
  {
   "cell_type": "code",
   "execution_count": 885,
   "id": "afee37fe-c43c-4c9f-921b-634c4fe58194",
   "metadata": {},
   "outputs": [
    {
     "data": {
      "text/html": [
       "<div>\n",
       "<style scoped>\n",
       "    .dataframe tbody tr th:only-of-type {\n",
       "        vertical-align: middle;\n",
       "    }\n",
       "\n",
       "    .dataframe tbody tr th {\n",
       "        vertical-align: top;\n",
       "    }\n",
       "\n",
       "    .dataframe thead th {\n",
       "        text-align: right;\n",
       "    }\n",
       "</style>\n",
       "<table border=\"1\" class=\"dataframe\">\n",
       "  <thead>\n",
       "    <tr style=\"text-align: right;\">\n",
       "      <th></th>\n",
       "      <th>doc_id</th>\n",
       "      <th>raw</th>\n",
       "      <th>100</th>\n",
       "      <th>101</th>\n",
       "      <th>102</th>\n",
       "      <th>103</th>\n",
       "      <th>104</th>\n",
       "      <th>105</th>\n",
       "      <th>106</th>\n",
       "      <th>107</th>\n",
       "      <th>108</th>\n",
       "      <th>109</th>\n",
       "    </tr>\n",
       "  </thead>\n",
       "  <tbody>\n",
       "    <tr>\n",
       "      <th>0</th>\n",
       "      <td>129207</td>\n",
       "      <td>FW: Citizens Days and Their Importance/Success...</td>\n",
       "      <td>False</td>\n",
       "      <td>False</td>\n",
       "      <td>False</td>\n",
       "      <td>False</td>\n",
       "      <td>False</td>\n",
       "      <td>False</td>\n",
       "      <td>False</td>\n",
       "      <td>False</td>\n",
       "      <td>False</td>\n",
       "      <td>False</td>\n",
       "    </tr>\n",
       "    <tr>\n",
       "      <th>1</th>\n",
       "      <td>129135</td>\n",
       "      <td>re: mary matalin From:Jeb Bush Sent:Saturday, ...</td>\n",
       "      <td>False</td>\n",
       "      <td>False</td>\n",
       "      <td>False</td>\n",
       "      <td>False</td>\n",
       "      <td>False</td>\n",
       "      <td>False</td>\n",
       "      <td>False</td>\n",
       "      <td>False</td>\n",
       "      <td>False</td>\n",
       "      <td>False</td>\n",
       "    </tr>\n",
       "    <tr>\n",
       "      <th>2</th>\n",
       "      <td>129266</td>\n",
       "      <td>RE: Hello Gov From:Muniz, Katie Katie.MunizMyF...</td>\n",
       "      <td>False</td>\n",
       "      <td>False</td>\n",
       "      <td>False</td>\n",
       "      <td>False</td>\n",
       "      <td>False</td>\n",
       "      <td>False</td>\n",
       "      <td>False</td>\n",
       "      <td>False</td>\n",
       "      <td>False</td>\n",
       "      <td>False</td>\n",
       "    </tr>\n",
       "    <tr>\n",
       "      <th>3</th>\n",
       "      <td>128869</td>\n",
       "      <td>RE: Meeting with the Governor From:Dana, Pam p...</td>\n",
       "      <td>False</td>\n",
       "      <td>False</td>\n",
       "      <td>False</td>\n",
       "      <td>False</td>\n",
       "      <td>False</td>\n",
       "      <td>False</td>\n",
       "      <td>False</td>\n",
       "      <td>False</td>\n",
       "      <td>False</td>\n",
       "      <td>False</td>\n",
       "    </tr>\n",
       "    <tr>\n",
       "      <th>4</th>\n",
       "      <td>129095</td>\n",
       "      <td>Status of Inquiry Into Corrupt Practices in Ba...</td>\n",
       "      <td>False</td>\n",
       "      <td>False</td>\n",
       "      <td>False</td>\n",
       "      <td>False</td>\n",
       "      <td>False</td>\n",
       "      <td>False</td>\n",
       "      <td>False</td>\n",
       "      <td>False</td>\n",
       "      <td>False</td>\n",
       "      <td>False</td>\n",
       "    </tr>\n",
       "    <tr>\n",
       "      <th>...</th>\n",
       "      <td>...</td>\n",
       "      <td>...</td>\n",
       "      <td>...</td>\n",
       "      <td>...</td>\n",
       "      <td>...</td>\n",
       "      <td>...</td>\n",
       "      <td>...</td>\n",
       "      <td>...</td>\n",
       "      <td>...</td>\n",
       "      <td>...</td>\n",
       "      <td>...</td>\n",
       "      <td>...</td>\n",
       "    </tr>\n",
       "    <tr>\n",
       "      <th>290094</th>\n",
       "      <td>224819</td>\n",
       "      <td>Fw: CARD funding for Autism From:JEANNE KURANI...</td>\n",
       "      <td>False</td>\n",
       "      <td>False</td>\n",
       "      <td>False</td>\n",
       "      <td>False</td>\n",
       "      <td>False</td>\n",
       "      <td>False</td>\n",
       "      <td>False</td>\n",
       "      <td>False</td>\n",
       "      <td>False</td>\n",
       "      <td>False</td>\n",
       "    </tr>\n",
       "    <tr>\n",
       "      <th>290095</th>\n",
       "      <td>223642</td>\n",
       "      <td>Gaetz article From:Gilley, Janice Janice.Gille...</td>\n",
       "      <td>True</td>\n",
       "      <td>False</td>\n",
       "      <td>False</td>\n",
       "      <td>False</td>\n",
       "      <td>False</td>\n",
       "      <td>False</td>\n",
       "      <td>False</td>\n",
       "      <td>False</td>\n",
       "      <td>False</td>\n",
       "      <td>False</td>\n",
       "    </tr>\n",
       "    <tr>\n",
       "      <th>290096</th>\n",
       "      <td>226261</td>\n",
       "      <td>From:Levesque, Patricia Patricia.LevesqueMyFl...</td>\n",
       "      <td>False</td>\n",
       "      <td>False</td>\n",
       "      <td>False</td>\n",
       "      <td>False</td>\n",
       "      <td>False</td>\n",
       "      <td>False</td>\n",
       "      <td>False</td>\n",
       "      <td>False</td>\n",
       "      <td>False</td>\n",
       "      <td>False</td>\n",
       "    </tr>\n",
       "    <tr>\n",
       "      <th>290097</th>\n",
       "      <td>224582</td>\n",
       "      <td>Early Learning Coalition of Broward From:Jeb B...</td>\n",
       "      <td>False</td>\n",
       "      <td>False</td>\n",
       "      <td>False</td>\n",
       "      <td>False</td>\n",
       "      <td>False</td>\n",
       "      <td>False</td>\n",
       "      <td>False</td>\n",
       "      <td>False</td>\n",
       "      <td>False</td>\n",
       "      <td>False</td>\n",
       "    </tr>\n",
       "    <tr>\n",
       "      <th>290098</th>\n",
       "      <td>223253</td>\n",
       "      <td>Breanna Deliseo Case from D10 (Broward County)...</td>\n",
       "      <td>False</td>\n",
       "      <td>False</td>\n",
       "      <td>False</td>\n",
       "      <td>False</td>\n",
       "      <td>False</td>\n",
       "      <td>False</td>\n",
       "      <td>False</td>\n",
       "      <td>False</td>\n",
       "      <td>False</td>\n",
       "      <td>False</td>\n",
       "    </tr>\n",
       "  </tbody>\n",
       "</table>\n",
       "<p>274124 rows × 12 columns</p>\n",
       "</div>"
      ],
      "text/plain": [
       "        doc_id                                                raw    100  \\\n",
       "0       129207  FW: Citizens Days and Their Importance/Success...  False   \n",
       "1       129135  re: mary matalin From:Jeb Bush Sent:Saturday, ...  False   \n",
       "2       129266  RE: Hello Gov From:Muniz, Katie Katie.MunizMyF...  False   \n",
       "3       128869  RE: Meeting with the Governor From:Dana, Pam p...  False   \n",
       "4       129095  Status of Inquiry Into Corrupt Practices in Ba...  False   \n",
       "...        ...                                                ...    ...   \n",
       "290094  224819  Fw: CARD funding for Autism From:JEANNE KURANI...  False   \n",
       "290095  223642  Gaetz article From:Gilley, Janice Janice.Gille...   True   \n",
       "290096  226261   From:Levesque, Patricia Patricia.LevesqueMyFl...  False   \n",
       "290097  224582  Early Learning Coalition of Broward From:Jeb B...  False   \n",
       "290098  223253  Breanna Deliseo Case from D10 (Broward County)...  False   \n",
       "\n",
       "          101    102    103    104    105    106    107    108    109  \n",
       "0       False  False  False  False  False  False  False  False  False  \n",
       "1       False  False  False  False  False  False  False  False  False  \n",
       "2       False  False  False  False  False  False  False  False  False  \n",
       "3       False  False  False  False  False  False  False  False  False  \n",
       "4       False  False  False  False  False  False  False  False  False  \n",
       "...       ...    ...    ...    ...    ...    ...    ...    ...    ...  \n",
       "290094  False  False  False  False  False  False  False  False  False  \n",
       "290095  False  False  False  False  False  False  False  False  False  \n",
       "290096  False  False  False  False  False  False  False  False  False  \n",
       "290097  False  False  False  False  False  False  False  False  False  \n",
       "290098  False  False  False  False  False  False  False  False  False  \n",
       "\n",
       "[274124 rows x 12 columns]"
      ]
     },
     "execution_count": 885,
     "metadata": {},
     "output_type": "execute_result"
    }
   ],
   "source": [
    "df_dedul"
   ]
  },
  {
   "cell_type": "code",
   "execution_count": 886,
   "id": "2fc4bb03-ee9f-4510-bcb4-d128eaab2a24",
   "metadata": {},
   "outputs": [
    {
     "name": "stderr",
     "output_type": "stream",
     "text": [
      "274124it [03:42, 1229.98it/s]\n"
     ]
    }
   ],
   "source": [
    "for row in tqdm(df_dedul.itertuples()):\n",
    "    for topic in athome4.keys():\n",
    "        if row.doc_id in athome4[topic].keys():\n",
    "            if athome4[topic][row.doc_id] == \"0\":\n",
    "                df_dedul.loc[row.Index, topic] = False # 0 > F\n",
    "            else:\n",
    "                df_dedul.loc[row.Index, topic] = True # 1,2 > T\n",
    "        else:\n",
    "            df_dedul.loc[row.Index, topic] = False\n",
    "        #print(row.Index, row.doc_id)"
   ]
  },
  {
   "cell_type": "code",
   "execution_count": 944,
   "id": "b2df2cca-686e-4b34-b7be-334b4e29671e",
   "metadata": {},
   "outputs": [],
   "source": [
    "df_dedul = df_dedul.reset_index(drop=True)"
   ]
  },
  {
   "cell_type": "code",
   "execution_count": 945,
   "id": "0703fe88-6d56-4b52-89a7-5fb6fa705e52",
   "metadata": {},
   "outputs": [
    {
     "data": {
      "text/html": [
       "<div>\n",
       "<style scoped>\n",
       "    .dataframe tbody tr th:only-of-type {\n",
       "        vertical-align: middle;\n",
       "    }\n",
       "\n",
       "    .dataframe tbody tr th {\n",
       "        vertical-align: top;\n",
       "    }\n",
       "\n",
       "    .dataframe thead th {\n",
       "        text-align: right;\n",
       "    }\n",
       "</style>\n",
       "<table border=\"1\" class=\"dataframe\">\n",
       "  <thead>\n",
       "    <tr style=\"text-align: right;\">\n",
       "      <th></th>\n",
       "      <th>doc_id</th>\n",
       "      <th>raw</th>\n",
       "      <th>100</th>\n",
       "      <th>101</th>\n",
       "      <th>102</th>\n",
       "      <th>103</th>\n",
       "      <th>104</th>\n",
       "      <th>105</th>\n",
       "      <th>106</th>\n",
       "      <th>107</th>\n",
       "      <th>...</th>\n",
       "      <th>425</th>\n",
       "      <th>426</th>\n",
       "      <th>427</th>\n",
       "      <th>428</th>\n",
       "      <th>429</th>\n",
       "      <th>430</th>\n",
       "      <th>431</th>\n",
       "      <th>432</th>\n",
       "      <th>433</th>\n",
       "      <th>434</th>\n",
       "    </tr>\n",
       "  </thead>\n",
       "  <tbody>\n",
       "    <tr>\n",
       "      <th>0</th>\n",
       "      <td>129207</td>\n",
       "      <td>FW: Citizens Days and Their Importance/Success...</td>\n",
       "      <td>False</td>\n",
       "      <td>False</td>\n",
       "      <td>False</td>\n",
       "      <td>False</td>\n",
       "      <td>False</td>\n",
       "      <td>False</td>\n",
       "      <td>False</td>\n",
       "      <td>False</td>\n",
       "      <td>...</td>\n",
       "      <td>False</td>\n",
       "      <td>False</td>\n",
       "      <td>False</td>\n",
       "      <td>False</td>\n",
       "      <td>False</td>\n",
       "      <td>False</td>\n",
       "      <td>False</td>\n",
       "      <td>False</td>\n",
       "      <td>False</td>\n",
       "      <td>False</td>\n",
       "    </tr>\n",
       "    <tr>\n",
       "      <th>1</th>\n",
       "      <td>129135</td>\n",
       "      <td>re: mary matalin From:Jeb Bush Sent:Saturday, ...</td>\n",
       "      <td>False</td>\n",
       "      <td>False</td>\n",
       "      <td>False</td>\n",
       "      <td>False</td>\n",
       "      <td>False</td>\n",
       "      <td>False</td>\n",
       "      <td>False</td>\n",
       "      <td>False</td>\n",
       "      <td>...</td>\n",
       "      <td>False</td>\n",
       "      <td>False</td>\n",
       "      <td>False</td>\n",
       "      <td>False</td>\n",
       "      <td>False</td>\n",
       "      <td>False</td>\n",
       "      <td>False</td>\n",
       "      <td>False</td>\n",
       "      <td>False</td>\n",
       "      <td>False</td>\n",
       "    </tr>\n",
       "    <tr>\n",
       "      <th>2</th>\n",
       "      <td>129266</td>\n",
       "      <td>RE: Hello Gov From:Muniz, Katie Katie.MunizMyF...</td>\n",
       "      <td>False</td>\n",
       "      <td>False</td>\n",
       "      <td>False</td>\n",
       "      <td>False</td>\n",
       "      <td>False</td>\n",
       "      <td>False</td>\n",
       "      <td>False</td>\n",
       "      <td>False</td>\n",
       "      <td>...</td>\n",
       "      <td>False</td>\n",
       "      <td>False</td>\n",
       "      <td>False</td>\n",
       "      <td>False</td>\n",
       "      <td>False</td>\n",
       "      <td>False</td>\n",
       "      <td>False</td>\n",
       "      <td>False</td>\n",
       "      <td>False</td>\n",
       "      <td>False</td>\n",
       "    </tr>\n",
       "    <tr>\n",
       "      <th>3</th>\n",
       "      <td>128869</td>\n",
       "      <td>RE: Meeting with the Governor From:Dana, Pam p...</td>\n",
       "      <td>False</td>\n",
       "      <td>False</td>\n",
       "      <td>False</td>\n",
       "      <td>False</td>\n",
       "      <td>False</td>\n",
       "      <td>False</td>\n",
       "      <td>False</td>\n",
       "      <td>False</td>\n",
       "      <td>...</td>\n",
       "      <td>False</td>\n",
       "      <td>False</td>\n",
       "      <td>False</td>\n",
       "      <td>False</td>\n",
       "      <td>False</td>\n",
       "      <td>False</td>\n",
       "      <td>False</td>\n",
       "      <td>False</td>\n",
       "      <td>False</td>\n",
       "      <td>False</td>\n",
       "    </tr>\n",
       "    <tr>\n",
       "      <th>4</th>\n",
       "      <td>129095</td>\n",
       "      <td>Status of Inquiry Into Corrupt Practices in Ba...</td>\n",
       "      <td>False</td>\n",
       "      <td>False</td>\n",
       "      <td>False</td>\n",
       "      <td>False</td>\n",
       "      <td>False</td>\n",
       "      <td>False</td>\n",
       "      <td>False</td>\n",
       "      <td>False</td>\n",
       "      <td>...</td>\n",
       "      <td>False</td>\n",
       "      <td>False</td>\n",
       "      <td>False</td>\n",
       "      <td>False</td>\n",
       "      <td>False</td>\n",
       "      <td>False</td>\n",
       "      <td>False</td>\n",
       "      <td>False</td>\n",
       "      <td>False</td>\n",
       "      <td>False</td>\n",
       "    </tr>\n",
       "    <tr>\n",
       "      <th>...</th>\n",
       "      <td>...</td>\n",
       "      <td>...</td>\n",
       "      <td>...</td>\n",
       "      <td>...</td>\n",
       "      <td>...</td>\n",
       "      <td>...</td>\n",
       "      <td>...</td>\n",
       "      <td>...</td>\n",
       "      <td>...</td>\n",
       "      <td>...</td>\n",
       "      <td>...</td>\n",
       "      <td>...</td>\n",
       "      <td>...</td>\n",
       "      <td>...</td>\n",
       "      <td>...</td>\n",
       "      <td>...</td>\n",
       "      <td>...</td>\n",
       "      <td>...</td>\n",
       "      <td>...</td>\n",
       "      <td>...</td>\n",
       "      <td>...</td>\n",
       "    </tr>\n",
       "    <tr>\n",
       "      <th>274119</th>\n",
       "      <td>224819</td>\n",
       "      <td>Fw: CARD funding for Autism From:JEANNE KURANI...</td>\n",
       "      <td>False</td>\n",
       "      <td>False</td>\n",
       "      <td>False</td>\n",
       "      <td>False</td>\n",
       "      <td>False</td>\n",
       "      <td>False</td>\n",
       "      <td>False</td>\n",
       "      <td>False</td>\n",
       "      <td>...</td>\n",
       "      <td>False</td>\n",
       "      <td>False</td>\n",
       "      <td>False</td>\n",
       "      <td>False</td>\n",
       "      <td>False</td>\n",
       "      <td>False</td>\n",
       "      <td>False</td>\n",
       "      <td>False</td>\n",
       "      <td>False</td>\n",
       "      <td>False</td>\n",
       "    </tr>\n",
       "    <tr>\n",
       "      <th>274120</th>\n",
       "      <td>223642</td>\n",
       "      <td>Gaetz article From:Gilley, Janice Janice.Gille...</td>\n",
       "      <td>True</td>\n",
       "      <td>False</td>\n",
       "      <td>False</td>\n",
       "      <td>False</td>\n",
       "      <td>False</td>\n",
       "      <td>False</td>\n",
       "      <td>False</td>\n",
       "      <td>False</td>\n",
       "      <td>...</td>\n",
       "      <td>False</td>\n",
       "      <td>False</td>\n",
       "      <td>False</td>\n",
       "      <td>False</td>\n",
       "      <td>False</td>\n",
       "      <td>False</td>\n",
       "      <td>False</td>\n",
       "      <td>False</td>\n",
       "      <td>False</td>\n",
       "      <td>False</td>\n",
       "    </tr>\n",
       "    <tr>\n",
       "      <th>274121</th>\n",
       "      <td>226261</td>\n",
       "      <td>From:Levesque, Patricia Patricia.LevesqueMyFl...</td>\n",
       "      <td>False</td>\n",
       "      <td>False</td>\n",
       "      <td>False</td>\n",
       "      <td>False</td>\n",
       "      <td>False</td>\n",
       "      <td>False</td>\n",
       "      <td>False</td>\n",
       "      <td>False</td>\n",
       "      <td>...</td>\n",
       "      <td>False</td>\n",
       "      <td>False</td>\n",
       "      <td>False</td>\n",
       "      <td>False</td>\n",
       "      <td>False</td>\n",
       "      <td>False</td>\n",
       "      <td>False</td>\n",
       "      <td>False</td>\n",
       "      <td>False</td>\n",
       "      <td>False</td>\n",
       "    </tr>\n",
       "    <tr>\n",
       "      <th>274122</th>\n",
       "      <td>224582</td>\n",
       "      <td>Early Learning Coalition of Broward From:Jeb B...</td>\n",
       "      <td>False</td>\n",
       "      <td>False</td>\n",
       "      <td>False</td>\n",
       "      <td>False</td>\n",
       "      <td>False</td>\n",
       "      <td>False</td>\n",
       "      <td>False</td>\n",
       "      <td>False</td>\n",
       "      <td>...</td>\n",
       "      <td>False</td>\n",
       "      <td>False</td>\n",
       "      <td>False</td>\n",
       "      <td>False</td>\n",
       "      <td>False</td>\n",
       "      <td>False</td>\n",
       "      <td>False</td>\n",
       "      <td>False</td>\n",
       "      <td>False</td>\n",
       "      <td>False</td>\n",
       "    </tr>\n",
       "    <tr>\n",
       "      <th>274123</th>\n",
       "      <td>223253</td>\n",
       "      <td>Breanna Deliseo Case from D10 (Broward County)...</td>\n",
       "      <td>False</td>\n",
       "      <td>False</td>\n",
       "      <td>False</td>\n",
       "      <td>False</td>\n",
       "      <td>False</td>\n",
       "      <td>False</td>\n",
       "      <td>False</td>\n",
       "      <td>False</td>\n",
       "      <td>...</td>\n",
       "      <td>False</td>\n",
       "      <td>False</td>\n",
       "      <td>False</td>\n",
       "      <td>False</td>\n",
       "      <td>False</td>\n",
       "      <td>False</td>\n",
       "      <td>False</td>\n",
       "      <td>False</td>\n",
       "      <td>False</td>\n",
       "      <td>False</td>\n",
       "    </tr>\n",
       "  </tbody>\n",
       "</table>\n",
       "<p>274124 rows × 46 columns</p>\n",
       "</div>"
      ],
      "text/plain": [
       "        doc_id                                                raw    100  \\\n",
       "0       129207  FW: Citizens Days and Their Importance/Success...  False   \n",
       "1       129135  re: mary matalin From:Jeb Bush Sent:Saturday, ...  False   \n",
       "2       129266  RE: Hello Gov From:Muniz, Katie Katie.MunizMyF...  False   \n",
       "3       128869  RE: Meeting with the Governor From:Dana, Pam p...  False   \n",
       "4       129095  Status of Inquiry Into Corrupt Practices in Ba...  False   \n",
       "...        ...                                                ...    ...   \n",
       "274119  224819  Fw: CARD funding for Autism From:JEANNE KURANI...  False   \n",
       "274120  223642  Gaetz article From:Gilley, Janice Janice.Gille...   True   \n",
       "274121  226261   From:Levesque, Patricia Patricia.LevesqueMyFl...  False   \n",
       "274122  224582  Early Learning Coalition of Broward From:Jeb B...  False   \n",
       "274123  223253  Breanna Deliseo Case from D10 (Broward County)...  False   \n",
       "\n",
       "          101    102    103    104    105    106    107  ...    425    426  \\\n",
       "0       False  False  False  False  False  False  False  ...  False  False   \n",
       "1       False  False  False  False  False  False  False  ...  False  False   \n",
       "2       False  False  False  False  False  False  False  ...  False  False   \n",
       "3       False  False  False  False  False  False  False  ...  False  False   \n",
       "4       False  False  False  False  False  False  False  ...  False  False   \n",
       "...       ...    ...    ...    ...    ...    ...    ...  ...    ...    ...   \n",
       "274119  False  False  False  False  False  False  False  ...  False  False   \n",
       "274120  False  False  False  False  False  False  False  ...  False  False   \n",
       "274121  False  False  False  False  False  False  False  ...  False  False   \n",
       "274122  False  False  False  False  False  False  False  ...  False  False   \n",
       "274123  False  False  False  False  False  False  False  ...  False  False   \n",
       "\n",
       "          427    428    429    430    431    432    433    434  \n",
       "0       False  False  False  False  False  False  False  False  \n",
       "1       False  False  False  False  False  False  False  False  \n",
       "2       False  False  False  False  False  False  False  False  \n",
       "3       False  False  False  False  False  False  False  False  \n",
       "4       False  False  False  False  False  False  False  False  \n",
       "...       ...    ...    ...    ...    ...    ...    ...    ...  \n",
       "274119  False  False  False  False  False  False  False  False  \n",
       "274120  False  False  False  False  False  False  False  False  \n",
       "274121  False  False  False  False  False  False  False  False  \n",
       "274122  False  False  False  False  False  False  False  False  \n",
       "274123  False  False  False  False  False  False  False  False  \n",
       "\n",
       "[274124 rows x 46 columns]"
      ]
     },
     "execution_count": 945,
     "metadata": {},
     "output_type": "execute_result"
    }
   ],
   "source": [
    "df_dedul"
   ]
  },
  {
   "cell_type": "code",
   "execution_count": 946,
   "id": "3f5d345e-7bf2-4036-8b23-55af302d892b",
   "metadata": {},
   "outputs": [],
   "source": [
    "df_dedul.to_csv(\"./jb.csv\")"
   ]
  },
  {
   "cell_type": "code",
   "execution_count": 947,
   "id": "feadb489-e37e-444c-9a08-39106c38199b",
   "metadata": {},
   "outputs": [],
   "source": [
    "down_sampled_df = df_dedul.sample(frac=0.5,random_state=123,axis=0)"
   ]
  },
  {
   "cell_type": "code",
   "execution_count": 960,
   "id": "e0d2bb60-55b7-421e-8325-7bc2f56ad3d9",
   "metadata": {},
   "outputs": [],
   "source": [
    "down_sampled_df.reset_index(drop=True,inplace=True)"
   ]
  },
  {
   "cell_type": "code",
   "execution_count": 961,
   "id": "295283ee-2e34-4f0f-a143-1cbc1bb0cdcf",
   "metadata": {},
   "outputs": [
    {
     "data": {
      "text/html": [
       "<div>\n",
       "<style scoped>\n",
       "    .dataframe tbody tr th:only-of-type {\n",
       "        vertical-align: middle;\n",
       "    }\n",
       "\n",
       "    .dataframe tbody tr th {\n",
       "        vertical-align: top;\n",
       "    }\n",
       "\n",
       "    .dataframe thead th {\n",
       "        text-align: right;\n",
       "    }\n",
       "</style>\n",
       "<table border=\"1\" class=\"dataframe\">\n",
       "  <thead>\n",
       "    <tr style=\"text-align: right;\">\n",
       "      <th></th>\n",
       "      <th>doc_id</th>\n",
       "      <th>raw</th>\n",
       "      <th>100</th>\n",
       "      <th>101</th>\n",
       "      <th>102</th>\n",
       "      <th>103</th>\n",
       "      <th>104</th>\n",
       "      <th>105</th>\n",
       "      <th>106</th>\n",
       "      <th>107</th>\n",
       "      <th>...</th>\n",
       "      <th>425</th>\n",
       "      <th>426</th>\n",
       "      <th>427</th>\n",
       "      <th>428</th>\n",
       "      <th>429</th>\n",
       "      <th>430</th>\n",
       "      <th>431</th>\n",
       "      <th>432</th>\n",
       "      <th>433</th>\n",
       "      <th>434</th>\n",
       "    </tr>\n",
       "  </thead>\n",
       "  <tbody>\n",
       "    <tr>\n",
       "      <th>0</th>\n",
       "      <td>266204</td>\n",
       "      <td>The 8th Annual Family Cafe Conference host sit...</td>\n",
       "      <td>False</td>\n",
       "      <td>False</td>\n",
       "      <td>False</td>\n",
       "      <td>False</td>\n",
       "      <td>False</td>\n",
       "      <td>False</td>\n",
       "      <td>False</td>\n",
       "      <td>False</td>\n",
       "      <td>...</td>\n",
       "      <td>False</td>\n",
       "      <td>False</td>\n",
       "      <td>False</td>\n",
       "      <td>False</td>\n",
       "      <td>False</td>\n",
       "      <td>False</td>\n",
       "      <td>False</td>\n",
       "      <td>False</td>\n",
       "      <td>False</td>\n",
       "      <td>False</td>\n",
       "    </tr>\n",
       "    <tr>\n",
       "      <th>1</th>\n",
       "      <td>096709</td>\n",
       "      <td>SGAspecial Tourism Committee From:Jeb Bush jeb...</td>\n",
       "      <td>False</td>\n",
       "      <td>False</td>\n",
       "      <td>False</td>\n",
       "      <td>False</td>\n",
       "      <td>False</td>\n",
       "      <td>False</td>\n",
       "      <td>False</td>\n",
       "      <td>False</td>\n",
       "      <td>...</td>\n",
       "      <td>False</td>\n",
       "      <td>False</td>\n",
       "      <td>False</td>\n",
       "      <td>False</td>\n",
       "      <td>False</td>\n",
       "      <td>False</td>\n",
       "      <td>False</td>\n",
       "      <td>False</td>\n",
       "      <td>False</td>\n",
       "      <td>False</td>\n",
       "    </tr>\n",
       "    <tr>\n",
       "      <th>2</th>\n",
       "      <td>161569</td>\n",
       "      <td>NYTimes.com Article: OpEd Columnist: Hide and ...</td>\n",
       "      <td>False</td>\n",
       "      <td>False</td>\n",
       "      <td>False</td>\n",
       "      <td>False</td>\n",
       "      <td>False</td>\n",
       "      <td>False</td>\n",
       "      <td>False</td>\n",
       "      <td>False</td>\n",
       "      <td>...</td>\n",
       "      <td>False</td>\n",
       "      <td>False</td>\n",
       "      <td>False</td>\n",
       "      <td>False</td>\n",
       "      <td>False</td>\n",
       "      <td>False</td>\n",
       "      <td>False</td>\n",
       "      <td>False</td>\n",
       "      <td>False</td>\n",
       "      <td>False</td>\n",
       "    </tr>\n",
       "    <tr>\n",
       "      <th>3</th>\n",
       "      <td>161492</td>\n",
       "      <td>Weekly briefing From:Young, Jennie(DMS) Jennie...</td>\n",
       "      <td>False</td>\n",
       "      <td>False</td>\n",
       "      <td>False</td>\n",
       "      <td>False</td>\n",
       "      <td>False</td>\n",
       "      <td>False</td>\n",
       "      <td>False</td>\n",
       "      <td>False</td>\n",
       "      <td>...</td>\n",
       "      <td>False</td>\n",
       "      <td>False</td>\n",
       "      <td>False</td>\n",
       "      <td>False</td>\n",
       "      <td>False</td>\n",
       "      <td>False</td>\n",
       "      <td>False</td>\n",
       "      <td>False</td>\n",
       "      <td>False</td>\n",
       "      <td>False</td>\n",
       "    </tr>\n",
       "    <tr>\n",
       "      <th>4</th>\n",
       "      <td>144880</td>\n",
       "      <td>Florida Board of Medicine From:Jeb Bush Sent:S...</td>\n",
       "      <td>False</td>\n",
       "      <td>False</td>\n",
       "      <td>False</td>\n",
       "      <td>False</td>\n",
       "      <td>False</td>\n",
       "      <td>False</td>\n",
       "      <td>False</td>\n",
       "      <td>False</td>\n",
       "      <td>...</td>\n",
       "      <td>False</td>\n",
       "      <td>False</td>\n",
       "      <td>False</td>\n",
       "      <td>False</td>\n",
       "      <td>False</td>\n",
       "      <td>False</td>\n",
       "      <td>False</td>\n",
       "      <td>False</td>\n",
       "      <td>False</td>\n",
       "      <td>False</td>\n",
       "    </tr>\n",
       "    <tr>\n",
       "      <th>...</th>\n",
       "      <td>...</td>\n",
       "      <td>...</td>\n",
       "      <td>...</td>\n",
       "      <td>...</td>\n",
       "      <td>...</td>\n",
       "      <td>...</td>\n",
       "      <td>...</td>\n",
       "      <td>...</td>\n",
       "      <td>...</td>\n",
       "      <td>...</td>\n",
       "      <td>...</td>\n",
       "      <td>...</td>\n",
       "      <td>...</td>\n",
       "      <td>...</td>\n",
       "      <td>...</td>\n",
       "      <td>...</td>\n",
       "      <td>...</td>\n",
       "      <td>...</td>\n",
       "      <td>...</td>\n",
       "      <td>...</td>\n",
       "      <td>...</td>\n",
       "    </tr>\n",
       "    <tr>\n",
       "      <th>137057</th>\n",
       "      <td>121551</td>\n",
       "      <td>UK From:Dana, Pam pam.danamyflorida.com Sent:T...</td>\n",
       "      <td>False</td>\n",
       "      <td>False</td>\n",
       "      <td>False</td>\n",
       "      <td>False</td>\n",
       "      <td>False</td>\n",
       "      <td>False</td>\n",
       "      <td>False</td>\n",
       "      <td>False</td>\n",
       "      <td>...</td>\n",
       "      <td>False</td>\n",
       "      <td>False</td>\n",
       "      <td>False</td>\n",
       "      <td>False</td>\n",
       "      <td>False</td>\n",
       "      <td>False</td>\n",
       "      <td>False</td>\n",
       "      <td>False</td>\n",
       "      <td>False</td>\n",
       "      <td>False</td>\n",
       "    </tr>\n",
       "    <tr>\n",
       "      <th>137058</th>\n",
       "      <td>023424</td>\n",
       "      <td>Money Saving Tips From:Jeb Bush jebjeb.org Sen...</td>\n",
       "      <td>False</td>\n",
       "      <td>False</td>\n",
       "      <td>False</td>\n",
       "      <td>False</td>\n",
       "      <td>False</td>\n",
       "      <td>False</td>\n",
       "      <td>False</td>\n",
       "      <td>False</td>\n",
       "      <td>...</td>\n",
       "      <td>False</td>\n",
       "      <td>False</td>\n",
       "      <td>False</td>\n",
       "      <td>False</td>\n",
       "      <td>False</td>\n",
       "      <td>False</td>\n",
       "      <td>False</td>\n",
       "      <td>False</td>\n",
       "      <td>False</td>\n",
       "      <td>False</td>\n",
       "    </tr>\n",
       "    <tr>\n",
       "      <th>137059</th>\n",
       "      <td>278934</td>\n",
       "      <td>Alenia/Giuseppe Giordo From:Jeb Bush Sent:Satu...</td>\n",
       "      <td>False</td>\n",
       "      <td>False</td>\n",
       "      <td>False</td>\n",
       "      <td>False</td>\n",
       "      <td>False</td>\n",
       "      <td>False</td>\n",
       "      <td>False</td>\n",
       "      <td>False</td>\n",
       "      <td>...</td>\n",
       "      <td>False</td>\n",
       "      <td>False</td>\n",
       "      <td>False</td>\n",
       "      <td>False</td>\n",
       "      <td>False</td>\n",
       "      <td>False</td>\n",
       "      <td>False</td>\n",
       "      <td>False</td>\n",
       "      <td>False</td>\n",
       "      <td>False</td>\n",
       "    </tr>\n",
       "    <tr>\n",
       "      <th>137060</th>\n",
       "      <td>264753</td>\n",
       "      <td>Hurricane prepareness From:Kennedy, Art wimpma...</td>\n",
       "      <td>False</td>\n",
       "      <td>False</td>\n",
       "      <td>False</td>\n",
       "      <td>False</td>\n",
       "      <td>False</td>\n",
       "      <td>False</td>\n",
       "      <td>False</td>\n",
       "      <td>False</td>\n",
       "      <td>...</td>\n",
       "      <td>False</td>\n",
       "      <td>False</td>\n",
       "      <td>False</td>\n",
       "      <td>False</td>\n",
       "      <td>False</td>\n",
       "      <td>False</td>\n",
       "      <td>False</td>\n",
       "      <td>False</td>\n",
       "      <td>False</td>\n",
       "      <td>False</td>\n",
       "    </tr>\n",
       "    <tr>\n",
       "      <th>137061</th>\n",
       "      <td>103386</td>\n",
       "      <td>I have a question? From:Nora Hall hall.norawor...</td>\n",
       "      <td>False</td>\n",
       "      <td>False</td>\n",
       "      <td>False</td>\n",
       "      <td>False</td>\n",
       "      <td>False</td>\n",
       "      <td>False</td>\n",
       "      <td>False</td>\n",
       "      <td>False</td>\n",
       "      <td>...</td>\n",
       "      <td>False</td>\n",
       "      <td>False</td>\n",
       "      <td>False</td>\n",
       "      <td>False</td>\n",
       "      <td>False</td>\n",
       "      <td>False</td>\n",
       "      <td>False</td>\n",
       "      <td>False</td>\n",
       "      <td>False</td>\n",
       "      <td>False</td>\n",
       "    </tr>\n",
       "  </tbody>\n",
       "</table>\n",
       "<p>137062 rows × 46 columns</p>\n",
       "</div>"
      ],
      "text/plain": [
       "        doc_id                                                raw    100  \\\n",
       "0       266204  The 8th Annual Family Cafe Conference host sit...  False   \n",
       "1       096709  SGAspecial Tourism Committee From:Jeb Bush jeb...  False   \n",
       "2       161569  NYTimes.com Article: OpEd Columnist: Hide and ...  False   \n",
       "3       161492  Weekly briefing From:Young, Jennie(DMS) Jennie...  False   \n",
       "4       144880  Florida Board of Medicine From:Jeb Bush Sent:S...  False   \n",
       "...        ...                                                ...    ...   \n",
       "137057  121551  UK From:Dana, Pam pam.danamyflorida.com Sent:T...  False   \n",
       "137058  023424  Money Saving Tips From:Jeb Bush jebjeb.org Sen...  False   \n",
       "137059  278934  Alenia/Giuseppe Giordo From:Jeb Bush Sent:Satu...  False   \n",
       "137060  264753  Hurricane prepareness From:Kennedy, Art wimpma...  False   \n",
       "137061  103386  I have a question? From:Nora Hall hall.norawor...  False   \n",
       "\n",
       "          101    102    103    104    105    106    107  ...    425    426  \\\n",
       "0       False  False  False  False  False  False  False  ...  False  False   \n",
       "1       False  False  False  False  False  False  False  ...  False  False   \n",
       "2       False  False  False  False  False  False  False  ...  False  False   \n",
       "3       False  False  False  False  False  False  False  ...  False  False   \n",
       "4       False  False  False  False  False  False  False  ...  False  False   \n",
       "...       ...    ...    ...    ...    ...    ...    ...  ...    ...    ...   \n",
       "137057  False  False  False  False  False  False  False  ...  False  False   \n",
       "137058  False  False  False  False  False  False  False  ...  False  False   \n",
       "137059  False  False  False  False  False  False  False  ...  False  False   \n",
       "137060  False  False  False  False  False  False  False  ...  False  False   \n",
       "137061  False  False  False  False  False  False  False  ...  False  False   \n",
       "\n",
       "          427    428    429    430    431    432    433    434  \n",
       "0       False  False  False  False  False  False  False  False  \n",
       "1       False  False  False  False  False  False  False  False  \n",
       "2       False  False  False  False  False  False  False  False  \n",
       "3       False  False  False  False  False  False  False  False  \n",
       "4       False  False  False  False  False  False  False  False  \n",
       "...       ...    ...    ...    ...    ...    ...    ...    ...  \n",
       "137057  False  False  False  False  False  False  False  False  \n",
       "137058  False  False  False  False  False  False  False  False  \n",
       "137059  False  False  False  False  False  False  False  False  \n",
       "137060  False  False  False  False  False  False  False  False  \n",
       "137061  False  False  False  False  False  False  False  False  \n",
       "\n",
       "[137062 rows x 46 columns]"
      ]
     },
     "execution_count": 961,
     "metadata": {},
     "output_type": "execute_result"
    }
   ],
   "source": [
    "down_sampled_df"
   ]
  },
  {
   "cell_type": "code",
   "execution_count": 962,
   "id": "1794349f-6621-4c53-a62d-5a69411b56bb",
   "metadata": {},
   "outputs": [],
   "source": [
    "down_sampled_df.to_csv(\"./down_sampled.csv\")"
   ]
  },
  {
   "cell_type": "code",
   "execution_count": 949,
   "id": "5161d099-d3d6-45ca-9398-30e4b064a02a",
   "metadata": {},
   "outputs": [],
   "source": [
    "raw_text = df_dedul[[\"doc_id\",\"raw\"]]"
   ]
  },
  {
   "cell_type": "code",
   "execution_count": 950,
   "id": "8ab52a44-19ff-4fa6-a439-d921b6da7cb9",
   "metadata": {},
   "outputs": [
    {
     "data": {
      "text/html": [
       "<div>\n",
       "<style scoped>\n",
       "    .dataframe tbody tr th:only-of-type {\n",
       "        vertical-align: middle;\n",
       "    }\n",
       "\n",
       "    .dataframe tbody tr th {\n",
       "        vertical-align: top;\n",
       "    }\n",
       "\n",
       "    .dataframe thead th {\n",
       "        text-align: right;\n",
       "    }\n",
       "</style>\n",
       "<table border=\"1\" class=\"dataframe\">\n",
       "  <thead>\n",
       "    <tr style=\"text-align: right;\">\n",
       "      <th></th>\n",
       "      <th>doc_id</th>\n",
       "      <th>raw</th>\n",
       "    </tr>\n",
       "  </thead>\n",
       "  <tbody>\n",
       "    <tr>\n",
       "      <th>0</th>\n",
       "      <td>129207</td>\n",
       "      <td>FW: Citizens Days and Their Importance/Success...</td>\n",
       "    </tr>\n",
       "    <tr>\n",
       "      <th>1</th>\n",
       "      <td>129135</td>\n",
       "      <td>re: mary matalin From:Jeb Bush Sent:Saturday, ...</td>\n",
       "    </tr>\n",
       "    <tr>\n",
       "      <th>2</th>\n",
       "      <td>129266</td>\n",
       "      <td>RE: Hello Gov From:Muniz, Katie Katie.MunizMyF...</td>\n",
       "    </tr>\n",
       "    <tr>\n",
       "      <th>3</th>\n",
       "      <td>128869</td>\n",
       "      <td>RE: Meeting with the Governor From:Dana, Pam p...</td>\n",
       "    </tr>\n",
       "    <tr>\n",
       "      <th>4</th>\n",
       "      <td>129095</td>\n",
       "      <td>Status of Inquiry Into Corrupt Practices in Ba...</td>\n",
       "    </tr>\n",
       "    <tr>\n",
       "      <th>...</th>\n",
       "      <td>...</td>\n",
       "      <td>...</td>\n",
       "    </tr>\n",
       "    <tr>\n",
       "      <th>274119</th>\n",
       "      <td>224819</td>\n",
       "      <td>Fw: CARD funding for Autism From:JEANNE KURANI...</td>\n",
       "    </tr>\n",
       "    <tr>\n",
       "      <th>274120</th>\n",
       "      <td>223642</td>\n",
       "      <td>Gaetz article From:Gilley, Janice Janice.Gille...</td>\n",
       "    </tr>\n",
       "    <tr>\n",
       "      <th>274121</th>\n",
       "      <td>226261</td>\n",
       "      <td>From:Levesque, Patricia Patricia.LevesqueMyFl...</td>\n",
       "    </tr>\n",
       "    <tr>\n",
       "      <th>274122</th>\n",
       "      <td>224582</td>\n",
       "      <td>Early Learning Coalition of Broward From:Jeb B...</td>\n",
       "    </tr>\n",
       "    <tr>\n",
       "      <th>274123</th>\n",
       "      <td>223253</td>\n",
       "      <td>Breanna Deliseo Case from D10 (Broward County)...</td>\n",
       "    </tr>\n",
       "  </tbody>\n",
       "</table>\n",
       "<p>274124 rows × 2 columns</p>\n",
       "</div>"
      ],
      "text/plain": [
       "        doc_id                                                raw\n",
       "0       129207  FW: Citizens Days and Their Importance/Success...\n",
       "1       129135  re: mary matalin From:Jeb Bush Sent:Saturday, ...\n",
       "2       129266  RE: Hello Gov From:Muniz, Katie Katie.MunizMyF...\n",
       "3       128869  RE: Meeting with the Governor From:Dana, Pam p...\n",
       "4       129095  Status of Inquiry Into Corrupt Practices in Ba...\n",
       "...        ...                                                ...\n",
       "274119  224819  Fw: CARD funding for Autism From:JEANNE KURANI...\n",
       "274120  223642  Gaetz article From:Gilley, Janice Janice.Gille...\n",
       "274121  226261   From:Levesque, Patricia Patricia.LevesqueMyFl...\n",
       "274122  224582  Early Learning Coalition of Broward From:Jeb B...\n",
       "274123  223253  Breanna Deliseo Case from D10 (Broward County)...\n",
       "\n",
       "[274124 rows x 2 columns]"
      ]
     },
     "execution_count": 950,
     "metadata": {},
     "output_type": "execute_result"
    }
   ],
   "source": [
    "raw_text"
   ]
  },
  {
   "cell_type": "markdown",
   "id": "c6aaaf7e-5142-44b1-b44a-97934dc1d2eb",
   "metadata": {},
   "source": [
    "#### generate `raw_text_cleaned.pkl`"
   ]
  },
  {
   "cell_type": "code",
   "execution_count": 951,
   "id": "21f88432-2a35-4705-bbad-eb4eeb40d844",
   "metadata": {},
   "outputs": [],
   "source": [
    "raw_text.to_pickle(\"./raw_text_cleaned.pkl\")"
   ]
  },
  {
   "cell_type": "code",
   "execution_count": 952,
   "id": "81d50273-f1cf-4c2c-8477-1fee9fd9d27f",
   "metadata": {},
   "outputs": [],
   "source": [
    "rel_info = df_dedul.drop(['raw'],axis=1)"
   ]
  },
  {
   "cell_type": "code",
   "execution_count": 953,
   "id": "c0405736-e28d-4f48-bea7-bfb2f6fd1940",
   "metadata": {},
   "outputs": [
    {
     "data": {
      "text/html": [
       "<div>\n",
       "<style scoped>\n",
       "    .dataframe tbody tr th:only-of-type {\n",
       "        vertical-align: middle;\n",
       "    }\n",
       "\n",
       "    .dataframe tbody tr th {\n",
       "        vertical-align: top;\n",
       "    }\n",
       "\n",
       "    .dataframe thead th {\n",
       "        text-align: right;\n",
       "    }\n",
       "</style>\n",
       "<table border=\"1\" class=\"dataframe\">\n",
       "  <thead>\n",
       "    <tr style=\"text-align: right;\">\n",
       "      <th></th>\n",
       "      <th>doc_id</th>\n",
       "      <th>100</th>\n",
       "      <th>101</th>\n",
       "      <th>102</th>\n",
       "      <th>103</th>\n",
       "      <th>104</th>\n",
       "      <th>105</th>\n",
       "      <th>106</th>\n",
       "      <th>107</th>\n",
       "      <th>108</th>\n",
       "      <th>...</th>\n",
       "      <th>425</th>\n",
       "      <th>426</th>\n",
       "      <th>427</th>\n",
       "      <th>428</th>\n",
       "      <th>429</th>\n",
       "      <th>430</th>\n",
       "      <th>431</th>\n",
       "      <th>432</th>\n",
       "      <th>433</th>\n",
       "      <th>434</th>\n",
       "    </tr>\n",
       "  </thead>\n",
       "  <tbody>\n",
       "    <tr>\n",
       "      <th>0</th>\n",
       "      <td>129207</td>\n",
       "      <td>False</td>\n",
       "      <td>False</td>\n",
       "      <td>False</td>\n",
       "      <td>False</td>\n",
       "      <td>False</td>\n",
       "      <td>False</td>\n",
       "      <td>False</td>\n",
       "      <td>False</td>\n",
       "      <td>False</td>\n",
       "      <td>...</td>\n",
       "      <td>False</td>\n",
       "      <td>False</td>\n",
       "      <td>False</td>\n",
       "      <td>False</td>\n",
       "      <td>False</td>\n",
       "      <td>False</td>\n",
       "      <td>False</td>\n",
       "      <td>False</td>\n",
       "      <td>False</td>\n",
       "      <td>False</td>\n",
       "    </tr>\n",
       "    <tr>\n",
       "      <th>1</th>\n",
       "      <td>129135</td>\n",
       "      <td>False</td>\n",
       "      <td>False</td>\n",
       "      <td>False</td>\n",
       "      <td>False</td>\n",
       "      <td>False</td>\n",
       "      <td>False</td>\n",
       "      <td>False</td>\n",
       "      <td>False</td>\n",
       "      <td>False</td>\n",
       "      <td>...</td>\n",
       "      <td>False</td>\n",
       "      <td>False</td>\n",
       "      <td>False</td>\n",
       "      <td>False</td>\n",
       "      <td>False</td>\n",
       "      <td>False</td>\n",
       "      <td>False</td>\n",
       "      <td>False</td>\n",
       "      <td>False</td>\n",
       "      <td>False</td>\n",
       "    </tr>\n",
       "    <tr>\n",
       "      <th>2</th>\n",
       "      <td>129266</td>\n",
       "      <td>False</td>\n",
       "      <td>False</td>\n",
       "      <td>False</td>\n",
       "      <td>False</td>\n",
       "      <td>False</td>\n",
       "      <td>False</td>\n",
       "      <td>False</td>\n",
       "      <td>False</td>\n",
       "      <td>False</td>\n",
       "      <td>...</td>\n",
       "      <td>False</td>\n",
       "      <td>False</td>\n",
       "      <td>False</td>\n",
       "      <td>False</td>\n",
       "      <td>False</td>\n",
       "      <td>False</td>\n",
       "      <td>False</td>\n",
       "      <td>False</td>\n",
       "      <td>False</td>\n",
       "      <td>False</td>\n",
       "    </tr>\n",
       "    <tr>\n",
       "      <th>3</th>\n",
       "      <td>128869</td>\n",
       "      <td>False</td>\n",
       "      <td>False</td>\n",
       "      <td>False</td>\n",
       "      <td>False</td>\n",
       "      <td>False</td>\n",
       "      <td>False</td>\n",
       "      <td>False</td>\n",
       "      <td>False</td>\n",
       "      <td>False</td>\n",
       "      <td>...</td>\n",
       "      <td>False</td>\n",
       "      <td>False</td>\n",
       "      <td>False</td>\n",
       "      <td>False</td>\n",
       "      <td>False</td>\n",
       "      <td>False</td>\n",
       "      <td>False</td>\n",
       "      <td>False</td>\n",
       "      <td>False</td>\n",
       "      <td>False</td>\n",
       "    </tr>\n",
       "    <tr>\n",
       "      <th>4</th>\n",
       "      <td>129095</td>\n",
       "      <td>False</td>\n",
       "      <td>False</td>\n",
       "      <td>False</td>\n",
       "      <td>False</td>\n",
       "      <td>False</td>\n",
       "      <td>False</td>\n",
       "      <td>False</td>\n",
       "      <td>False</td>\n",
       "      <td>False</td>\n",
       "      <td>...</td>\n",
       "      <td>False</td>\n",
       "      <td>False</td>\n",
       "      <td>False</td>\n",
       "      <td>False</td>\n",
       "      <td>False</td>\n",
       "      <td>False</td>\n",
       "      <td>False</td>\n",
       "      <td>False</td>\n",
       "      <td>False</td>\n",
       "      <td>False</td>\n",
       "    </tr>\n",
       "    <tr>\n",
       "      <th>...</th>\n",
       "      <td>...</td>\n",
       "      <td>...</td>\n",
       "      <td>...</td>\n",
       "      <td>...</td>\n",
       "      <td>...</td>\n",
       "      <td>...</td>\n",
       "      <td>...</td>\n",
       "      <td>...</td>\n",
       "      <td>...</td>\n",
       "      <td>...</td>\n",
       "      <td>...</td>\n",
       "      <td>...</td>\n",
       "      <td>...</td>\n",
       "      <td>...</td>\n",
       "      <td>...</td>\n",
       "      <td>...</td>\n",
       "      <td>...</td>\n",
       "      <td>...</td>\n",
       "      <td>...</td>\n",
       "      <td>...</td>\n",
       "      <td>...</td>\n",
       "    </tr>\n",
       "    <tr>\n",
       "      <th>274119</th>\n",
       "      <td>224819</td>\n",
       "      <td>False</td>\n",
       "      <td>False</td>\n",
       "      <td>False</td>\n",
       "      <td>False</td>\n",
       "      <td>False</td>\n",
       "      <td>False</td>\n",
       "      <td>False</td>\n",
       "      <td>False</td>\n",
       "      <td>False</td>\n",
       "      <td>...</td>\n",
       "      <td>False</td>\n",
       "      <td>False</td>\n",
       "      <td>False</td>\n",
       "      <td>False</td>\n",
       "      <td>False</td>\n",
       "      <td>False</td>\n",
       "      <td>False</td>\n",
       "      <td>False</td>\n",
       "      <td>False</td>\n",
       "      <td>False</td>\n",
       "    </tr>\n",
       "    <tr>\n",
       "      <th>274120</th>\n",
       "      <td>223642</td>\n",
       "      <td>True</td>\n",
       "      <td>False</td>\n",
       "      <td>False</td>\n",
       "      <td>False</td>\n",
       "      <td>False</td>\n",
       "      <td>False</td>\n",
       "      <td>False</td>\n",
       "      <td>False</td>\n",
       "      <td>False</td>\n",
       "      <td>...</td>\n",
       "      <td>False</td>\n",
       "      <td>False</td>\n",
       "      <td>False</td>\n",
       "      <td>False</td>\n",
       "      <td>False</td>\n",
       "      <td>False</td>\n",
       "      <td>False</td>\n",
       "      <td>False</td>\n",
       "      <td>False</td>\n",
       "      <td>False</td>\n",
       "    </tr>\n",
       "    <tr>\n",
       "      <th>274121</th>\n",
       "      <td>226261</td>\n",
       "      <td>False</td>\n",
       "      <td>False</td>\n",
       "      <td>False</td>\n",
       "      <td>False</td>\n",
       "      <td>False</td>\n",
       "      <td>False</td>\n",
       "      <td>False</td>\n",
       "      <td>False</td>\n",
       "      <td>False</td>\n",
       "      <td>...</td>\n",
       "      <td>False</td>\n",
       "      <td>False</td>\n",
       "      <td>False</td>\n",
       "      <td>False</td>\n",
       "      <td>False</td>\n",
       "      <td>False</td>\n",
       "      <td>False</td>\n",
       "      <td>False</td>\n",
       "      <td>False</td>\n",
       "      <td>False</td>\n",
       "    </tr>\n",
       "    <tr>\n",
       "      <th>274122</th>\n",
       "      <td>224582</td>\n",
       "      <td>False</td>\n",
       "      <td>False</td>\n",
       "      <td>False</td>\n",
       "      <td>False</td>\n",
       "      <td>False</td>\n",
       "      <td>False</td>\n",
       "      <td>False</td>\n",
       "      <td>False</td>\n",
       "      <td>False</td>\n",
       "      <td>...</td>\n",
       "      <td>False</td>\n",
       "      <td>False</td>\n",
       "      <td>False</td>\n",
       "      <td>False</td>\n",
       "      <td>False</td>\n",
       "      <td>False</td>\n",
       "      <td>False</td>\n",
       "      <td>False</td>\n",
       "      <td>False</td>\n",
       "      <td>False</td>\n",
       "    </tr>\n",
       "    <tr>\n",
       "      <th>274123</th>\n",
       "      <td>223253</td>\n",
       "      <td>False</td>\n",
       "      <td>False</td>\n",
       "      <td>False</td>\n",
       "      <td>False</td>\n",
       "      <td>False</td>\n",
       "      <td>False</td>\n",
       "      <td>False</td>\n",
       "      <td>False</td>\n",
       "      <td>False</td>\n",
       "      <td>...</td>\n",
       "      <td>False</td>\n",
       "      <td>False</td>\n",
       "      <td>False</td>\n",
       "      <td>False</td>\n",
       "      <td>False</td>\n",
       "      <td>False</td>\n",
       "      <td>False</td>\n",
       "      <td>False</td>\n",
       "      <td>False</td>\n",
       "      <td>False</td>\n",
       "    </tr>\n",
       "  </tbody>\n",
       "</table>\n",
       "<p>274124 rows × 45 columns</p>\n",
       "</div>"
      ],
      "text/plain": [
       "        doc_id    100    101    102    103    104    105    106    107    108  \\\n",
       "0       129207  False  False  False  False  False  False  False  False  False   \n",
       "1       129135  False  False  False  False  False  False  False  False  False   \n",
       "2       129266  False  False  False  False  False  False  False  False  False   \n",
       "3       128869  False  False  False  False  False  False  False  False  False   \n",
       "4       129095  False  False  False  False  False  False  False  False  False   \n",
       "...        ...    ...    ...    ...    ...    ...    ...    ...    ...    ...   \n",
       "274119  224819  False  False  False  False  False  False  False  False  False   \n",
       "274120  223642   True  False  False  False  False  False  False  False  False   \n",
       "274121  226261  False  False  False  False  False  False  False  False  False   \n",
       "274122  224582  False  False  False  False  False  False  False  False  False   \n",
       "274123  223253  False  False  False  False  False  False  False  False  False   \n",
       "\n",
       "        ...    425    426    427    428    429    430    431    432    433  \\\n",
       "0       ...  False  False  False  False  False  False  False  False  False   \n",
       "1       ...  False  False  False  False  False  False  False  False  False   \n",
       "2       ...  False  False  False  False  False  False  False  False  False   \n",
       "3       ...  False  False  False  False  False  False  False  False  False   \n",
       "4       ...  False  False  False  False  False  False  False  False  False   \n",
       "...     ...    ...    ...    ...    ...    ...    ...    ...    ...    ...   \n",
       "274119  ...  False  False  False  False  False  False  False  False  False   \n",
       "274120  ...  False  False  False  False  False  False  False  False  False   \n",
       "274121  ...  False  False  False  False  False  False  False  False  False   \n",
       "274122  ...  False  False  False  False  False  False  False  False  False   \n",
       "274123  ...  False  False  False  False  False  False  False  False  False   \n",
       "\n",
       "          434  \n",
       "0       False  \n",
       "1       False  \n",
       "2       False  \n",
       "3       False  \n",
       "4       False  \n",
       "...       ...  \n",
       "274119  False  \n",
       "274120  False  \n",
       "274121  False  \n",
       "274122  False  \n",
       "274123  False  \n",
       "\n",
       "[274124 rows x 45 columns]"
      ]
     },
     "execution_count": 953,
     "metadata": {},
     "output_type": "execute_result"
    }
   ],
   "source": [
    "rel_info"
   ]
  },
  {
   "cell_type": "markdown",
   "id": "451eb283-ff40-4715-ae52-05027ea026f1",
   "metadata": {},
   "source": [
    "#### generate `rel_info.csv`, `rel_info.pkl`"
   ]
  },
  {
   "cell_type": "code",
   "execution_count": 954,
   "id": "4142e78f-fc77-4839-8be9-5e5ec47b190e",
   "metadata": {},
   "outputs": [],
   "source": [
    "rel_info.to_csv(\"./rel_info.csv\")\n",
    "rel_info.to_pickle(\"./rel_info.pkl\")"
   ]
  },
  {
   "cell_type": "code",
   "execution_count": 955,
   "id": "5dd2fd66-bf96-429e-8bd0-a5c67dee3fb3",
   "metadata": {},
   "outputs": [
    {
     "data": {
      "text/plain": [
       "Int64Index([147184,  38689,  54090,  52002, 238930, 131559, 187967, 132287,\n",
       "             64104, 211886,\n",
       "            ...\n",
       "            264225,  75938, 104952,  90292, 232228, 109137,  82578, 225925,\n",
       "            148266, 183218],\n",
       "           dtype='int64', length=137062)"
      ]
     },
     "execution_count": 955,
     "metadata": {},
     "output_type": "execute_result"
    }
   ],
   "source": [
    "df_dedul.sample(frac=0.5,random_state=123,axis=0).index"
   ]
  },
  {
   "cell_type": "code",
   "execution_count": 956,
   "id": "a513b54f-a1fc-47dc-a7c1-32b8ad664cea",
   "metadata": {},
   "outputs": [],
   "source": [
    "down_index = list(df_dedul.sample(frac=0.5,random_state=123,axis=0).index)"
   ]
  },
  {
   "cell_type": "code",
   "execution_count": 957,
   "id": "3cbd5d3c-fb39-468c-b66f-7ac5aa384f3b",
   "metadata": {},
   "outputs": [
    {
     "data": {
      "text/plain": [
       "RangeIndex(start=0, stop=274124, step=1)"
      ]
     },
     "execution_count": 957,
     "metadata": {},
     "output_type": "execute_result"
    }
   ],
   "source": [
    "df_dedul.index"
   ]
  },
  {
   "cell_type": "code",
   "execution_count": 958,
   "id": "61a4a7ea-f9b9-4ff7-80e8-20cd2b015c59",
   "metadata": {},
   "outputs": [
    {
     "data": {
      "text/html": [
       "<div>\n",
       "<style scoped>\n",
       "    .dataframe tbody tr th:only-of-type {\n",
       "        vertical-align: middle;\n",
       "    }\n",
       "\n",
       "    .dataframe tbody tr th {\n",
       "        vertical-align: top;\n",
       "    }\n",
       "\n",
       "    .dataframe thead th {\n",
       "        text-align: right;\n",
       "    }\n",
       "</style>\n",
       "<table border=\"1\" class=\"dataframe\">\n",
       "  <thead>\n",
       "    <tr style=\"text-align: right;\">\n",
       "      <th></th>\n",
       "      <th>doc_id</th>\n",
       "      <th>raw</th>\n",
       "      <th>100</th>\n",
       "      <th>101</th>\n",
       "      <th>102</th>\n",
       "      <th>103</th>\n",
       "      <th>104</th>\n",
       "      <th>105</th>\n",
       "      <th>106</th>\n",
       "      <th>107</th>\n",
       "      <th>...</th>\n",
       "      <th>425</th>\n",
       "      <th>426</th>\n",
       "      <th>427</th>\n",
       "      <th>428</th>\n",
       "      <th>429</th>\n",
       "      <th>430</th>\n",
       "      <th>431</th>\n",
       "      <th>432</th>\n",
       "      <th>433</th>\n",
       "      <th>434</th>\n",
       "    </tr>\n",
       "  </thead>\n",
       "  <tbody>\n",
       "    <tr>\n",
       "      <th>147184</th>\n",
       "      <td>266204</td>\n",
       "      <td>The 8th Annual Family Cafe Conference host sit...</td>\n",
       "      <td>False</td>\n",
       "      <td>False</td>\n",
       "      <td>False</td>\n",
       "      <td>False</td>\n",
       "      <td>False</td>\n",
       "      <td>False</td>\n",
       "      <td>False</td>\n",
       "      <td>False</td>\n",
       "      <td>...</td>\n",
       "      <td>False</td>\n",
       "      <td>False</td>\n",
       "      <td>False</td>\n",
       "      <td>False</td>\n",
       "      <td>False</td>\n",
       "      <td>False</td>\n",
       "      <td>False</td>\n",
       "      <td>False</td>\n",
       "      <td>False</td>\n",
       "      <td>False</td>\n",
       "    </tr>\n",
       "    <tr>\n",
       "      <th>38689</th>\n",
       "      <td>096709</td>\n",
       "      <td>SGAspecial Tourism Committee From:Jeb Bush jeb...</td>\n",
       "      <td>False</td>\n",
       "      <td>False</td>\n",
       "      <td>False</td>\n",
       "      <td>False</td>\n",
       "      <td>False</td>\n",
       "      <td>False</td>\n",
       "      <td>False</td>\n",
       "      <td>False</td>\n",
       "      <td>...</td>\n",
       "      <td>False</td>\n",
       "      <td>False</td>\n",
       "      <td>False</td>\n",
       "      <td>False</td>\n",
       "      <td>False</td>\n",
       "      <td>False</td>\n",
       "      <td>False</td>\n",
       "      <td>False</td>\n",
       "      <td>False</td>\n",
       "      <td>False</td>\n",
       "    </tr>\n",
       "    <tr>\n",
       "      <th>54090</th>\n",
       "      <td>161569</td>\n",
       "      <td>NYTimes.com Article: OpEd Columnist: Hide and ...</td>\n",
       "      <td>False</td>\n",
       "      <td>False</td>\n",
       "      <td>False</td>\n",
       "      <td>False</td>\n",
       "      <td>False</td>\n",
       "      <td>False</td>\n",
       "      <td>False</td>\n",
       "      <td>False</td>\n",
       "      <td>...</td>\n",
       "      <td>False</td>\n",
       "      <td>False</td>\n",
       "      <td>False</td>\n",
       "      <td>False</td>\n",
       "      <td>False</td>\n",
       "      <td>False</td>\n",
       "      <td>False</td>\n",
       "      <td>False</td>\n",
       "      <td>False</td>\n",
       "      <td>False</td>\n",
       "    </tr>\n",
       "    <tr>\n",
       "      <th>52002</th>\n",
       "      <td>161492</td>\n",
       "      <td>Weekly briefing From:Young, Jennie(DMS) Jennie...</td>\n",
       "      <td>False</td>\n",
       "      <td>False</td>\n",
       "      <td>False</td>\n",
       "      <td>False</td>\n",
       "      <td>False</td>\n",
       "      <td>False</td>\n",
       "      <td>False</td>\n",
       "      <td>False</td>\n",
       "      <td>...</td>\n",
       "      <td>False</td>\n",
       "      <td>False</td>\n",
       "      <td>False</td>\n",
       "      <td>False</td>\n",
       "      <td>False</td>\n",
       "      <td>False</td>\n",
       "      <td>False</td>\n",
       "      <td>False</td>\n",
       "      <td>False</td>\n",
       "      <td>False</td>\n",
       "    </tr>\n",
       "    <tr>\n",
       "      <th>238930</th>\n",
       "      <td>144880</td>\n",
       "      <td>Florida Board of Medicine From:Jeb Bush Sent:S...</td>\n",
       "      <td>False</td>\n",
       "      <td>False</td>\n",
       "      <td>False</td>\n",
       "      <td>False</td>\n",
       "      <td>False</td>\n",
       "      <td>False</td>\n",
       "      <td>False</td>\n",
       "      <td>False</td>\n",
       "      <td>...</td>\n",
       "      <td>False</td>\n",
       "      <td>False</td>\n",
       "      <td>False</td>\n",
       "      <td>False</td>\n",
       "      <td>False</td>\n",
       "      <td>False</td>\n",
       "      <td>False</td>\n",
       "      <td>False</td>\n",
       "      <td>False</td>\n",
       "      <td>False</td>\n",
       "    </tr>\n",
       "    <tr>\n",
       "      <th>...</th>\n",
       "      <td>...</td>\n",
       "      <td>...</td>\n",
       "      <td>...</td>\n",
       "      <td>...</td>\n",
       "      <td>...</td>\n",
       "      <td>...</td>\n",
       "      <td>...</td>\n",
       "      <td>...</td>\n",
       "      <td>...</td>\n",
       "      <td>...</td>\n",
       "      <td>...</td>\n",
       "      <td>...</td>\n",
       "      <td>...</td>\n",
       "      <td>...</td>\n",
       "      <td>...</td>\n",
       "      <td>...</td>\n",
       "      <td>...</td>\n",
       "      <td>...</td>\n",
       "      <td>...</td>\n",
       "      <td>...</td>\n",
       "      <td>...</td>\n",
       "    </tr>\n",
       "    <tr>\n",
       "      <th>109137</th>\n",
       "      <td>121551</td>\n",
       "      <td>UK From:Dana, Pam pam.danamyflorida.com Sent:T...</td>\n",
       "      <td>False</td>\n",
       "      <td>False</td>\n",
       "      <td>False</td>\n",
       "      <td>False</td>\n",
       "      <td>False</td>\n",
       "      <td>False</td>\n",
       "      <td>False</td>\n",
       "      <td>False</td>\n",
       "      <td>...</td>\n",
       "      <td>False</td>\n",
       "      <td>False</td>\n",
       "      <td>False</td>\n",
       "      <td>False</td>\n",
       "      <td>False</td>\n",
       "      <td>False</td>\n",
       "      <td>False</td>\n",
       "      <td>False</td>\n",
       "      <td>False</td>\n",
       "      <td>False</td>\n",
       "    </tr>\n",
       "    <tr>\n",
       "      <th>82578</th>\n",
       "      <td>023424</td>\n",
       "      <td>Money Saving Tips From:Jeb Bush jebjeb.org Sen...</td>\n",
       "      <td>False</td>\n",
       "      <td>False</td>\n",
       "      <td>False</td>\n",
       "      <td>False</td>\n",
       "      <td>False</td>\n",
       "      <td>False</td>\n",
       "      <td>False</td>\n",
       "      <td>False</td>\n",
       "      <td>...</td>\n",
       "      <td>False</td>\n",
       "      <td>False</td>\n",
       "      <td>False</td>\n",
       "      <td>False</td>\n",
       "      <td>False</td>\n",
       "      <td>False</td>\n",
       "      <td>False</td>\n",
       "      <td>False</td>\n",
       "      <td>False</td>\n",
       "      <td>False</td>\n",
       "    </tr>\n",
       "    <tr>\n",
       "      <th>225925</th>\n",
       "      <td>278934</td>\n",
       "      <td>Alenia/Giuseppe Giordo From:Jeb Bush Sent:Satu...</td>\n",
       "      <td>False</td>\n",
       "      <td>False</td>\n",
       "      <td>False</td>\n",
       "      <td>False</td>\n",
       "      <td>False</td>\n",
       "      <td>False</td>\n",
       "      <td>False</td>\n",
       "      <td>False</td>\n",
       "      <td>...</td>\n",
       "      <td>False</td>\n",
       "      <td>False</td>\n",
       "      <td>False</td>\n",
       "      <td>False</td>\n",
       "      <td>False</td>\n",
       "      <td>False</td>\n",
       "      <td>False</td>\n",
       "      <td>False</td>\n",
       "      <td>False</td>\n",
       "      <td>False</td>\n",
       "    </tr>\n",
       "    <tr>\n",
       "      <th>148266</th>\n",
       "      <td>264753</td>\n",
       "      <td>Hurricane prepareness From:Kennedy, Art wimpma...</td>\n",
       "      <td>False</td>\n",
       "      <td>False</td>\n",
       "      <td>False</td>\n",
       "      <td>False</td>\n",
       "      <td>False</td>\n",
       "      <td>False</td>\n",
       "      <td>False</td>\n",
       "      <td>False</td>\n",
       "      <td>...</td>\n",
       "      <td>False</td>\n",
       "      <td>False</td>\n",
       "      <td>False</td>\n",
       "      <td>False</td>\n",
       "      <td>False</td>\n",
       "      <td>False</td>\n",
       "      <td>False</td>\n",
       "      <td>False</td>\n",
       "      <td>False</td>\n",
       "      <td>False</td>\n",
       "    </tr>\n",
       "    <tr>\n",
       "      <th>183218</th>\n",
       "      <td>103386</td>\n",
       "      <td>I have a question? From:Nora Hall hall.norawor...</td>\n",
       "      <td>False</td>\n",
       "      <td>False</td>\n",
       "      <td>False</td>\n",
       "      <td>False</td>\n",
       "      <td>False</td>\n",
       "      <td>False</td>\n",
       "      <td>False</td>\n",
       "      <td>False</td>\n",
       "      <td>...</td>\n",
       "      <td>False</td>\n",
       "      <td>False</td>\n",
       "      <td>False</td>\n",
       "      <td>False</td>\n",
       "      <td>False</td>\n",
       "      <td>False</td>\n",
       "      <td>False</td>\n",
       "      <td>False</td>\n",
       "      <td>False</td>\n",
       "      <td>False</td>\n",
       "    </tr>\n",
       "  </tbody>\n",
       "</table>\n",
       "<p>137062 rows × 46 columns</p>\n",
       "</div>"
      ],
      "text/plain": [
       "        doc_id                                                raw    100  \\\n",
       "147184  266204  The 8th Annual Family Cafe Conference host sit...  False   \n",
       "38689   096709  SGAspecial Tourism Committee From:Jeb Bush jeb...  False   \n",
       "54090   161569  NYTimes.com Article: OpEd Columnist: Hide and ...  False   \n",
       "52002   161492  Weekly briefing From:Young, Jennie(DMS) Jennie...  False   \n",
       "238930  144880  Florida Board of Medicine From:Jeb Bush Sent:S...  False   \n",
       "...        ...                                                ...    ...   \n",
       "109137  121551  UK From:Dana, Pam pam.danamyflorida.com Sent:T...  False   \n",
       "82578   023424  Money Saving Tips From:Jeb Bush jebjeb.org Sen...  False   \n",
       "225925  278934  Alenia/Giuseppe Giordo From:Jeb Bush Sent:Satu...  False   \n",
       "148266  264753  Hurricane prepareness From:Kennedy, Art wimpma...  False   \n",
       "183218  103386  I have a question? From:Nora Hall hall.norawor...  False   \n",
       "\n",
       "          101    102    103    104    105    106    107  ...    425    426  \\\n",
       "147184  False  False  False  False  False  False  False  ...  False  False   \n",
       "38689   False  False  False  False  False  False  False  ...  False  False   \n",
       "54090   False  False  False  False  False  False  False  ...  False  False   \n",
       "52002   False  False  False  False  False  False  False  ...  False  False   \n",
       "238930  False  False  False  False  False  False  False  ...  False  False   \n",
       "...       ...    ...    ...    ...    ...    ...    ...  ...    ...    ...   \n",
       "109137  False  False  False  False  False  False  False  ...  False  False   \n",
       "82578   False  False  False  False  False  False  False  ...  False  False   \n",
       "225925  False  False  False  False  False  False  False  ...  False  False   \n",
       "148266  False  False  False  False  False  False  False  ...  False  False   \n",
       "183218  False  False  False  False  False  False  False  ...  False  False   \n",
       "\n",
       "          427    428    429    430    431    432    433    434  \n",
       "147184  False  False  False  False  False  False  False  False  \n",
       "38689   False  False  False  False  False  False  False  False  \n",
       "54090   False  False  False  False  False  False  False  False  \n",
       "52002   False  False  False  False  False  False  False  False  \n",
       "238930  False  False  False  False  False  False  False  False  \n",
       "...       ...    ...    ...    ...    ...    ...    ...    ...  \n",
       "109137  False  False  False  False  False  False  False  False  \n",
       "82578   False  False  False  False  False  False  False  False  \n",
       "225925  False  False  False  False  False  False  False  False  \n",
       "148266  False  False  False  False  False  False  False  False  \n",
       "183218  False  False  False  False  False  False  False  False  \n",
       "\n",
       "[137062 rows x 46 columns]"
      ]
     },
     "execution_count": 958,
     "metadata": {},
     "output_type": "execute_result"
    }
   ],
   "source": [
    "df_dedul.iloc[down_index]"
   ]
  },
  {
   "cell_type": "markdown",
   "id": "d4cc32cb-bef3-483f-9e76-0535f730f80e",
   "metadata": {},
   "source": [
    "#### generate `sampled-for-bertal.pkl`"
   ]
  },
  {
   "cell_type": "code",
   "execution_count": 959,
   "id": "4562582c-7257-45c5-b89e-7f9c4992504c",
   "metadata": {},
   "outputs": [
    {
     "data": {
      "text/plain": [
       "<function BufferedWriter.close>"
      ]
     },
     "execution_count": 959,
     "metadata": {},
     "output_type": "execute_result"
    }
   ],
   "source": [
    "dump_file = open(\"./sampled-for-bertal.pkl\", \"wb\")\n",
    "pickle.dump(down_index, dump_file)\n",
    "dump_file.close"
   ]
  },
  {
   "cell_type": "code",
   "execution_count": null,
   "id": "5c418691-98b7-4f9b-a5eb-b66159ffae12",
   "metadata": {},
   "outputs": [],
   "source": []
  }
 ],
 "metadata": {
  "kernelspec": {
   "display_name": "Python 3 (ipykernel)",
   "language": "python",
   "name": "python3"
  },
  "language_info": {
   "codemirror_mode": {
    "name": "ipython",
    "version": 3
   },
   "file_extension": ".py",
   "mimetype": "text/x-python",
   "name": "python",
   "nbconvert_exporter": "python",
   "pygments_lexer": "ipython3",
   "version": "3.9.12"
  }
 },
 "nbformat": 4,
 "nbformat_minor": 5
}
